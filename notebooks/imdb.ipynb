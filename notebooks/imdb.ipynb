{
 "cells": [
  {
   "cell_type": "markdown",
   "metadata": {},
   "source": [
    "Original data available at:\n",
    "https://www.kaggle.com/kaushik3497/imdb-sentiment-analysis"
   ]
  },
  {
   "cell_type": "code",
   "execution_count": 1,
   "metadata": {},
   "outputs": [],
   "source": [
    "%matplotlib inline\n",
    "import sys\n",
    "sys.path.append('../data/')"
   ]
  },
  {
   "cell_type": "code",
   "execution_count": 245,
   "metadata": {},
   "outputs": [],
   "source": [
    "from typing import Tuple, Sequence, Dict, Callable, Any, List, Pattern, Union, Iterable, overload\n",
    "import nltk\n",
    "from concurrent.futures import ProcessPoolExecutor, as_completed\n",
    "from nltk.stem import PorterStemmer, LancasterStemmer, WordNetLemmatizer\n",
    "from nltk.tokenize import TreebankWordTokenizer, PunktSentenceTokenizer\n",
    "from nltk.tag import DefaultTagger, UnigramTagger, BigramTagger\n",
    "from nltk.corpus import brown\n",
    "import re\n",
    "from pathlib import Path\n",
    "from sklearn.base import BaseEstimator\n",
    "from sklearn.base import TransformerMixin\n",
    "import csv\n",
    "import random\n",
    "import numpy as np\n",
    "import spacy\n",
    "import toolz as tz\n",
    "from pattern.en import parse\n",
    "import toolz.curried as tzc\n",
    "import pandas as pd\n",
    "import matplotlib.pyplot as plt\n",
    "\n",
    "\n",
    "import pattern\n",
    "from pattern.web import plaintext\n",
    "\n",
    "import bs4\n",
    "\n",
    "from collections import Counter, OrderedDict\n",
    "\n",
    "from gensim.models.phrases import Phrases, Phraser\n",
    "from gensim.models.fasttext import FastText\n",
    "\n",
    "import sklearn\n",
    "from sklearn.model_selection import train_test_split\n",
    "from sklearn import preprocessing as pp, feature_extraction\n",
    "from sklearn import naive_bayes, linear_model, metrics, model_selection, svm, ensemble\n",
    "from sklearn import pipeline\n",
    "from functools import partial"
   ]
  },
  {
   "cell_type": "code",
   "execution_count": 3,
   "metadata": {},
   "outputs": [],
   "source": [
    "# nlp = spacy.load('en')"
   ]
  },
  {
   "cell_type": "code",
   "execution_count": 4,
   "metadata": {},
   "outputs": [],
   "source": [
    "train_file = Path('../data/labeledTrainData.tsv')\n",
    " "
   ]
  },
  {
   "cell_type": "code",
   "execution_count": 5,
   "metadata": {},
   "outputs": [],
   "source": [
    "f = train_file.open()\n",
    "records = csv.DictReader(f, delimiter='\\t', quoting=csv.QUOTE_NONE)"
   ]
  },
  {
   "cell_type": "code",
   "execution_count": 6,
   "metadata": {},
   "outputs": [
    {
     "data": {
      "text/plain": [
       "OrderedDict([('id', '\"5814_8\"'),\n",
       "             ('sentiment', '1'),\n",
       "             ('review',\n",
       "              '\"With all this stuff going down at the moment with MJ i\\'ve started listening to his music, watching the odd documentary here and there, watched The Wiz and watched Moonwalker again. Maybe i just want to get a certain insight into this guy who i thought was really cool in the eighties just to maybe make up my mind whether he is guilty or innocent. Moonwalker is part biography, part feature film which i remember going to see at the cinema when it was originally released. Some of it has subtle messages about MJ\\'s feeling towards the press and also the obvious message of drugs are bad m\\'kay.<br /><br />Visually impressive but of course this is all about Michael Jackson so unless you remotely like MJ in anyway then you are going to hate this and find it boring. Some may call MJ an egotist for consenting to the making of this movie BUT MJ and most of his fans would say that he made it for the fans which if true is really nice of him.<br /><br />The actual feature film bit when it finally starts is only on for 20 minutes or so excluding the Smooth Criminal sequence and Joe Pesci is convincing as a psychopathic all powerful drug lord. Why he wants MJ dead so bad is beyond me. Because MJ overheard his plans? Nah, Joe Pesci\\'s character ranted that he wanted people to know it is he who is supplying drugs etc so i dunno, maybe he just hates MJ\\'s music.<br /><br />Lots of cool things in this like MJ turning into a car and a robot and the whole Speed Demon sequence. Also, the director must have had the patience of a saint when it came to filming the kiddy Bad sequence as usually directors hate working with one kid let alone a whole bunch of them performing a complex dance scene.<br /><br />Bottom line, this movie is for people who like MJ on one level or another (which i think is most people). If not, then stay away. It does try and give off a wholesome message and ironically MJ\\'s bestest buddy in this movie is a girl! Michael Jackson is truly one of the most talented people ever to grace this planet but is he guilty? Well, with all the attention i\\'ve gave this subject....hmmm well i don\\'t know because people can be different behind closed doors, i know this for a fact. He is either an extremely nice but stupid guy or one of the most sickest liars. I hope he is not the latter.\"')])"
      ]
     },
     "execution_count": 6,
     "metadata": {},
     "output_type": "execute_result"
    }
   ],
   "source": [
    "r = next(records)\n",
    "r"
   ]
  },
  {
   "cell_type": "code",
   "execution_count": 7,
   "metadata": {},
   "outputs": [],
   "source": [
    "# !head ../data/labeledTrainData.tsv"
   ]
  },
  {
   "cell_type": "code",
   "execution_count": 8,
   "metadata": {},
   "outputs": [],
   "source": [
    "raw_dataset = pd.read_csv(train_file, sep='\\t', quoting=csv.QUOTE_NONE) \n",
    "# We'll handle quotes manually.\n",
    "\n",
    "raw_train_dataset, raw_test_dataset = train_test_split(raw_dataset, test_size=0.1)"
   ]
  },
  {
   "cell_type": "code",
   "execution_count": 9,
   "metadata": {},
   "outputs": [],
   "source": [
    "# raw_train_dataset, raw_devtest_dataset = train_test_split(raw_observable_dataset, test_size=0.1)"
   ]
  },
  {
   "cell_type": "code",
   "execution_count": 10,
   "metadata": {},
   "outputs": [],
   "source": [
    "def strip_quotes_and_ids(dataset):\n",
    "    no_id_dataset = dataset.drop('id', 'columns')\n",
    "    no_id_dataset['review'] = no_id_dataset['review'].str.strip('\\\"\"')\n",
    "    return no_id_dataset\n",
    "\n"
   ]
  },
  {
   "cell_type": "code",
   "execution_count": 11,
   "metadata": {},
   "outputs": [
    {
     "data": {
      "text/html": [
       "<div>\n",
       "<style scoped>\n",
       "    .dataframe tbody tr th:only-of-type {\n",
       "        vertical-align: middle;\n",
       "    }\n",
       "\n",
       "    .dataframe tbody tr th {\n",
       "        vertical-align: top;\n",
       "    }\n",
       "\n",
       "    .dataframe thead th {\n",
       "        text-align: right;\n",
       "    }\n",
       "</style>\n",
       "<table border=\"1\" class=\"dataframe\">\n",
       "  <thead>\n",
       "    <tr style=\"text-align: right;\">\n",
       "      <th></th>\n",
       "      <th>sentiment</th>\n",
       "      <th>review</th>\n",
       "    </tr>\n",
       "  </thead>\n",
       "  <tbody>\n",
       "    <tr>\n",
       "      <th>23705</th>\n",
       "      <td>1</td>\n",
       "      <td>This movie is a ripoff of James Cain's novel, ...</td>\n",
       "    </tr>\n",
       "    <tr>\n",
       "      <th>18761</th>\n",
       "      <td>0</td>\n",
       "      <td>Trot out every stereotype and misrepresentatio...</td>\n",
       "    </tr>\n",
       "    <tr>\n",
       "      <th>20263</th>\n",
       "      <td>1</td>\n",
       "      <td>Good story and excellent animation. The influe...</td>\n",
       "    </tr>\n",
       "    <tr>\n",
       "      <th>15504</th>\n",
       "      <td>1</td>\n",
       "      <td>I saw this jolly little film at age 10/11 in 1...</td>\n",
       "    </tr>\n",
       "    <tr>\n",
       "      <th>7990</th>\n",
       "      <td>1</td>\n",
       "      <td>The film as entertainment is very good and Jim...</td>\n",
       "    </tr>\n",
       "    <tr>\n",
       "      <th>24626</th>\n",
       "      <td>1</td>\n",
       "      <td>CAT SOUP has two \\\"Hello Kitty\\\"-type kittens ...</td>\n",
       "    </tr>\n",
       "    <tr>\n",
       "      <th>6342</th>\n",
       "      <td>0</td>\n",
       "      <td>Saying this movie is extremely hard to follow ...</td>\n",
       "    </tr>\n",
       "    <tr>\n",
       "      <th>11738</th>\n",
       "      <td>0</td>\n",
       "      <td>the IMDb guidelines state that you have to dec...</td>\n",
       "    </tr>\n",
       "    <tr>\n",
       "      <th>24617</th>\n",
       "      <td>1</td>\n",
       "      <td>I think Charlotte Gainsbourg is one of the bes...</td>\n",
       "    </tr>\n",
       "    <tr>\n",
       "      <th>4558</th>\n",
       "      <td>0</td>\n",
       "      <td>To be honest I knew what to expect before I wa...</td>\n",
       "    </tr>\n",
       "  </tbody>\n",
       "</table>\n",
       "</div>"
      ],
      "text/plain": [
       "       sentiment                                             review\n",
       "23705          1  This movie is a ripoff of James Cain's novel, ...\n",
       "18761          0  Trot out every stereotype and misrepresentatio...\n",
       "20263          1  Good story and excellent animation. The influe...\n",
       "15504          1  I saw this jolly little film at age 10/11 in 1...\n",
       "7990           1  The film as entertainment is very good and Jim...\n",
       "24626          1  CAT SOUP has two \\\"Hello Kitty\\\"-type kittens ...\n",
       "6342           0  Saying this movie is extremely hard to follow ...\n",
       "11738          0  the IMDb guidelines state that you have to dec...\n",
       "24617          1  I think Charlotte Gainsbourg is one of the bes...\n",
       "4558           0  To be honest I knew what to expect before I wa..."
      ]
     },
     "execution_count": 11,
     "metadata": {},
     "output_type": "execute_result"
    }
   ],
   "source": [
    "dataset = strip_quotes_and_ids(raw_train_dataset)\n",
    "dataset.head(10)"
   ]
  },
  {
   "cell_type": "code",
   "execution_count": 12,
   "metadata": {},
   "outputs": [
    {
     "data": {
      "text/html": [
       "<div>\n",
       "<style scoped>\n",
       "    .dataframe tbody tr th:only-of-type {\n",
       "        vertical-align: middle;\n",
       "    }\n",
       "\n",
       "    .dataframe tbody tr th {\n",
       "        vertical-align: top;\n",
       "    }\n",
       "\n",
       "    .dataframe thead th {\n",
       "        text-align: right;\n",
       "    }\n",
       "</style>\n",
       "<table border=\"1\" class=\"dataframe\">\n",
       "  <thead>\n",
       "    <tr style=\"text-align: right;\">\n",
       "      <th></th>\n",
       "      <th>review</th>\n",
       "    </tr>\n",
       "    <tr>\n",
       "      <th>sentiment</th>\n",
       "      <th></th>\n",
       "    </tr>\n",
       "  </thead>\n",
       "  <tbody>\n",
       "    <tr>\n",
       "      <th>0</th>\n",
       "      <td>11243</td>\n",
       "    </tr>\n",
       "    <tr>\n",
       "      <th>1</th>\n",
       "      <td>11257</td>\n",
       "    </tr>\n",
       "  </tbody>\n",
       "</table>\n",
       "</div>"
      ],
      "text/plain": [
       "           review\n",
       "sentiment        \n",
       "0           11243\n",
       "1           11257"
      ]
     },
     "execution_count": 12,
     "metadata": {},
     "output_type": "execute_result"
    }
   ],
   "source": [
    "dataset.groupby('sentiment').count()"
   ]
  },
  {
   "cell_type": "markdown",
   "metadata": {},
   "source": [
    "The dataset is well balanced"
   ]
  },
  {
   "cell_type": "code",
   "execution_count": 13,
   "metadata": {},
   "outputs": [
    {
     "name": "stdout",
     "output_type": "stream",
     "text": [
      "count    22500.000000\n",
      "mean      1326.577556\n",
      "std       1005.272169\n",
      "min         52.000000\n",
      "25%        702.000000\n",
      "50%        979.000000\n",
      "75%       1619.000000\n",
      "max      13708.000000\n",
      "Name: review, dtype: float64\n"
     ]
    },
    {
     "data": {
      "image/png": "[encoded data removed]",
      "text/plain": [
       "<Figure size 1440x720 with 1 Axes>"
      ]
     },
     "metadata": {
      "needs_background": "light"
     },
     "output_type": "display_data"
    }
   ],
   "source": [
    "review_lengths = dataset['review'].map(len)\n",
    "fig = plt.figure(figsize=(20, 10))\n",
    "review_lengths.hist(bins=100);\n",
    "print(review_lengths.describe())"
   ]
  },
  {
   "cell_type": "code",
   "execution_count": 14,
   "metadata": {},
   "outputs": [
    {
     "name": "stdout",
     "output_type": "stream",
     "text": [
      "sentiment: 1\n",
      "Goebbels motivation in backing down was not explored. In the aftermath of Stalingrad the Reich had decided to go for 'total war'. This is referred to in the film. Part of this was to use women in the war effort, which Germany had not previously done to any great extent. An SS massacre of women would have faced Goebbels with a public relations disaster of massive proportion. His preference was to make the problem go away as quietly as possible, on the basis that the Jewish men could always be rounded up later. I understand the majority survived the war.<br /><br />His other problem was that the 'Red' Berlin had never been very enthusiastically behind the Nazi cause and had to be handled cautiously. Again a massacre of women could have cost the Nazis what mediocre level of support they had in their capital city.<br /><br />It was interesting that the majority of SS uniforms showed patches which indicated that the men wearing them were not of German nationality, but were from German origins in other countries such as Lithuania or Latvia\n"
     ]
    }
   ],
   "source": [
    "sample = dataset.sample(1)\n",
    "print(f'sentiment: {sample.values[0, 0]}')\n",
    "review = sample.values[0, 1]\n",
    "print(review)"
   ]
  },
  {
   "cell_type": "code",
   "execution_count": 15,
   "metadata": {},
   "outputs": [],
   "source": [
    "# bs4.BeautifulSoup(sample.values[0, 1]).get_text()"
   ]
  },
  {
   "cell_type": "markdown",
   "metadata": {},
   "source": [
    "Notes:\n",
    "* need to remove escaped quotes.\n",
    "* need to remove html tags\n",
    "* possibly parentheses. [ (][)}{ ]"
   ]
  },
  {
   "cell_type": "code",
   "execution_count": null,
   "metadata": {},
   "outputs": [],
   "source": []
  },
  {
   "cell_type": "code",
   "execution_count": 16,
   "metadata": {},
   "outputs": [],
   "source": [
    "import requests\n",
    "def get_raw_english_contractions():\n",
    "    resp = requests.get('https://en.wikipedia.org/wiki/Wikipedia:List_of_English_contractions')\n",
    "    soup = bs4.BeautifulSoup(resp.text)\n",
    "    table = soup.find('table', attrs={'class': 'wikitable'})\n",
    "    table.find('tbody')\n",
    "    data = []\n",
    "    for row in table.find_all('tr'):\n",
    "        cols = row.find_all('td')\n",
    "        data.append([\n",
    "            c.get_text()\\\n",
    "                .strip()\\\n",
    "                .replace(r'\\[.+\\]', '')\n",
    "            for c in cols\n",
    "        ])\n",
    "    return data\n",
    "\n",
    "def get_curated_english_contractions():\n",
    "    with open('../data/curated_contractions.csv') as f:\n",
    "        reader = csv.reader(f)\n",
    "        contractions = [row for row in reader]\n",
    "    return contractions\n",
    "        "
   ]
  },
  {
   "cell_type": "code",
   "execution_count": 17,
   "metadata": {},
   "outputs": [],
   "source": [
    "contraction_file = Path('../data/raw_contractions.csv')\n",
    "if not contraction_file.exists():\n",
    "    raw_contractions = get_raw_english_contractions()\n",
    "    with contraction_file.open('wt') as f:\n",
    "        writer = csv.writer(f)\n",
    "        writer.writerows(raw_contractions)"
   ]
  },
  {
   "cell_type": "code",
   "execution_count": 18,
   "metadata": {},
   "outputs": [],
   "source": [
    "# !cp ../data/raw_contractions.csv ../data/curated_contractions.csv"
   ]
  },
  {
   "cell_type": "code",
   "execution_count": 71,
   "metadata": {},
   "outputs": [],
   "source": [
    "QUOTES_PATTERN = [(r'\\\\\\\"|\\\\\\'', '')]\n",
    "PARENTHESIS_PATTERN = [(r'[]}{)(]', '')]\n",
    "ENGLISH_CONTRACTIONS = get_curated_english_contractions()\n",
    "\n",
    "# We manually curate the stopwords to not remove words that may indicate some form of polarity.\n",
    "STOPWORDS = [\n",
    "    'the', '.', 'a', 'and', ',', 'of', 'to', 'is', 'this', \n",
    "    'it',  'that', 'i', 'but', 'for', 'with', \n",
    "    'was', 'as', 'have', 'on', \"'s\", 'has', 'are',\n",
    "    'be', 'one', 'you', 'at', 'all', 'an', 'from', \n",
    "    'by', 'like', 'so', 'who', 'they', 'his', 'do', \n",
    "    'there', 'about', 'if',  'or', 'he', 'can', 'what',\n",
    "    'when', 'would',  'had',\n",
    "    'time', 'even', 'only', 'will',  'see', 'my', \n",
    "    'which', 'me', 'than', 'did', 'does',\n",
    "    'were', 'their', 'could', 'get', 'been', 'other',\n",
    "    'into', 'her', 'also', 'how', 'because'\n",
    "]"
   ]
  },
  {
   "cell_type": "code",
   "execution_count": 187,
   "metadata": {},
   "outputs": [],
   "source": [
    "\n",
    "\n",
    "def remove_quotes(text, pattern: Pattern = QUOTES_PATTERN):\n",
    "    '''\n",
    "    removes escaped quotes. (\\' or \\\")\n",
    "    '''\n",
    "    text = pattern.sub('', text)\n",
    "    return text\n",
    "\n",
    "def clean_html(text):\n",
    "    '''\n",
    "    removes html tags.\n",
    "    '''\n",
    "    return plaintext(text)\n",
    "\n",
    "@tz.curry\n",
    "def filter_stopwords(stopwords, tokens):\n",
    "    return tz.filter(lambda t: t not in stopwords, tokens)\n",
    "\n",
    "class RegexpReplacer:\n",
    "    def __init__(self, patterns: Sequence[Tuple[Union[str, re.Pattern], str]]):\n",
    "        self.patterns = [(re.compile(p), r) for p, r in patterns]\n",
    "    \n",
    "    def replace(self, text: str) -> str:\n",
    "        for pattern, repl in self.patterns:\n",
    "            text = pattern.sub(repl, text)\n",
    "        return text\n",
    "    \n",
    "    def __call__(self, text):\n",
    "        return self.replace(text)"
   ]
  },
  {
   "cell_type": "code",
   "execution_count": 188,
   "metadata": {},
   "outputs": [],
   "source": [
    "quote_remover = RegexpReplacer(QUOTES_PATTERN)\n",
    "parenthesis_remover = RegexpReplacer(PARENTHESIS_PATTERN)\n",
    "contraction_replacer = RegexpReplacer(ENGLISH_CONTRACTIONS)"
   ]
  },
  {
   "cell_type": "code",
   "execution_count": 189,
   "metadata": {},
   "outputs": [
    {
     "name": "stdout",
     "output_type": "stream",
     "text": [
      "\n",
      "\n",
      "QuoteRemover\n",
      "\n",
      "Goebbels motivation in backing down was not explored. In the aftermath of Stalingrad the Reich had decided to go for 'total war'. This is referred to in the film. Part of this was to use women in the war effort, which Germany had not previously done to any great extent. An SS massacre of women would have faced Goebbels with a public relations disaster of massive proportion. His preference was to make the problem go away as quietly as possible, on the basis that the Jewish men could always be rounded up later. I understand the majority survived the war.<br /><br />His other problem was that the 'Red' Berlin had never been very enthusiastically behind the Nazi cause and had to be handled cautiously. Again a massacre of women could have cost the Nazis what mediocre level of support they had in their capital city.<br /><br />It was interesting that the majority of SS uniforms showed patches which indicated that the men wearing them were not of German nationality, but were from German origins in other countries such as Lithuania or Latvia\n",
      "\n",
      "\n",
      "ParenthesisRemover\n",
      "\n",
      "Goebbels motivation in backing down was not explored. In the aftermath of Stalingrad the Reich had decided to go for 'total war'. This is referred to in the film. Part of this was to use women in the war effort, which Germany had not previously done to any great extent. An SS massacre of women would have faced Goebbels with a public relations disaster of massive proportion. His preference was to make the problem go away as quietly as possible, on the basis that the Jewish men could always be rounded up later. I understand the majority survived the war.<br /><br />His other problem was that the 'Red' Berlin had never been very enthusiastically behind the Nazi cause and had to be handled cautiously. Again a massacre of women could have cost the Nazis what mediocre level of support they had in their capital city.<br /><br />It was interesting that the majority of SS uniforms showed patches which indicated that the men wearing them were not of German nationality, but were from German origins in other countries such as Lithuania or Latvia\n",
      "\n",
      "\n",
      "ContractionReplacer\n",
      "\n",
      "Goebbels motivation in backing down was not explored. In the aftermath of Stalingrad the Reich had decided to go for 'total war'. This is referred to in the film. Part of this was to use women in the war effort, which Germany had not previously done to any great extent. An SS massacre of women would have faced Goebbels with a public relations disaster of massive proportion. His preference was to make the problem go away as quietly as possible, on the basis that the Jewish men could always be rounded up later. I understand the majority survived the war.<br /><br />His other problem was that the 'Red' Berlin had never been very enthusiastically behind the Nazi cause and had to be handled cautiously. Again a massacre of women could have cost the Nazis what mediocre level of support they had in their capital city.<br /><br />It was interesting that the majority of SS uniforms showed patches which indicated that the men wearing them were not of German nationality, but were from German origins in other countries such as Lithuania or Latvia\n",
      "\n",
      "\n",
      "CleanHtml\n",
      "\n",
      "Goebbels motivation in backing down was not explored. In the aftermath of Stalingrad the Reich had decided to go for 'total war'. This is referred to in the film. Part of this was to use women in the war effort, which Germany had not previously done to any great extent. An SS massacre of women would have faced Goebbels with a public relations disaster of massive proportion. His preference was to make the problem go away as quietly as possible, on the basis that the Jewish men could always be rounded up later. I understand the majority survived the war.\n",
      "\n",
      "His other problem was that the 'Red' Berlin had never been very enthusiastically behind the Nazi cause and had to be handled cautiously. Again a massacre of women could have cost the Nazis what mediocre level of support they had in their capital city.\n",
      "\n",
      "It was interesting that the majority of SS uniforms showed patches which indicated that the men wearing them were not of German nationality, but were from German origins in other countries such as Lithuania or Latvia\n"
     ]
    }
   ],
   "source": [
    "unquoted_review = quote_remover(review)\n",
    "print('\\n\\nQuoteRemover\\n')\n",
    "print(unquoted_review)\n",
    "\n",
    "no_parens_review = parenthesis_remover(unquoted_review)\n",
    "print('\\n\\nParenthesisRemover\\n')\n",
    "print(no_parens_review)\n",
    "\n",
    "decontracted_review = contraction_replacer(no_parens_review)\n",
    "print('\\n\\nContractionReplacer\\n')\n",
    "print(decontracted_review)\n",
    "\n",
    "cleaned_html = clean_html(decontracted_review)\n",
    "print('\\n\\nCleanHtml\\n')\n",
    "print(cleaned_html)\n"
   ]
  },
  {
   "cell_type": "code",
   "execution_count": 190,
   "metadata": {},
   "outputs": [],
   "source": [
    "sent_tokenizer = PunktSentenceTokenizer()\n",
    "word_tokenizer = TreebankWordTokenizer()\n",
    "tokenize_text = tzc.compose(tzc.mapcat(word_tokenizer.tokenize), sent_tokenizer.tokenize)"
   ]
  },
  {
   "cell_type": "code",
   "execution_count": 191,
   "metadata": {},
   "outputs": [
    {
     "data": {
      "text/plain": [
       "['Goebbels',\n",
       " 'motivation',\n",
       " 'in',\n",
       " 'backing',\n",
       " 'down',\n",
       " 'was',\n",
       " 'not',\n",
       " 'explored',\n",
       " '.',\n",
       " 'In',\n",
       " 'the',\n",
       " 'aftermath',\n",
       " 'of',\n",
       " 'Stalingrad',\n",
       " 'the',\n",
       " 'Reich',\n",
       " 'had',\n",
       " 'decided',\n",
       " 'to',\n",
       " 'go']"
      ]
     },
     "execution_count": 191,
     "metadata": {},
     "output_type": "execute_result"
    }
   ],
   "source": [
    "list(tokenize_text(cleaned_html))[:20]"
   ]
  },
  {
   "cell_type": "code",
   "execution_count": 192,
   "metadata": {},
   "outputs": [
    {
     "data": {
      "text/plain": [
       "['Goebbels',\n",
       " 'motivation',\n",
       " 'in',\n",
       " 'backing',\n",
       " 'down',\n",
       " 'not',\n",
       " 'explored',\n",
       " 'In',\n",
       " 'aftermath',\n",
       " 'Stalingrad',\n",
       " 'Reich',\n",
       " 'decided',\n",
       " 'go',\n",
       " \"'total\",\n",
       " 'war',\n",
       " \"'\",\n",
       " 'This',\n",
       " 'referred',\n",
       " 'in',\n",
       " 'film']"
      ]
     },
     "execution_count": 192,
     "metadata": {},
     "output_type": "execute_result"
    }
   ],
   "source": [
    "list(filter_stopwords(STOPWORDS, tokenize_text(cleaned_html)))[:20]"
   ]
  },
  {
   "cell_type": "code",
   "execution_count": 193,
   "metadata": {},
   "outputs": [],
   "source": [
    "\n",
    "def process_text(text, func):\n",
    "    '''\n",
    "    clean and tokenize a text.\n",
    "    tokenize: bool indicate if the function should tokenize.\n",
    "    resolve: bool indicates if the iterator should be outputted to a list or not.\n",
    "    '''\n",
    "    return func(text)\n",
    "    \n",
    "def create_corpus_processor(*steps):\n",
    "    '''\n",
    "    Produces a function that can be applied to a corpus of document, applying each step in series to each document.\n",
    "    '''\n",
    "                   \n",
    "    def process_corpus(corpus: Iterable[str], \n",
    "                       map: Callable[[Callable, Iterable], Iterable] = tz.map,\n",
    "                       collect=None) -> Iterable[str]:\n",
    "        '''\n",
    "        Process a corpus, represented as an iterable of text into a clean and tokenized corpus.\n",
    "        Downstream tasks can be mapped to the return iterable.\n",
    "        You can provide a custom map, for example to process the items in parallel.\n",
    "        '''\n",
    "        \n",
    "        func = tz.compose(collect or tz.identity, *reversed(steps)) # compose applies last step first.\n",
    "        apply_steps = partial(process_text, func=func)\n",
    "        processed_corpus = tz.map(apply_steps, corpus)\n",
    "        return processed_corpus\n",
    "    \n",
    "    return process_corpus\n",
    "\n",
    "def doc2bow(doc):\n",
    "    '''\n",
    "    Generates Bag of Word features\n",
    "    '''\n",
    "    return {word: True for word in doc}\n",
    "\n",
    "def doc2boc(doc):\n",
    "    '''\n",
    "    Generates Bag of Counts features\n",
    "    '''\n",
    "    return Counter(doc)\n",
    "\n",
    "class Vocabulary:\n",
    "    def __init__(self, tokens):\n",
    "        self._vocab = Counter(tokens)\n",
    "    \n",
    "    def words(self):\n",
    "        return self._vocab.keys()\n",
    "    \n",
    "    def most_common(self, n):\n",
    "        return list(tz.pluck(0, self._vocab.most_common(n)))\n",
    "    \n",
    "    def frequencies(self, n=None):\n",
    "        if n:\n",
    "            freq = { k: v for k, v in self._vocab.most_common(n) }\n",
    "        else: \n",
    "            freq = dict(self._vocab)\n",
    "        return freq\n",
    "    \n",
    "    def __len__(self):\n",
    "        return len(self._vocab)"
   ]
  },
  {
   "cell_type": "code",
   "execution_count": 194,
   "metadata": {},
   "outputs": [],
   "source": [
    "stemmer = PorterStemmer()\n",
    "lemmatizer = WordNetLemmatizer()"
   ]
  },
  {
   "cell_type": "code",
   "execution_count": 319,
   "metadata": {},
   "outputs": [],
   "source": [
    "# common_steps = tz.compose()\n",
    "process_corpus = create_corpus_processor(quote_remover, \n",
    "                        parenthesis_remover, \n",
    "                        contraction_replacer, \n",
    "                        clean_html,\n",
    "                        str.lower,\n",
    "                        sent_tokenizer.tokenize,\n",
    "                        word_tokenizer.tokenize_sents\n",
    "#                         tokenize_text,\n",
    "#                         filter_stopwords(STOPWORDS),\n",
    "#                         tzc.map(stemmer.stem)\n",
    "                                        )\n",
    "                        \n",
    "                    \n",
    "                    "
   ]
  },
  {
   "cell_type": "code",
   "execution_count": 322,
   "metadata": {},
   "outputs": [],
   "source": [
    "# %%time\n",
    "with ProcessPoolExecutor() as executor:\n",
    "    map_func = partial(executor.map, chunksize=500)\n",
    "    processed_corpus = list(process_corpus(dataset['review'], map_func, list))"
   ]
  },
  {
   "cell_type": "code",
   "execution_count": 324,
   "metadata": {},
   "outputs": [
    {
     "data": {
      "text/plain": [
       "['this',\n",
       " 'movie',\n",
       " 'is',\n",
       " 'a',\n",
       " 'ripoff',\n",
       " 'of',\n",
       " 'james',\n",
       " 'cain',\n",
       " \"'s\",\n",
       " 'novel',\n",
       " ',',\n",
       " 'the',\n",
       " 'postman',\n",
       " 'always',\n",
       " 'rings',\n",
       " 'twice',\n",
       " '.']"
      ]
     },
     "execution_count": 324,
     "metadata": {},
     "output_type": "execute_result"
    }
   ],
   "source": [
    "list(tz.concat(processed_corpus))[0]"
   ]
  },
  {
   "cell_type": "code",
   "execution_count": null,
   "metadata": {},
   "outputs": [],
   "source": []
  },
  {
   "cell_type": "code",
   "execution_count": 358,
   "metadata": {},
   "outputs": [],
   "source": [
    "common_terms = nltk.corpus.stopwords.words('english')\n",
    "phrases = Phrases(tz.concat(processed_corpus), min_count=5, threshold=25.0, common_terms=common_terms)"
   ]
  },
  {
   "cell_type": "code",
   "execution_count": 359,
   "metadata": {},
   "outputs": [],
   "source": [
    "found_phrases = tz.pipe(phrases.export_phrases(tz.concat(processed_corpus)), tzc.pluck(0), tzc.map(bytes.decode), list)"
   ]
  },
  {
   "cell_type": "code",
   "execution_count": 360,
   "metadata": {},
   "outputs": [
    {
     "name": "stdout",
     "output_type": "stream",
     "text": [
      "['postman always', 'rings twice', 'male and female', 'male lead', 'lana turner', 'john garfield', 'lana turner', 'middle of nowhere', '100 %', 'much better', 'human nature', 'warner brothers', 'thank goodness', 'even though', 'sexual innuendo', 'well done', 'vhs copy', 'point of view', '5 stars', 'young boy', 'despite the fact', '10 stars', 'vhs copy', 'jimmy stewart', 'well done', 'vera miles', 'every aspect', 'motion picture', \"1950 's\", 'everything else', 'hard to follow', 'film festival', 'opening sequence', 'little bit', 'next day', 'woman named', 'takes place', 'slap in the face', 'barbara steele', 'music score', 'film festival', 'plot line', 'born killers', 'ever seen', '... ..', 'sunday afternoon', 'santa claus', 'santa claus', 'years later', 'dan jansen']\n"
     ]
    }
   ],
   "source": [
    "print(found_phrases[:50])"
   ]
  },
  {
   "cell_type": "code",
   "execution_count": 263,
   "metadata": {},
   "outputs": [],
   "source": [
    "bigram = Phraser(phrases)"
   ]
  },
  {
   "cell_type": "code",
   "execution_count": 264,
   "metadata": {},
   "outputs": [],
   "source": [
    "# processed_corpus[15]"
   ]
  },
  {
   "cell_type": "code",
   "execution_count": 265,
   "metadata": {},
   "outputs": [
    {
     "data": {
      "text/plain": [
       "['i kind of feel like a genius; i feel like i am the only one who saw through this fake film.',\n",
       " 'i watched it three times, once with commentary, and i found myself getting annoyed at all the close-ups, all the times the screen just blacks out, and worst of all, i feel the film never really resolves anything.',\n",
       " 'yes, the priest dies, but he did not really seem at peace with the town that gave him so much grief, or with himself.',\n",
       " 'that and he was an idiot.',\n",
       " 'if it were not for the commentary by peter cowie which explained not only the movie but the book it came from, i would not have been able to stomach it at all.',\n",
       " 'i enjoy french movies, but this is one that was completely absurd.',\n",
       " 'diary of a country priest is filmed in beautiful black and white photography but, that alone cannot save this deadly dull tripe.',\n",
       " 'scene after scene of extreme close-ups where characters do not say anything until the camera cuts away and goes to a black out do not make an interesting or relevant story.',\n",
       " \"how this film ever became a classic is mind boggling: it reminds me more of the emperor's new clothes.\",\n",
       " \"yes, claude laydu's performance is heartfelt and thought provoking, if you are a sadist, but this film left me feeling empty because overall it is a weak impression of the catholic priesthood, which is an ignoble and inglorious institution of corruption.\",\n",
       " \"the young priest's triumph over the countess's pride is a weak scene but 90% of the film will drag you down with its dreary introspection and window into the young priest's melancholy thoughts.\",\n",
       " 'this priest does not come across so much as being humble as he does just plain pitiful.',\n",
       " 'being that i do not speak or understand french i was looking forward to doing the english subtitle thing to help understand the film.',\n",
       " 'well, the english subtitle is at times impossible to view/read and the text rolls by so quickly that there was much i could not read and i am not a particularly slow reader - i just finished dostoyevsky in 3 days.',\n",
       " 'i really wanted to like this film .',\n",
       " 'i try out everything chosen by the criterion collection, and yet can not see why in many ways this one merits some sort of critical nod.',\n",
       " 'however, i sat through this entire two hour film yearning to feel some sort of empathy for the main character, and it never materialized.',\n",
       " 'he just seemed like a victim rather than a fighter.',\n",
       " 'and for that, i say it stunk.']"
      ]
     },
     "execution_count": 265,
     "metadata": {},
     "output_type": "execute_result"
    }
   ],
   "source": [
    "sent = bigram[processed_corpus[2020]]\n",
    "sent"
   ]
  },
  {
   "cell_type": "code",
   "execution_count": 328,
   "metadata": {},
   "outputs": [
    {
     "name": "stdout",
     "output_type": "stream",
     "text": [
      "5888111\n"
     ]
    }
   ],
   "source": [
    "corpus_word_count = sum(tz.map(len, tz.concat(processed_corpus)))\n",
    "print(corpus_word_count)"
   ]
  },
  {
   "cell_type": "code",
   "execution_count": 330,
   "metadata": {},
   "outputs": [],
   "source": [
    "embeddings = FastText(size=64,word_ngrams=2, min_count=3)\n",
    "embeddings.build_vocab(tz.concat(processed_corpus))\n",
    "embeddings.train(tz.concat(processed_corpus), epochs=10, total_examples=corpus_word_count)"
   ]
  },
  {
   "cell_type": "code",
   "execution_count": 332,
   "metadata": {},
   "outputs": [
    {
     "data": {
      "text/plain": [
       "38923"
      ]
     },
     "execution_count": 332,
     "metadata": {},
     "output_type": "execute_result"
    }
   ],
   "source": [
    "len(embeddings.wv.vocab)"
   ]
  },
  {
   "cell_type": "code",
   "execution_count": 334,
   "metadata": {},
   "outputs": [
    {
     "data": {
      "text/plain": [
       "0.30184388"
      ]
     },
     "execution_count": 334,
     "metadata": {},
     "output_type": "execute_result"
    }
   ],
   "source": [
    "embeddings.wv.similarity('cheval', 'movie')"
   ]
  },
  {
   "cell_type": "code",
   "execution_count": 375,
   "metadata": {},
   "outputs": [],
   "source": [
    "@tz.curry\n",
    "def doc2vec(embeddings, doc):\n",
    "    '''\n",
    "    Returns the mean embedding for a document structured as a list of tokens\n",
    "    '''\n",
    "    return embeddings.wv[doc].mean(axis=0)"
   ]
  },
  {
   "cell_type": "code",
   "execution_count": 376,
   "metadata": {},
   "outputs": [],
   "source": [
    "doc2fasttext = doc2vec(embeddings)"
   ]
  },
  {
   "cell_type": "code",
   "execution_count": 377,
   "metadata": {},
   "outputs": [
    {
     "data": {
      "text/plain": [
       "array([-1.1509267e+00,  1.1471021e+00,  1.0719388e-01,  7.1382485e-02,\n",
       "       -2.3577134e-01, -1.8125235e-01, -2.1315233e-01, -3.4934050e-01,\n",
       "        4.3128604e-01, -1.7628764e-01, -1.3326916e-01, -8.2983619e-01,\n",
       "        1.5846214e-01, -1.2428968e-01,  3.7927589e-01, -2.7213514e-01,\n",
       "       -6.2164396e-01,  3.3190385e-01, -8.2511529e-02,  3.0340219e-01,\n",
       "        2.5930601e-01,  2.6394856e-01,  3.6116439e-01,  1.9499652e-01,\n",
       "        2.8055090e-01,  4.7445619e-01,  1.4172318e+00,  4.0309167e-01,\n",
       "       -2.9121533e-01,  9.1205418e-01, -7.1901447e-01,  1.8629999e-01,\n",
       "        1.5092591e+00,  6.5438086e-01, -7.1998078e-01,  8.4510601e-01,\n",
       "        7.4078429e-01,  1.7003997e-01, -2.3665012e-01,  1.4608146e-01,\n",
       "        1.0573075e-02,  3.1596339e-01, -2.5961956e-01,  7.3504192e-01,\n",
       "       -9.5579788e-05, -3.0131191e-01,  4.6119997e-01, -2.0330088e-01,\n",
       "        5.9019551e-02,  1.5072658e+00,  6.6632855e-01,  1.8196637e-02,\n",
       "        7.6880246e-01, -7.6872224e-01,  2.6393605e-02,  3.0591252e-01,\n",
       "       -1.5400064e+00, -5.4852211e-01, -2.9158473e-01,  5.0397026e-03,\n",
       "       -1.5342596e+00, -3.9011875e-01, -7.0868099e-01,  9.4936931e-01],\n",
       "      dtype=float32)"
      ]
     },
     "execution_count": 377,
     "metadata": {},
     "output_type": "execute_result"
    }
   ],
   "source": [
    "doc2fasttext(tz.concat(processed_corpus[0]))"
   ]
  },
  {
   "cell_type": "code",
   "execution_count": 200,
   "metadata": {},
   "outputs": [],
   "source": [
    "\n",
    "vocab = Vocabulary(tz.concat(processed_corpus))"
   ]
  },
  {
   "cell_type": "code",
   "execution_count": 201,
   "metadata": {},
   "outputs": [
    {
     "data": {
      "text/plain": [
       "78992"
      ]
     },
     "execution_count": 201,
     "metadata": {},
     "output_type": "execute_result"
    }
   ],
   "source": [
    "len(vocab)"
   ]
  },
  {
   "cell_type": "code",
   "execution_count": 202,
   "metadata": {},
   "outputs": [
    {
     "name": "stdout",
     "output_type": "stream",
     "text": [
      "{'in': 83710, 'not': 57001, 'movi': 45746, 'film': 42745, '!': 22355, 'just': 15989, 'out': 14985, '?': 14537, 'some': 14073, 'good': 13470, 'make': 13064, 'more': 12809, 'she': 12728, 'veri': 12648, 'charact': 12567, 'watch': 12356, 'stori': 11665, 'up': 11188, 'no': 11147, '...': 10791, 'realli': 10559, 'we': 9849, 'scene': 9436, \"'\": 9193, ':': 9083, 'well': 8973, '-': 8862, 'look': 8783, 'show': 8760, 'much': 8726, 'end': 8524, 'go': 8414, 'peopl': 8383, 'bad': 8238, 'great': 8165, 'think': 7989, 'first': 7969, 'him': 7905, 'most': 7901, 'love': 7896, 'way': 7828, 'act': 7718, 'play': 7695, 'it': 7359, 'thing': 7316, 'made': 7292, 'then': 7267, 'them': 7120, 'too': 6908, 'ani': 6859, 'after': 6779, 'say': 6741, 'know': 6727, 'am': 6548, 'seem': 6434, 'work': 6184, ';': 6031, 'mani': 6029, 'be': 6007, 'come': 5996, 'seen': 5992, 'plot': 5990, 'actor': 5971, 'two': 5963, 'want': 5942, 'take': 5866, 'never': 5794, 'where': 5761, 'littl': 5745, 'year': 5737, 'tri': 5706, 'best': 5694, 'life': 5652, 'ever': 5340, 'give': 5247, 'here': 5187, 'your': 5172, 'better': 5122, 'man': 5083, 'still': 5041, 'over': 5034, 'off': 5005, 'perform': 4973, 'find': 4885, 'these': 4871, 'should': 4814, 'while': 4752, 'whi': 4734, 'feel': 4689, 'actual': 4605, 'part': 4590, 'such': 4585, '--': 4546, 'use': 4535, 'someth': 4494, 'back': 4487, 'through': 4434, 'interest': 4380, 'get': 4309, 'lot': 4290}\n"
     ]
    }
   ],
   "source": [
    "print(vocab.frequencies(100))"
   ]
  },
  {
   "cell_type": "code",
   "execution_count": 222,
   "metadata": {},
   "outputs": [],
   "source": [
    "@tz.curry\n",
    "def filter_words(whitelist, words):\n",
    "    return (word for word in words if word in whitelist)"
   ]
  },
  {
   "cell_type": "code",
   "execution_count": 229,
   "metadata": {},
   "outputs": [],
   "source": [
    "most_common = vocab.most_common(1000)"
   ]
  },
  {
   "cell_type": "code",
   "execution_count": 231,
   "metadata": {},
   "outputs": [],
   "source": [
    "features = list(tz.map(tz.compose(doc2bow, filter_words(most_common)), processed_corpus))"
   ]
  },
  {
   "cell_type": "code",
   "execution_count": 232,
   "metadata": {},
   "outputs": [],
   "source": [
    "X_train, X_devtest, y_train, y_devtest = train_test_split(features, dataset['sentiment'], test_size=0.2)"
   ]
  },
  {
   "cell_type": "code",
   "execution_count": 233,
   "metadata": {},
   "outputs": [],
   "source": [
    "clf =  pipeline.make_pipeline(feature_extraction.DictVectorizer(), naive_bayes.BernoulliNB())"
   ]
  },
  {
   "cell_type": "code",
   "execution_count": 234,
   "metadata": {},
   "outputs": [
    {
     "data": {
      "text/plain": [
       "Pipeline(memory=None,\n",
       "     steps=[('dictvectorizer', DictVectorizer(dtype=<class 'numpy.float64'>, separator='=', sort=True,\n",
       "        sparse=True)), ('bernoullinb', BernoulliNB(alpha=1.0, binarize=0.0, class_prior=None, fit_prior=True))])"
      ]
     },
     "execution_count": 234,
     "metadata": {},
     "output_type": "execute_result"
    }
   ],
   "source": [
    "clf.fit(X_train, y_train)"
   ]
  },
  {
   "cell_type": "code",
   "execution_count": 235,
   "metadata": {},
   "outputs": [
    {
     "name": "stdout",
     "output_type": "stream",
     "text": [
      "              precision    recall  f1-score   support\n",
      "\n",
      "         neg       0.85      0.83      0.84      2267\n",
      "         pos       0.83      0.86      0.84      2233\n",
      "\n",
      "   micro avg       0.84      0.84      0.84      4500\n",
      "   macro avg       0.84      0.84      0.84      4500\n",
      "weighted avg       0.84      0.84      0.84      4500\n",
      "\n"
     ]
    }
   ],
   "source": [
    "print(metrics.classification_report(y_devtest, clf.predict(X_devtest), target_names=['neg', 'pos']))"
   ]
  },
  {
   "cell_type": "code",
   "execution_count": 145,
   "metadata": {},
   "outputs": [
    {
     "name": "stdout",
     "output_type": "stream",
     "text": [
      "BASELINE:\n",
      "\n",
      " Pipeline(memory=None,\n",
      " steps=[('dictvectorizer', DictVectorizer(dtype=<class 'numpy.float64'>, separator='=', sort=True,\n",
      "    sparse=True)), ('bernoullinb', BernoulliNB(alpha=1.0, binarize=0.0, class_prior=None, fit_prior=True))])\n",
      "     \n",
      "\n",
      "              precision    recall  f1-score   support\n",
      "\n",
      "         neg       0.82      0.89      0.85      2206\n",
      "         pos       0.89      0.81      0.85      2294\n",
      "\n",
      "   micro avg       0.85      0.85      0.85      4500\n",
      "   macro avg       0.85      0.85      0.85      4500\n",
      "weighted avg       0.85      0.85      0.85      4500\n",
      "\n"
     ]
    }
   ],
   "source": [
    "print('BASELINE:')\n",
    "print('''\n",
    " Pipeline(memory=None,\n",
    " steps=[('dictvectorizer', DictVectorizer(dtype=<class 'numpy.float64'>, separator='=', sort=True,\n",
    "    sparse=True)), ('bernoullinb', BernoulliNB(alpha=1.0, binarize=0.0, class_prior=None, fit_prior=True))])\n",
    "     ''')\n",
    "print('''\n",
    "              precision    recall  f1-score   support\n",
    "\n",
    "         neg       0.82      0.89      0.85      2206\n",
    "         pos       0.89      0.81      0.85      2294\n",
    "\n",
    "   micro avg       0.85      0.85      0.85      4500\n",
    "   macro avg       0.85      0.85      0.85      4500\n",
    "weighted avg       0.85      0.85      0.85      4500\n",
    "''')"
   ]
  },
  {
   "cell_type": "code",
   "execution_count": null,
   "metadata": {},
   "outputs": [],
   "source": [
    "tfidf_tf = feature_extraction.text.TfidfVectorizer"
   ]
  },
  {
   "cell_type": "markdown",
   "metadata": {},
   "source": [
    "# Preprocessing\n",
    "\n",
    "Possible steps:\n",
    "* lowercasing\n",
    "* stemming\n",
    "* lemmatization\n",
    "* stopword removal\n",
    "* noise removal (ex. html tags)\n",
    "* tokenization\n",
    "* enrichment: \n",
    "    - POS tagging\n",
    "    - Chunking\n",
    "    - Word embedding\n",
    "    - Phrasing\n",
    "\n",
    "Notes:\n",
    "* Test if lowercasing improves performance"
   ]
  },
  {
   "cell_type": "code",
   "execution_count": null,
   "metadata": {},
   "outputs": [],
   "source": []
  },
  {
   "cell_type": "code",
   "execution_count": 31,
   "metadata": {},
   "outputs": [],
   "source": []
  },
  {
   "cell_type": "code",
   "execution_count": null,
   "metadata": {},
   "outputs": [],
   "source": []
  }
 ],
 "metadata": {
  "kernelspec": {
   "display_name": "Python 3",
   "language": "python",
   "name": "python3"
  },
  "language_info": {
   "codemirror_mode": {
    "name": "ipython",
    "version": 3
   },
   "file_extension": ".py",
   "mimetype": "text/x-python",
   "name": "python",
   "nbconvert_exporter": "python",
   "pygments_lexer": "ipython3",
   "version": "3.7.0"
  }
 },
 "nbformat": 4,
 "nbformat_minor": 2
}
