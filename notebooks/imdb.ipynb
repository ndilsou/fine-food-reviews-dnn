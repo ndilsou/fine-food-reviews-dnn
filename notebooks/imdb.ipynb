{
 "cells": [
  {
   "cell_type": "markdown",
   "metadata": {},
   "source": [
    "Original data available at:\n",
    "https://www.kaggle.com/kaushik3497/imdb-sentiment-analysis"
   ]
  },
  {
   "cell_type": "code",
   "execution_count": 1,
   "metadata": {},
   "outputs": [],
   "source": [
    "%matplotlib inline\n",
    "import sys\n",
    "sys.path.append('../data/')"
   ]
  },
  {
   "cell_type": "code",
   "execution_count": 146,
   "metadata": {},
   "outputs": [],
   "source": [
    "from typing import Tuple, Sequence, Dict, Callable, Any, List, Pattern, Union, Iterable\n",
    "import nltk\n",
    "from concurrent.futures import ProcessPoolExecutor, as_completed\n",
    "from nltk.tokenize import TreebankWordTokenizer, PunktSentenceTokenizer\n",
    "from nltk.tag import DefaultTagger, UnigramTagger, BigramTagger\n",
    "from nltk.corpus import brown\n",
    "import re\n",
    "from pathlib import Path\n",
    "from sklearn.base import BaseEstimator\n",
    "from sklearn.base import TransformerMixin\n",
    "import csv\n",
    "import spacy\n",
    "import toolz as tz\n",
    "from pattern.en import parse\n",
    "import toolz.curried as tzc\n",
    "import pandas as pd\n",
    "import matplotlib.pyplot as plt\n",
    "import pattern\n",
    "import bs4\n",
    "from sklearn.model_selection import train_test_split\n",
    "from functools import partial"
   ]
  },
  {
   "cell_type": "code",
   "execution_count": 3,
   "metadata": {},
   "outputs": [],
   "source": [
    "# nlp = spacy.load('en')"
   ]
  },
  {
   "cell_type": "code",
   "execution_count": 4,
   "metadata": {},
   "outputs": [],
   "source": [
    "train_file = Path('../data/labeledTrainData.tsv')\n",
    " "
   ]
  },
  {
   "cell_type": "code",
   "execution_count": 5,
   "metadata": {},
   "outputs": [],
   "source": [
    "f = train_file.open()\n",
    "records = csv.DictReader(f, delimiter='\\t', quoting=csv.QUOTE_NONE)"
   ]
  },
  {
   "cell_type": "code",
   "execution_count": 6,
   "metadata": {},
   "outputs": [
    {
     "data": {
      "text/plain": [
       "OrderedDict([('id', '\"5814_8\"'),\n",
       "             ('sentiment', '1'),\n",
       "             ('review',\n",
       "              '\"With all this stuff going down at the moment with MJ i\\'ve started listening to his music, watching the odd documentary here and there, watched The Wiz and watched Moonwalker again. Maybe i just want to get a certain insight into this guy who i thought was really cool in the eighties just to maybe make up my mind whether he is guilty or innocent. Moonwalker is part biography, part feature film which i remember going to see at the cinema when it was originally released. Some of it has subtle messages about MJ\\'s feeling towards the press and also the obvious message of drugs are bad m\\'kay.<br /><br />Visually impressive but of course this is all about Michael Jackson so unless you remotely like MJ in anyway then you are going to hate this and find it boring. Some may call MJ an egotist for consenting to the making of this movie BUT MJ and most of his fans would say that he made it for the fans which if true is really nice of him.<br /><br />The actual feature film bit when it finally starts is only on for 20 minutes or so excluding the Smooth Criminal sequence and Joe Pesci is convincing as a psychopathic all powerful drug lord. Why he wants MJ dead so bad is beyond me. Because MJ overheard his plans? Nah, Joe Pesci\\'s character ranted that he wanted people to know it is he who is supplying drugs etc so i dunno, maybe he just hates MJ\\'s music.<br /><br />Lots of cool things in this like MJ turning into a car and a robot and the whole Speed Demon sequence. Also, the director must have had the patience of a saint when it came to filming the kiddy Bad sequence as usually directors hate working with one kid let alone a whole bunch of them performing a complex dance scene.<br /><br />Bottom line, this movie is for people who like MJ on one level or another (which i think is most people). If not, then stay away. It does try and give off a wholesome message and ironically MJ\\'s bestest buddy in this movie is a girl! Michael Jackson is truly one of the most talented people ever to grace this planet but is he guilty? Well, with all the attention i\\'ve gave this subject....hmmm well i don\\'t know because people can be different behind closed doors, i know this for a fact. He is either an extremely nice but stupid guy or one of the most sickest liars. I hope he is not the latter.\"')])"
      ]
     },
     "execution_count": 6,
     "metadata": {},
     "output_type": "execute_result"
    }
   ],
   "source": [
    "r = next(records)\n",
    "r"
   ]
  },
  {
   "cell_type": "code",
   "execution_count": 9,
   "metadata": {},
   "outputs": [],
   "source": [
    "# !head ../data/labeledTrainData.tsv"
   ]
  },
  {
   "cell_type": "code",
   "execution_count": 10,
   "metadata": {},
   "outputs": [],
   "source": [
    "raw_dataset = pd.read_csv(train_file, sep='\\t', quoting=csv.QUOTE_NONE) \n",
    "# We'll handle quotes manually.\n",
    "\n",
    "raw_train_dataset, raw_test_dataset = train_test_split(raw_dataset, test_size=0.1)"
   ]
  },
  {
   "cell_type": "code",
   "execution_count": 11,
   "metadata": {},
   "outputs": [],
   "source": [
    "# raw_train_dataset, raw_devtest_dataset = train_test_split(raw_observable_dataset, test_size=0.1)"
   ]
  },
  {
   "cell_type": "code",
   "execution_count": 12,
   "metadata": {},
   "outputs": [],
   "source": [
    "def strip_quotes_and_ids(dataset):\n",
    "    no_id_dataset = dataset.drop('id', 'columns')\n",
    "    no_id_dataset['review'] = no_id_dataset['review'].str.strip('\\\"\"')\n",
    "    return no_id_dataset\n",
    "\n"
   ]
  },
  {
   "cell_type": "code",
   "execution_count": 13,
   "metadata": {},
   "outputs": [
    {
     "data": {
      "text/html": [
       "<div>\n",
       "<style scoped>\n",
       "    .dataframe tbody tr th:only-of-type {\n",
       "        vertical-align: middle;\n",
       "    }\n",
       "\n",
       "    .dataframe tbody tr th {\n",
       "        vertical-align: top;\n",
       "    }\n",
       "\n",
       "    .dataframe thead th {\n",
       "        text-align: right;\n",
       "    }\n",
       "</style>\n",
       "<table border=\"1\" class=\"dataframe\">\n",
       "  <thead>\n",
       "    <tr style=\"text-align: right;\">\n",
       "      <th></th>\n",
       "      <th>sentiment</th>\n",
       "      <th>review</th>\n",
       "    </tr>\n",
       "  </thead>\n",
       "  <tbody>\n",
       "    <tr>\n",
       "      <th>22094</th>\n",
       "      <td>1</td>\n",
       "      <td>If you like Deep Purple, you will enjoy in thi...</td>\n",
       "    </tr>\n",
       "    <tr>\n",
       "      <th>22642</th>\n",
       "      <td>0</td>\n",
       "      <td>OK, my girlfriend and I rented the DVD and abo...</td>\n",
       "    </tr>\n",
       "    <tr>\n",
       "      <th>22439</th>\n",
       "      <td>0</td>\n",
       "      <td>This movie is written by Charlie Higson, who h...</td>\n",
       "    </tr>\n",
       "    <tr>\n",
       "      <th>3507</th>\n",
       "      <td>0</td>\n",
       "      <td>This movie is just not worth your time. Its re...</td>\n",
       "    </tr>\n",
       "    <tr>\n",
       "      <th>7297</th>\n",
       "      <td>0</td>\n",
       "      <td>\\\"In 1955, Tobias Schneerbaum disappeared in t...</td>\n",
       "    </tr>\n",
       "    <tr>\n",
       "      <th>15107</th>\n",
       "      <td>1</td>\n",
       "      <td>This movie is a fantastic movie. Everything ab...</td>\n",
       "    </tr>\n",
       "    <tr>\n",
       "      <th>1337</th>\n",
       "      <td>1</td>\n",
       "      <td>i just saw this film, i first saw it when i wa...</td>\n",
       "    </tr>\n",
       "    <tr>\n",
       "      <th>13544</th>\n",
       "      <td>0</td>\n",
       "      <td>This film, though ostensibly a comedy, is dead...</td>\n",
       "    </tr>\n",
       "    <tr>\n",
       "      <th>21298</th>\n",
       "      <td>0</td>\n",
       "      <td>Around the late 1970's, animator Don Bluth, fr...</td>\n",
       "    </tr>\n",
       "    <tr>\n",
       "      <th>21634</th>\n",
       "      <td>1</td>\n",
       "      <td>Rudy does it again with this hot off the stree...</td>\n",
       "    </tr>\n",
       "  </tbody>\n",
       "</table>\n",
       "</div>"
      ],
      "text/plain": [
       "       sentiment                                             review\n",
       "22094          1  If you like Deep Purple, you will enjoy in thi...\n",
       "22642          0  OK, my girlfriend and I rented the DVD and abo...\n",
       "22439          0  This movie is written by Charlie Higson, who h...\n",
       "3507           0  This movie is just not worth your time. Its re...\n",
       "7297           0  \\\"In 1955, Tobias Schneerbaum disappeared in t...\n",
       "15107          1  This movie is a fantastic movie. Everything ab...\n",
       "1337           1  i just saw this film, i first saw it when i wa...\n",
       "13544          0  This film, though ostensibly a comedy, is dead...\n",
       "21298          0  Around the late 1970's, animator Don Bluth, fr...\n",
       "21634          1  Rudy does it again with this hot off the stree..."
      ]
     },
     "execution_count": 13,
     "metadata": {},
     "output_type": "execute_result"
    }
   ],
   "source": [
    "dataset = strip_quotes_and_ids(raw_train_dataset)\n",
    "dataset.head(10)"
   ]
  },
  {
   "cell_type": "code",
   "execution_count": 14,
   "metadata": {},
   "outputs": [
    {
     "data": {
      "text/html": [
       "<div>\n",
       "<style scoped>\n",
       "    .dataframe tbody tr th:only-of-type {\n",
       "        vertical-align: middle;\n",
       "    }\n",
       "\n",
       "    .dataframe tbody tr th {\n",
       "        vertical-align: top;\n",
       "    }\n",
       "\n",
       "    .dataframe thead th {\n",
       "        text-align: right;\n",
       "    }\n",
       "</style>\n",
       "<table border=\"1\" class=\"dataframe\">\n",
       "  <thead>\n",
       "    <tr style=\"text-align: right;\">\n",
       "      <th></th>\n",
       "      <th>review</th>\n",
       "    </tr>\n",
       "    <tr>\n",
       "      <th>sentiment</th>\n",
       "      <th></th>\n",
       "    </tr>\n",
       "  </thead>\n",
       "  <tbody>\n",
       "    <tr>\n",
       "      <th>0</th>\n",
       "      <td>11273</td>\n",
       "    </tr>\n",
       "    <tr>\n",
       "      <th>1</th>\n",
       "      <td>11227</td>\n",
       "    </tr>\n",
       "  </tbody>\n",
       "</table>\n",
       "</div>"
      ],
      "text/plain": [
       "           review\n",
       "sentiment        \n",
       "0           11273\n",
       "1           11227"
      ]
     },
     "execution_count": 14,
     "metadata": {},
     "output_type": "execute_result"
    }
   ],
   "source": [
    "dataset.groupby('sentiment').count()"
   ]
  },
  {
   "cell_type": "markdown",
   "metadata": {},
   "source": [
    "The dataset is well balanced"
   ]
  },
  {
   "cell_type": "code",
   "execution_count": 15,
   "metadata": {},
   "outputs": [
    {
     "name": "stdout",
     "output_type": "stream",
     "text": [
      "count    22500.000000\n",
      "mean      1324.340089\n",
      "std       1003.100032\n",
      "min         52.000000\n",
      "25%        704.000000\n",
      "50%        979.000000\n",
      "75%       1608.000000\n",
      "max      13708.000000\n",
      "Name: review, dtype: float64\n"
     ]
    },
    {
     "data": {
      "image/png": "[encoded data removed]",
      "text/plain": [
       "<Figure size 1440x720 with 1 Axes>"
      ]
     },
     "metadata": {
      "needs_background": "light"
     },
     "output_type": "display_data"
    }
   ],
   "source": [
    "review_lengths = dataset['review'].map(len)\n",
    "fig = plt.figure(figsize=(20, 10))\n",
    "review_lengths.hist(bins=100);\n",
    "print(review_lengths.describe())"
   ]
  },
  {
   "cell_type": "code",
   "execution_count": 86,
   "metadata": {},
   "outputs": [
    {
     "name": "stdout",
     "output_type": "stream",
     "text": [
      "sentiment: 0\n",
      "First, a little summary. This reporter named Torch is basically trying to get out the story of a zombie outbreak and finds the military & government censoring him. Nice message, government censorship and all that, but the way they DID the movie was, well let me explain.<br /><br />This movie is beyond description. The idea that somebody holds it in higher regard than anything by George Romero is justification enough for the reviewer to be committed to a mental institution. The script is atrocious on its own, like it was written by a sixth grader.As for special effects, I understand that independent films have low budgets, and some gore effects looked acceptable, but if you want a scene with fire, here's a tip: buy some nonflammable material, have an extinguisher ready, and get a fire going! Don't digitally add it in and make it look like an explosion from a Nintendo 64 game. The acting, well let's put it this way. In my summer theater program, a cold reading of the script is, compared to this, The Godfather. I won't even go into the inconsistencies. Find them yourself.<br /><br />What disturbed me the most, though, was when everything was finished after shooting and editing, somebody might have said, \\\"Okay, this looks good. Let's release it.\\\" It sends a chill down my spine to even think about it, to think somebody felt that this was good enough for DVD release. This isn't DVD quality. This isn't Sci-Fi channel quality. Hell, this isn't even film school quality. If you were to submit this in for a project at a film school, you would get an F. No, not even an F, more like an F-. I wouldn't be surprised if he would try to get you expelled.<br /><br />I felt used after I saw this thing. Blockbuster and the makers of this movie have my money right now, and I'd prefer not to think of what they're doing with it. I have been the pawn of some elaborate, nefarious scheme at legalized theft, and it doesn't feel good to think that I walked right into it, looking at the back cover with pleasant memories of 28 Days Later only to find a film Ed Wood would watch and say afterwards, \\\"I didn't much care for this.\\\" This film is the single most terrible movie I have seen. I have not seen anything by Ed Wood, but I have confidence this is worse. If you are looking for serious cinema, so much as being within ten feet of it will probably give you a bad headache. If not, I still recommend that you personally write the director and ask how he sleeps at night. However, if you are the kind of person who get a laugh out of really bad stuff then I recommend you check this out. You won't be disappointed.\n"
     ]
    }
   ],
   "source": [
    "sample = dataset.sample(1)\n",
    "print(f'sentiment: {sample.values[0, 0]}')\n",
    "review = sample.values[0, 1]\n",
    "print(review)"
   ]
  },
  {
   "cell_type": "code",
   "execution_count": 87,
   "metadata": {},
   "outputs": [],
   "source": [
    "# bs4.BeautifulSoup(sample.values[0, 1]).get_text()"
   ]
  },
  {
   "cell_type": "markdown",
   "metadata": {},
   "source": [
    "Notes:\n",
    "* need to remove escaped quotes.\n",
    "* need to remove html tags\n",
    "* possibly parentheses. [ (][)}{ ]"
   ]
  },
  {
   "cell_type": "code",
   "execution_count": null,
   "metadata": {},
   "outputs": [],
   "source": []
  },
  {
   "cell_type": "code",
   "execution_count": 88,
   "metadata": {},
   "outputs": [],
   "source": [
    "import requests\n",
    "def get_raw_english_contractions():\n",
    "    resp = requests.get('https://en.wikipedia.org/wiki/Wikipedia:List_of_English_contractions')\n",
    "    soup = bs4.BeautifulSoup(resp.text)\n",
    "    table = soup.find('table', attrs={'class': 'wikitable'})\n",
    "    table.find('tbody')\n",
    "    data = []\n",
    "    for row in table.find_all('tr'):\n",
    "        cols = row.find_all('td')\n",
    "        data.append([\n",
    "            c.get_text()\\\n",
    "                .strip()\\\n",
    "                .replace(r'\\[.+\\]', '')\n",
    "            for c in cols\n",
    "        ])\n",
    "    return data\n",
    "\n",
    "def get_curated_english_contractions():\n",
    "    with open('../data/curated_contractions.csv') as f:\n",
    "        reader = csv.reader(f)\n",
    "        contractions = [row for row in reader]\n",
    "    return contractions\n",
    "        "
   ]
  },
  {
   "cell_type": "code",
   "execution_count": 89,
   "metadata": {},
   "outputs": [],
   "source": [
    "raw_contractions = get_raw_english_contractions()\n",
    "with open('../data/raw_contractions.csv', 'wt') as f:\n",
    "    writer = csv.writer(f)\n",
    "    writer.writerows(raw_contractions)"
   ]
  },
  {
   "cell_type": "code",
   "execution_count": 90,
   "metadata": {},
   "outputs": [],
   "source": [
    "# !cp ../data/raw_contractions.csv ../data/curated_contractions.csv"
   ]
  },
  {
   "cell_type": "code",
   "execution_count": 91,
   "metadata": {},
   "outputs": [],
   "source": [
    "QUOTES_PATTERN = [(r'\\\\\\\"|\\\\\\'', '')]\n",
    "PARENTHESIS_PATTERN = [(r'[]}{)(]', '')]\n",
    "ENGLISH_CONTRACTIONS = get_curated_english_contractions()"
   ]
  },
  {
   "cell_type": "code",
   "execution_count": 92,
   "metadata": {},
   "outputs": [],
   "source": [
    "\n",
    "\n",
    "def remove_quotes(text, pattern: Pattern = QUOTES_PATTERN):\n",
    "    '''\n",
    "    removes escaped quotes. (\\' or \\\")\n",
    "    '''\n",
    "    text = pattern.sub('', text)\n",
    "    return text\n",
    "\n",
    "def clean_html(text):\n",
    "    '''\n",
    "    removes html tags.\n",
    "    '''\n",
    "    soup = bs4.BeautifulSoup(text, 'html.parser')\n",
    "    return soup.get_text()\n",
    "\n",
    "class RegexpReplacer:\n",
    "    def __init__(self, patterns: Sequence[Tuple[Union[str, re.Pattern], str]]):\n",
    "        self.patterns = [(re.compile(p), r) for p, r in patterns]\n",
    "    \n",
    "    def replace(self, text: str) -> str:\n",
    "        for pattern, repl in self.patterns:\n",
    "            text = pattern.sub(repl, text)\n",
    "        return text\n",
    "    \n",
    "    def __call__(self, text):\n",
    "        return self.replace(text)"
   ]
  },
  {
   "cell_type": "code",
   "execution_count": 93,
   "metadata": {},
   "outputs": [],
   "source": [
    "quote_remover = RegexpReplacer(QUOTES_PATTERN)\n",
    "parenthesis_remover = RegexpReplacer(PARENTHESIS_PATTERN)\n",
    "contraction_replacer = RegexpReplacer(ENGLISH_CONTRACTIONS)"
   ]
  },
  {
   "cell_type": "code",
   "execution_count": 96,
   "metadata": {},
   "outputs": [
    {
     "name": "stdout",
     "output_type": "stream",
     "text": [
      "\n",
      "\n",
      "QuoteRemover\n",
      "\n",
      "First, a little summary. This reporter named Torch is basically trying to get out the story of a zombie outbreak and finds the military & government censoring him. Nice message, government censorship and all that, but the way they DID the movie was, well let me explain.<br /><br />This movie is beyond description. The idea that somebody holds it in higher regard than anything by George Romero is justification enough for the reviewer to be committed to a mental institution. The script is atrocious on its own, like it was written by a sixth grader.As for special effects, I understand that independent films have low budgets, and some gore effects looked acceptable, but if you want a scene with fire, here's a tip: buy some nonflammable material, have an extinguisher ready, and get a fire going! Don't digitally add it in and make it look like an explosion from a Nintendo 64 game. The acting, well let's put it this way. In my summer theater program, a cold reading of the script is, compared to this, The Godfather. I won't even go into the inconsistencies. Find them yourself.<br /><br />What disturbed me the most, though, was when everything was finished after shooting and editing, somebody might have said, Okay, this looks good. Let's release it. It sends a chill down my spine to even think about it, to think somebody felt that this was good enough for DVD release. This isn't DVD quality. This isn't Sci-Fi channel quality. Hell, this isn't even film school quality. If you were to submit this in for a project at a film school, you would get an F. No, not even an F, more like an F-. I wouldn't be surprised if he would try to get you expelled.<br /><br />I felt used after I saw this thing. Blockbuster and the makers of this movie have my money right now, and I'd prefer not to think of what they're doing with it. I have been the pawn of some elaborate, nefarious scheme at legalized theft, and it doesn't feel good to think that I walked right into it, looking at the back cover with pleasant memories of 28 Days Later only to find a film Ed Wood would watch and say afterwards, I didn't much care for this. This film is the single most terrible movie I have seen. I have not seen anything by Ed Wood, but I have confidence this is worse. If you are looking for serious cinema, so much as being within ten feet of it will probably give you a bad headache. If not, I still recommend that you personally write the director and ask how he sleeps at night. However, if you are the kind of person who get a laugh out of really bad stuff then I recommend you check this out. You won't be disappointed.\n",
      "\n",
      "\n",
      "ParenthesisRemover\n",
      "\n",
      "First, a little summary. This reporter named Torch is basically trying to get out the story of a zombie outbreak and finds the military & government censoring him. Nice message, government censorship and all that, but the way they DID the movie was, well let me explain.<br /><br />This movie is beyond description. The idea that somebody holds it in higher regard than anything by George Romero is justification enough for the reviewer to be committed to a mental institution. The script is atrocious on its own, like it was written by a sixth grader.As for special effects, I understand that independent films have low budgets, and some gore effects looked acceptable, but if you want a scene with fire, here's a tip: buy some nonflammable material, have an extinguisher ready, and get a fire going! Don't digitally add it in and make it look like an explosion from a Nintendo 64 game. The acting, well let's put it this way. In my summer theater program, a cold reading of the script is, compared to this, The Godfather. I won't even go into the inconsistencies. Find them yourself.<br /><br />What disturbed me the most, though, was when everything was finished after shooting and editing, somebody might have said, Okay, this looks good. Let's release it. It sends a chill down my spine to even think about it, to think somebody felt that this was good enough for DVD release. This isn't DVD quality. This isn't Sci-Fi channel quality. Hell, this isn't even film school quality. If you were to submit this in for a project at a film school, you would get an F. No, not even an F, more like an F-. I wouldn't be surprised if he would try to get you expelled.<br /><br />I felt used after I saw this thing. Blockbuster and the makers of this movie have my money right now, and I'd prefer not to think of what they're doing with it. I have been the pawn of some elaborate, nefarious scheme at legalized theft, and it doesn't feel good to think that I walked right into it, looking at the back cover with pleasant memories of 28 Days Later only to find a film Ed Wood would watch and say afterwards, I didn't much care for this. This film is the single most terrible movie I have seen. I have not seen anything by Ed Wood, but I have confidence this is worse. If you are looking for serious cinema, so much as being within ten feet of it will probably give you a bad headache. If not, I still recommend that you personally write the director and ask how he sleeps at night. However, if you are the kind of person who get a laugh out of really bad stuff then I recommend you check this out. You won't be disappointed.\n",
      "\n",
      "\n",
      "ContractionReplacer\n",
      "\n",
      "First, a little summary. This reporter named Torch is basically trying to get out the story of a zombie outbreak and finds the military & government censoring him. Nice message, government censorship and all that, but the way they DID the movie was, well let me explain.<br /><br />This movie is beyond description. The idea that somebody holds it in higher regard than anything by George Romero is justification enough for the reviewer to be committed to a mental institution. The script is atrocious on its own, like it was written by a sixth grader.As for special effects, I understand that independent films have low budgets, and some gore effects looked acceptable, but if you want a scene with fire, here's a tip: buy some nonflammable material, have an extinguisher ready, and get a fire going! Don't digitally add it in and make it look like an explosion from a Nintendo 64 game. The acting, well let us put it this way. In my summer theater program, a cold reading of the script is, compared to this, The Godfather. I will not even go into the inconsistencies. Find them yourself.<br /><br />What disturbed me the most, though, was when everything was finished after shooting and editing, somebody might have said, Okay, this looks good. Let's release it. It sends a chill down my spine to even think about it, to think somebody felt that this was good enough for DVD release. This is not DVD quality. This is not Sci-Fi channel quality. Hell, this is not even film school quality. If you were to submit this in for a project at a film school, you would get an F. No, not even an F, more like an F-. I would not be surprised if he would try to get you expelled.<br /><br />I felt used after I saw this thing. Blockbuster and the makers of this movie have my money right now, and I had prefer not to think of what they are doing with it. I have been the pawn of some elaborate, nefarious scheme at legalized theft, and it does not feel good to think that I walked right into it, looking at the back cover with pleasant memories of 28 Days Later only to find a film Ed Wood would watch and say afterwards, I did not much care for this. This film is the single most terrible movie I have seen. I have not seen anything by Ed Wood, but I have confidence this is worse. If you are looking for serious cinema, so much as being within ten feet of it will probably give you a bad headache. If not, I still recommend that you personally write the director and ask how he sleeps at night. However, if you are the kind of person who get a laugh out of really bad stuff then I recommend you check this out. You will not be disappointed.\n",
      "\n",
      "\n",
      "CleanHtml\n",
      "\n",
      "First, a little summary. This reporter named Torch is basically trying to get out the story of a zombie outbreak and finds the military & government censoring him. Nice message, government censorship and all that, but the way they DID the movie was, well let me explain.This movie is beyond description. The idea that somebody holds it in higher regard than anything by George Romero is justification enough for the reviewer to be committed to a mental institution. The script is atrocious on its own, like it was written by a sixth grader.As for special effects, I understand that independent films have low budgets, and some gore effects looked acceptable, but if you want a scene with fire, here's a tip: buy some nonflammable material, have an extinguisher ready, and get a fire going! Don't digitally add it in and make it look like an explosion from a Nintendo 64 game. The acting, well let us put it this way. In my summer theater program, a cold reading of the script is, compared to this, The Godfather. I will not even go into the inconsistencies. Find them yourself.What disturbed me the most, though, was when everything was finished after shooting and editing, somebody might have said, Okay, this looks good. Let's release it. It sends a chill down my spine to even think about it, to think somebody felt that this was good enough for DVD release. This is not DVD quality. This is not Sci-Fi channel quality. Hell, this is not even film school quality. If you were to submit this in for a project at a film school, you would get an F. No, not even an F, more like an F-. I would not be surprised if he would try to get you expelled.I felt used after I saw this thing. Blockbuster and the makers of this movie have my money right now, and I had prefer not to think of what they are doing with it. I have been the pawn of some elaborate, nefarious scheme at legalized theft, and it does not feel good to think that I walked right into it, looking at the back cover with pleasant memories of 28 Days Later only to find a film Ed Wood would watch and say afterwards, I did not much care for this. This film is the single most terrible movie I have seen. I have not seen anything by Ed Wood, but I have confidence this is worse. If you are looking for serious cinema, so much as being within ten feet of it will probably give you a bad headache. If not, I still recommend that you personally write the director and ask how he sleeps at night. However, if you are the kind of person who get a laugh out of really bad stuff then I recommend you check this out. You will not be disappointed.\n"
     ]
    }
   ],
   "source": [
    "unquoted_review = quote_remover(review)\n",
    "print('\\n\\nQuoteRemover\\n')\n",
    "print(unquoted_review)\n",
    "\n",
    "no_parens_review = parenthesis_remover(unquoted_review)\n",
    "print('\\n\\nParenthesisRemover\\n')\n",
    "print(no_parens_review)\n",
    "\n",
    "decontracted_review = contraction_replacer(no_parens_review)\n",
    "print('\\n\\nContractionReplacer\\n')\n",
    "print(decontracted_review)\n",
    "\n",
    "cleaned_html = clean_html(decontracted_review)\n",
    "print('\\n\\nCleanHtml\\n')\n",
    "print(cleaned_html)"
   ]
  },
  {
   "cell_type": "code",
   "execution_count": 103,
   "metadata": {},
   "outputs": [],
   "source": [
    "sent_tokenizer = PunktSentenceTokenizer()\n",
    "word_tokenizer = TreebankWordTokenizer()\n",
    "tokenize_text = tzc.compose(tzc.mapcat(word_tokenizer.tokenize), sent_tokenizer.tokenize)"
   ]
  },
  {
   "cell_type": "code",
   "execution_count": 107,
   "metadata": {},
   "outputs": [
    {
     "data": {
      "text/plain": [
       "['First',\n",
       " ',',\n",
       " 'a',\n",
       " 'little',\n",
       " 'summary',\n",
       " '.',\n",
       " 'This',\n",
       " 'reporter',\n",
       " 'named',\n",
       " 'Torch',\n",
       " 'is',\n",
       " 'basically',\n",
       " 'trying',\n",
       " 'to',\n",
       " 'get',\n",
       " 'out',\n",
       " 'the',\n",
       " 'story',\n",
       " 'of',\n",
       " 'a']"
      ]
     },
     "execution_count": 107,
     "metadata": {},
     "output_type": "execute_result"
    }
   ],
   "source": [
    "list(tokenize_text(cleaned_html))[:20]"
   ]
  },
  {
   "cell_type": "code",
   "execution_count": 273,
   "metadata": {},
   "outputs": [],
   "source": [
    "\n",
    "def process_text(text, func):\n",
    "    '''\n",
    "    clean and tokenize a text.\n",
    "    tokenize: bool indicate if the function should tokenize.\n",
    "    resolve: bool indicates if the iterator should be outputted to a list or not.\n",
    "    '''\n",
    "    return func(text)\n",
    "    \n",
    "def create_corpus_processor(*steps):\n",
    "    '''\n",
    "    Produces a function that can be applied to a corpus of document, applying each step in series to each document.\n",
    "    '''\n",
    "                   \n",
    "    def process_corpus(corpus: Iterable[str], \n",
    "                       map: Callable[[Callable, Iterable], Iterable] = tz.map,\n",
    "                       collect=None) -> Iterable[str]:\n",
    "        '''\n",
    "        Process a corpus, represented as an iterable of text into a clean and tokenized corpus.\n",
    "        Downstream tasks can be mapped to the return iterable.\n",
    "        You can provide a custom map, for example to process the items in parallel.\n",
    "        '''\n",
    "        \n",
    "        func = tz.compose(collect, *reversed(steps)) # compose applies last step first.\n",
    "        apply_steps = partial(process_text, func=func)\n",
    "        processed_corpus = tz.map(apply_steps, corpus)\n",
    "        return processed_corpus\n",
    "    \n",
    "    return process_corpus\n",
    "\n"
   ]
  },
  {
   "cell_type": "code",
   "execution_count": null,
   "metadata": {},
   "outputs": [],
   "source": []
  },
  {
   "cell_type": "code",
   "execution_count": 274,
   "metadata": {},
   "outputs": [],
   "source": [
    "process_corpus = create_corpus_processor(quote_remover, \n",
    "                        parenthesis_remover, \n",
    "                        contraction_replacer, \n",
    "                        clean_html,\n",
    "                        tokenize_text)\n",
    "                        \n",
    "                    \n",
    "                    "
   ]
  },
  {
   "cell_type": "code",
   "execution_count": 275,
   "metadata": {},
   "outputs": [],
   "source": [
    "# %%time\n",
    "with ProcessPoolExecutor() as executor:\n",
    "    processed_corpus = list(process_corpus(dataset['review'][:10], executor.map, list))"
   ]
  },
  {
   "cell_type": "code",
   "execution_count": 276,
   "metadata": {},
   "outputs": [],
   "source": [
    "# # %%time\n",
    "# with ProcessPoolExecutor() as executor:\n",
    "#     processed_corpus_list = list(executor.map(list, processed_corpus))"
   ]
  },
  {
   "cell_type": "code",
   "execution_count": 277,
   "metadata": {},
   "outputs": [
    {
     "data": {
      "text/plain": [
       "['If',\n",
       " 'you',\n",
       " 'like',\n",
       " 'Deep',\n",
       " 'Purple',\n",
       " ',',\n",
       " 'you',\n",
       " 'will',\n",
       " 'enjoy',\n",
       " 'in',\n",
       " 'this',\n",
       " 'excellent',\n",
       " 'movie',\n",
       " 'with',\n",
       " 'Stephen',\n",
       " 'Rea',\n",
       " 'in',\n",
       " 'main',\n",
       " 'role',\n",
       " '.',\n",
       " 'The',\n",
       " 'story',\n",
       " 'is',\n",
       " 'about',\n",
       " 'the',\n",
       " 'most',\n",
       " 'famous',\n",
       " 'rock',\n",
       " 'group',\n",
       " 'back',\n",
       " 'there',\n",
       " 'in',\n",
       " '70s',\n",
       " ',',\n",
       " 'Strange',\n",
       " 'Fruits',\n",
       " ',',\n",
       " 'and',\n",
       " 'they',\n",
       " 'decided',\n",
       " 'to',\n",
       " 'play',\n",
       " 'together',\n",
       " 'again',\n",
       " '.',\n",
       " 'But',\n",
       " ',',\n",
       " 'of',\n",
       " 'course',\n",
       " ',',\n",
       " 'there',\n",
       " 'is',\n",
       " 'going',\n",
       " 'to',\n",
       " 'be',\n",
       " 'lots',\n",
       " 'of',\n",
       " 'problem',\n",
       " 'during',\n",
       " 'theirs',\n",
       " 'concerts',\n",
       " '.',\n",
       " 'Jimmy',\n",
       " 'Nail',\n",
       " 'and',\n",
       " 'Bill',\n",
       " 'Nighy',\n",
       " 'are',\n",
       " 'great',\n",
       " ',',\n",
       " 'and',\n",
       " 'song',\n",
       " 'The',\n",
       " 'Flame',\n",
       " 'Still',\n",
       " 'Burns',\n",
       " 'is',\n",
       " 'perfect',\n",
       " '.',\n",
       " 'You',\n",
       " 'have',\n",
       " 'to',\n",
       " 'watch',\n",
       " 'it',\n",
       " '.']"
      ]
     },
     "execution_count": 277,
     "metadata": {},
     "output_type": "execute_result"
    }
   ],
   "source": [
    "processed_corpus[0]"
   ]
  },
  {
   "cell_type": "code",
   "execution_count": 253,
   "metadata": {},
   "outputs": [
    {
     "data": {
      "text/plain": [
       "['This',\n",
       " 'movie',\n",
       " 'is',\n",
       " 'just',\n",
       " 'not',\n",
       " 'worth',\n",
       " 'your',\n",
       " 'time',\n",
       " '.',\n",
       " 'Its',\n",
       " 'reliance',\n",
       " 'upon',\n",
       " 'New-Age',\n",
       " 'mysticism',\n",
       " 'serves',\n",
       " 'as',\n",
       " 'its',\n",
       " 'only',\n",
       " 'semi-interesting',\n",
       " 'distraction',\n",
       " '.',\n",
       " 'The',\n",
       " 'plot',\n",
       " 'is',\n",
       " 'one',\n",
       " 'that',\n",
       " 'has',\n",
       " 'been',\n",
       " 're-cycled',\n",
       " 'countless',\n",
       " 'times.I',\n",
       " 'was',\n",
       " 'only',\n",
       " 'prompted',\n",
       " 'to',\n",
       " 'even',\n",
       " 'spend',\n",
       " 'the',\n",
       " 'time',\n",
       " 'to',\n",
       " 'put',\n",
       " 'in',\n",
       " 'a',\n",
       " 'comment',\n",
       " 'when',\n",
       " 'I',\n",
       " 'noted',\n",
       " 'that',\n",
       " 'some',\n",
       " 'have',\n",
       " 'tried',\n",
       " 'to',\n",
       " 'prop-up',\n",
       " 'the',\n",
       " 'reputation',\n",
       " 'of',\n",
       " 'this',\n",
       " 'drivel',\n",
       " '.',\n",
       " 'Their',\n",
       " 'motivation',\n",
       " '&',\n",
       " 'objectivity',\n",
       " 'is',\n",
       " 'dubious',\n",
       " ',',\n",
       " 'since',\n",
       " 'they',\n",
       " 'encourage',\n",
       " 'you',\n",
       " 'not',\n",
       " 'to',\n",
       " 'look',\n",
       " 'at',\n",
       " 'the',\n",
       " 'movies',\n",
       " 'faults',\n",
       " ',',\n",
       " 'but',\n",
       " 'at',\n",
       " 'its',\n",
       " 'well',\n",
       " 'intentioned',\n",
       " 'message',\n",
       " 'of',\n",
       " 'New',\n",
       " 'Age',\n",
       " 'consciousness.So',\n",
       " 'would',\n",
       " 'it',\n",
       " 'be',\n",
       " 'alright',\n",
       " 'for',\n",
       " 'some',\n",
       " 'twenty',\n",
       " 'to',\n",
       " 'thirty',\n",
       " 'Evangelical',\n",
       " 'Christians',\n",
       " ',',\n",
       " 'or',\n",
       " 'Islamic',\n",
       " 'Fundamentalists',\n",
       " 'to',\n",
       " 'pour',\n",
       " 'in',\n",
       " 'positive',\n",
       " 'ratings',\n",
       " 'about',\n",
       " 'movies/television',\n",
       " 'that',\n",
       " 'support',\n",
       " 'their',\n",
       " 'views',\n",
       " '?',\n",
       " 'In',\n",
       " 'spite',\n",
       " 'of',\n",
       " 'the',\n",
       " 'poor',\n",
       " 'qualities',\n",
       " 'of',\n",
       " 'production',\n",
       " ',',\n",
       " 'or',\n",
       " 'the',\n",
       " 'lack',\n",
       " 'of',\n",
       " 'truth',\n",
       " 'in',\n",
       " 'any',\n",
       " 'of',\n",
       " 'its',\n",
       " 'supposed',\n",
       " 'historic',\n",
       " 'basis',\n",
       " '?',\n",
       " 'I',\n",
       " 'hope',\n",
       " 'not.I',\n",
       " 'am',\n",
       " 'sure',\n",
       " 'the',\n",
       " 'followers',\n",
       " 'will',\n",
       " 'come',\n",
       " 'right',\n",
       " 'behind',\n",
       " 'me',\n",
       " 'to',\n",
       " 'say',\n",
       " 'flowery',\n",
       " 'things',\n",
       " 'about',\n",
       " 'this',\n",
       " 'movie',\n",
       " ',',\n",
       " 'in',\n",
       " 'spite',\n",
       " 'of',\n",
       " 'the',\n",
       " 'truth',\n",
       " '.']"
      ]
     },
     "execution_count": 253,
     "metadata": {},
     "output_type": "execute_result"
    }
   ],
   "source": [
    "list(processed_corpus[3])"
   ]
  },
  {
   "cell_type": "markdown",
   "metadata": {},
   "source": [
    "# Preprocessing\n",
    "\n",
    "Possible steps:\n",
    "* lowercasing\n",
    "* stemming\n",
    "* lemmatization\n",
    "* stopword removal\n",
    "* noise removal (ex. html tags)\n",
    "* tokenization\n",
    "* enrichment: \n",
    "    - POS tagging\n",
    "    - Chunking\n",
    "    - Word embedding\n",
    "    - Phrasing\n",
    "\n",
    "Notes:\n",
    "* Test if lowercasing improves performance"
   ]
  },
  {
   "cell_type": "code",
   "execution_count": null,
   "metadata": {},
   "outputs": [],
   "source": []
  },
  {
   "cell_type": "code",
   "execution_count": 31,
   "metadata": {},
   "outputs": [],
   "source": []
  },
  {
   "cell_type": "code",
   "execution_count": null,
   "metadata": {},
   "outputs": [],
   "source": []
  }
 ],
 "metadata": {
  "kernelspec": {
   "display_name": "Python 3",
   "language": "python",
   "name": "python3"
  },
  "language_info": {
   "codemirror_mode": {
    "name": "ipython",
    "version": 3
   },
   "file_extension": ".py",
   "mimetype": "text/x-python",
   "name": "python",
   "nbconvert_exporter": "python",
   "pygments_lexer": "ipython3",
   "version": "3.7.0"
  }
 },
 "nbformat": 4,
 "nbformat_minor": 2
}
