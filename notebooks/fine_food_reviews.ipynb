{
 "cells": [
  {
   "cell_type": "markdown",
   "metadata": {},
   "source": [
    "Original data available at:\n",
    "\n",
    "https://www.kaggle.com/snap/amazon-fine-food-reviews"
   ]
  },
  {
   "cell_type": "code",
   "execution_count": 1,
   "metadata": {},
   "outputs": [],
   "source": [
    "%matplotlib inline\n",
    "%load_ext autotime\n",
    "import sys\n",
    "sys.path.append('../src/')"
   ]
  },
  {
   "cell_type": "code",
   "execution_count": 530,
   "metadata": {},
   "outputs": [
    {
     "name": "stdout",
     "output_type": "stream",
     "text": [
      "time: 11.9 ms\n"
     ]
    }
   ],
   "source": [
    "from typing import Tuple, Sequence, Dict, Callable, Any, List, Pattern, Union, Iterable, overload, Optional\n",
    "from tqdm.autonotebook import tqdm\n",
    "\n",
    "from functools import partial\n",
    "import nltk\n",
    "from nltk.tokenize import TreebankWordTokenizer, PunktSentenceTokenizer\n",
    "from nltk.tokenize.stanford import StanfordTokenizer\n",
    "from nltk.stem import PorterStemmer, LancasterStemmer, WordNetLemmatizer\n",
    "from nltk.corpus import stopwords\n",
    "from nltk.tag import pos_tag_sents, pos_tag\n",
    "import re\n",
    "import datetime\n",
    "import os\n",
    "import zipfile\n",
    "\n",
    "from concurrent.futures import ProcessPoolExecutor, as_completed\n",
    "from multiprocessing import Lock\n",
    "import random, statistics\n",
    "import toolz as tz\n",
    "import toolz.curried as tzc\n",
    "\n",
    "from sklearn.model_selection import train_test_split\n",
    "from sklearn.base import BaseEstimator, TransformerMixin\n",
    "from sklearn import preprocessing as pp\n",
    "from sklearn import (feature_extraction, decomposition, linear_model, svm, model_selection, metrics)\n",
    "from sklearn.pipeline import make_pipeline, make_union\n",
    "from pattern import en as pattern_en\n",
    "from pattern.web import plaintext\n",
    "from gensim.models import Word2Vec, FastText\n",
    "from gensim.models import KeyedVectors\n",
    "from gensim.models.tfidfmodel import TfidfModel\n",
    "from gensim.scripts.glove2word2vec import glove2word2vec\n",
    "import pandas as pd\n",
    "import matplotlib.pyplot as plt\n",
    "import zipfile\n",
    "from pathlib import Path\n",
    "import numpy as np\n",
    "import seaborn as sns\n",
    "from collections import Counter\n",
    "\n",
    "import tensorflow as tf\n",
    "from tensorflow.keras import Sequential, Model\n",
    "from tensorflow.keras import layers\n",
    "from tensorflow.keras import metrics as kmetrics\n",
    "from tensorflow.keras.preprocessing.text import Tokenizer\n",
    "from tensorflow.keras.preprocessing.sequence import pad_sequences\n",
    "from tensorflow.keras.callbacks import Callback, EarlyStopping, ModelCheckpoint, ReduceLROnPlateau, TensorBoard\n",
    "\n",
    "import spacy\n",
    "\n",
    "from utils.preprocessing import (create_corpus_processor, filter_stopwords, clean_html, QUOTES_PATTERN, PARENTHESIS_PATTERN,\n",
    "                                get_curated_english_contractions, filter_stopwords, RegexpReplacer, CorpusNormalizer)\n",
    "from utils.nn import (ScoreScaler, create_embedding_matrix, load_word_vectors, predict_scores, ModelWrapper, train_fasttext)\n",
    "from utils.corpus import Corpus\n",
    "from utils.evaluate import evaluate_prediction, save_report\n",
    "\n",
    "sns.set()"
   ]
  },
  {
   "cell_type": "code",
   "execution_count": 529,
   "metadata": {},
   "outputs": [
    {
     "name": "stdout",
     "output_type": "stream",
     "text": [
      "time: 13.3 ms\n"
     ]
    }
   ],
   "source": [
    "FORCE_RELOAD = False\n",
    "\n",
    "DATADIR = Path('../data/')\n",
    "MODELS_DIR = Path('../models/')\n",
    "\n",
    "TMPDIR = Path('../tmp')\n",
    "ARTEFACT_DIR = Path('../artefacts/')\n",
    "REPORTS_DIR = Path('../reports/')\n",
    "\n",
    "TRAIN_DATASET_FILE = DATADIR / 'Reviews-train.csv.gzip'\n",
    "TEST_DATASET_FILE = DATADIR / 'Reviews-test.csv.gzip'"
   ]
  },
  {
   "cell_type": "markdown",
   "metadata": {},
   "source": [
    "### Create Train/Test split\n",
    "We reserve 10% of the dataset for testing."
   ]
  },
  {
   "cell_type": "code",
   "execution_count": 4,
   "metadata": {},
   "outputs": [
    {
     "name": "stdout",
     "output_type": "stream",
     "text": [
      "train/test split exists. Loading training data.\n",
      "shape of dataset data: (511608, 9)\n",
      "time: 4.84 s\n"
     ]
    }
   ],
   "source": [
    "\n",
    "if not (TRAIN_DATASET_FILE.exists() and TEST_DATASET_FILE.exists()):\n",
    "    print('Building train/test split.')\n",
    "    rawdataset = pd.read_csv(DATADIR / 'Reviews.csv', index_col=0)\n",
    "    train, test = train_test_split(rawdataset, test_size=0.10)\n",
    "    print(f'shape of training data: {train.shape}')\n",
    "    train.to_csv(TRAIN_DATASET_FILE, compression='gzip')\n",
    "    print(f'shape of testing data: {test.shape}')\n",
    "    test.to_csv(TEST_DATASET_FILE, compression='gzip')\n",
    "else:\n",
    "    print('train/test split exists. Loading training data.')\n",
    "    rawdataset = pd.read_csv(TRAIN_DATASET_FILE, compression='gzip', index_col=0)\n",
    "    print(f'shape of dataset data: {rawdataset.shape}')"
   ]
  },
  {
   "cell_type": "markdown",
   "metadata": {},
   "source": [
    "## Exploratory Data Analysis"
   ]
  },
  {
   "cell_type": "code",
   "execution_count": 447,
   "metadata": {},
   "outputs": [
    {
     "data": {
      "text/html": [
       "<div>\n",
       "<style scoped>\n",
       "    .dataframe tbody tr th:only-of-type {\n",
       "        vertical-align: middle;\n",
       "    }\n",
       "\n",
       "    .dataframe tbody tr th {\n",
       "        vertical-align: top;\n",
       "    }\n",
       "\n",
       "    .dataframe thead th {\n",
       "        text-align: right;\n",
       "    }\n",
       "</style>\n",
       "<table border=\"1\" class=\"dataframe\">\n",
       "  <thead>\n",
       "    <tr style=\"text-align: right;\">\n",
       "      <th></th>\n",
       "      <th>ProductId</th>\n",
       "      <th>UserId</th>\n",
       "      <th>ProfileName</th>\n",
       "      <th>HelpfulnessNumerator</th>\n",
       "      <th>HelpfulnessDenominator</th>\n",
       "      <th>Score</th>\n",
       "      <th>Time</th>\n",
       "      <th>Summary</th>\n",
       "      <th>Text</th>\n",
       "    </tr>\n",
       "    <tr>\n",
       "      <th>Id</th>\n",
       "      <th></th>\n",
       "      <th></th>\n",
       "      <th></th>\n",
       "      <th></th>\n",
       "      <th></th>\n",
       "      <th></th>\n",
       "      <th></th>\n",
       "      <th></th>\n",
       "      <th></th>\n",
       "    </tr>\n",
       "  </thead>\n",
       "  <tbody>\n",
       "    <tr>\n",
       "      <th>132844</th>\n",
       "      <td>B000ER5DCY</td>\n",
       "      <td>AWBKE3QTB3BWX</td>\n",
       "      <td>Nessie</td>\n",
       "      <td>1</td>\n",
       "      <td>1</td>\n",
       "      <td>4</td>\n",
       "      <td>1315958400</td>\n",
       "      <td>My baby's favorite 2nd stage food so far and g...</td>\n",
       "      <td>I like the Earth's Best baby food line because...</td>\n",
       "    </tr>\n",
       "    <tr>\n",
       "      <th>252371</th>\n",
       "      <td>B0001M0YBW</td>\n",
       "      <td>A2WUI7LDTN2ID4</td>\n",
       "      <td>Jodi</td>\n",
       "      <td>2</td>\n",
       "      <td>2</td>\n",
       "      <td>5</td>\n",
       "      <td>1308441600</td>\n",
       "      <td>Miracles Happen!!!</td>\n",
       "      <td>I sent this tea out of seas to a relative with...</td>\n",
       "    </tr>\n",
       "    <tr>\n",
       "      <th>521377</th>\n",
       "      <td>B007JFXWRC</td>\n",
       "      <td>A91TB0WX94MHP</td>\n",
       "      <td>Carina</td>\n",
       "      <td>0</td>\n",
       "      <td>0</td>\n",
       "      <td>5</td>\n",
       "      <td>1348704000</td>\n",
       "      <td>Made with real blackberries! Tastes real good</td>\n",
       "      <td>I am an avid drinker of lipton black tea, I dr...</td>\n",
       "    </tr>\n",
       "  </tbody>\n",
       "</table>\n",
       "</div>"
      ],
      "text/plain": [
       "         ProductId          UserId ProfileName  HelpfulnessNumerator  \\\n",
       "Id                                                                     \n",
       "132844  B000ER5DCY   AWBKE3QTB3BWX      Nessie                     1   \n",
       "252371  B0001M0YBW  A2WUI7LDTN2ID4        Jodi                     2   \n",
       "521377  B007JFXWRC   A91TB0WX94MHP      Carina                     0   \n",
       "\n",
       "        HelpfulnessDenominator  Score        Time  \\\n",
       "Id                                                  \n",
       "132844                       1      4  1315958400   \n",
       "252371                       2      5  1308441600   \n",
       "521377                       0      5  1348704000   \n",
       "\n",
       "                                                  Summary  \\\n",
       "Id                                                          \n",
       "132844  My baby's favorite 2nd stage food so far and g...   \n",
       "252371                                 Miracles Happen!!!   \n",
       "521377      Made with real blackberries! Tastes real good   \n",
       "\n",
       "                                                     Text  \n",
       "Id                                                         \n",
       "132844  I like the Earth's Best baby food line because...  \n",
       "252371  I sent this tea out of seas to a relative with...  \n",
       "521377  I am an avid drinker of lipton black tea, I dr...  "
      ]
     },
     "execution_count": 447,
     "metadata": {},
     "output_type": "execute_result"
    },
    {
     "name": "stdout",
     "output_type": "stream",
     "text": [
      "time: 88.6 ms\n"
     ]
    }
   ],
   "source": [
    "rawdataset.sample(3)"
   ]
  },
  {
   "cell_type": "code",
   "execution_count": 448,
   "metadata": {},
   "outputs": [
    {
     "data": {
      "text/html": [
       "<div>\n",
       "<style scoped>\n",
       "    .dataframe tbody tr th:only-of-type {\n",
       "        vertical-align: middle;\n",
       "    }\n",
       "\n",
       "    .dataframe tbody tr th {\n",
       "        vertical-align: top;\n",
       "    }\n",
       "\n",
       "    .dataframe thead th {\n",
       "        text-align: right;\n",
       "    }\n",
       "</style>\n",
       "<table border=\"1\" class=\"dataframe\">\n",
       "  <thead>\n",
       "    <tr style=\"text-align: right;\">\n",
       "      <th></th>\n",
       "      <th>ProductId</th>\n",
       "      <th>UserId</th>\n",
       "      <th>ProfileName</th>\n",
       "      <th>Summary</th>\n",
       "      <th>Text</th>\n",
       "    </tr>\n",
       "  </thead>\n",
       "  <tbody>\n",
       "    <tr>\n",
       "      <th>count</th>\n",
       "      <td>511608</td>\n",
       "      <td>511608</td>\n",
       "      <td>511594</td>\n",
       "      <td>511582</td>\n",
       "      <td>511608</td>\n",
       "    </tr>\n",
       "    <tr>\n",
       "      <th>unique</th>\n",
       "      <td>71053</td>\n",
       "      <td>238161</td>\n",
       "      <td>203824</td>\n",
       "      <td>271921</td>\n",
       "      <td>359839</td>\n",
       "    </tr>\n",
       "    <tr>\n",
       "      <th>top</th>\n",
       "      <td>B007JFMH8M</td>\n",
       "      <td>A3OXHLG6DIBRW8</td>\n",
       "      <td>C. F. Hill \"CFH\"</td>\n",
       "      <td>Delicious!</td>\n",
       "      <td>This review will make me sound really stupid, ...</td>\n",
       "    </tr>\n",
       "    <tr>\n",
       "      <th>freq</th>\n",
       "      <td>827</td>\n",
       "      <td>410</td>\n",
       "      <td>413</td>\n",
       "      <td>2239</td>\n",
       "      <td>185</td>\n",
       "    </tr>\n",
       "  </tbody>\n",
       "</table>\n",
       "</div>"
      ],
      "text/plain": [
       "         ProductId          UserId       ProfileName     Summary  \\\n",
       "count       511608          511608            511594      511582   \n",
       "unique       71053          238161            203824      271921   \n",
       "top     B007JFMH8M  A3OXHLG6DIBRW8  C. F. Hill \"CFH\"  Delicious!   \n",
       "freq           827             410               413        2239   \n",
       "\n",
       "                                                     Text  \n",
       "count                                              511608  \n",
       "unique                                             359839  \n",
       "top     This review will make me sound really stupid, ...  \n",
       "freq                                                  185  "
      ]
     },
     "execution_count": 448,
     "metadata": {},
     "output_type": "execute_result"
    },
    {
     "name": "stdout",
     "output_type": "stream",
     "text": [
      "time: 9.39 s\n"
     ]
    }
   ],
   "source": [
    "rawdataset.describe(include=['O'])"
   ]
  },
  {
   "cell_type": "code",
   "execution_count": 449,
   "metadata": {},
   "outputs": [
    {
     "data": {
      "text/html": [
       "<div>\n",
       "<style scoped>\n",
       "    .dataframe tbody tr th:only-of-type {\n",
       "        vertical-align: middle;\n",
       "    }\n",
       "\n",
       "    .dataframe tbody tr th {\n",
       "        vertical-align: top;\n",
       "    }\n",
       "\n",
       "    .dataframe thead th {\n",
       "        text-align: right;\n",
       "    }\n",
       "</style>\n",
       "<table border=\"1\" class=\"dataframe\">\n",
       "  <thead>\n",
       "    <tr style=\"text-align: right;\">\n",
       "      <th></th>\n",
       "      <th>HelpfulnessNumerator</th>\n",
       "      <th>HelpfulnessDenominator</th>\n",
       "      <th>Score</th>\n",
       "      <th>Time</th>\n",
       "    </tr>\n",
       "  </thead>\n",
       "  <tbody>\n",
       "    <tr>\n",
       "      <th>count</th>\n",
       "      <td>511608.000000</td>\n",
       "      <td>511608.000000</td>\n",
       "      <td>511608.000000</td>\n",
       "      <td>5.116080e+05</td>\n",
       "    </tr>\n",
       "    <tr>\n",
       "      <th>mean</th>\n",
       "      <td>1.746491</td>\n",
       "      <td>2.232741</td>\n",
       "      <td>4.183232</td>\n",
       "      <td>1.296241e+09</td>\n",
       "    </tr>\n",
       "    <tr>\n",
       "      <th>std</th>\n",
       "      <td>7.762385</td>\n",
       "      <td>8.413478</td>\n",
       "      <td>1.310201</td>\n",
       "      <td>4.803743e+07</td>\n",
       "    </tr>\n",
       "    <tr>\n",
       "      <th>min</th>\n",
       "      <td>0.000000</td>\n",
       "      <td>0.000000</td>\n",
       "      <td>1.000000</td>\n",
       "      <td>9.393408e+08</td>\n",
       "    </tr>\n",
       "    <tr>\n",
       "      <th>25%</th>\n",
       "      <td>0.000000</td>\n",
       "      <td>0.000000</td>\n",
       "      <td>4.000000</td>\n",
       "      <td>1.271290e+09</td>\n",
       "    </tr>\n",
       "    <tr>\n",
       "      <th>50%</th>\n",
       "      <td>0.000000</td>\n",
       "      <td>1.000000</td>\n",
       "      <td>5.000000</td>\n",
       "      <td>1.311120e+09</td>\n",
       "    </tr>\n",
       "    <tr>\n",
       "      <th>75%</th>\n",
       "      <td>2.000000</td>\n",
       "      <td>2.000000</td>\n",
       "      <td>5.000000</td>\n",
       "      <td>1.332720e+09</td>\n",
       "    </tr>\n",
       "    <tr>\n",
       "      <th>max</th>\n",
       "      <td>866.000000</td>\n",
       "      <td>923.000000</td>\n",
       "      <td>5.000000</td>\n",
       "      <td>1.351210e+09</td>\n",
       "    </tr>\n",
       "  </tbody>\n",
       "</table>\n",
       "</div>"
      ],
      "text/plain": [
       "       HelpfulnessNumerator  HelpfulnessDenominator          Score  \\\n",
       "count         511608.000000           511608.000000  511608.000000   \n",
       "mean               1.746491                2.232741       4.183232   \n",
       "std                7.762385                8.413478       1.310201   \n",
       "min                0.000000                0.000000       1.000000   \n",
       "25%                0.000000                0.000000       4.000000   \n",
       "50%                0.000000                1.000000       5.000000   \n",
       "75%                2.000000                2.000000       5.000000   \n",
       "max              866.000000              923.000000       5.000000   \n",
       "\n",
       "               Time  \n",
       "count  5.116080e+05  \n",
       "mean   1.296241e+09  \n",
       "std    4.803743e+07  \n",
       "min    9.393408e+08  \n",
       "25%    1.271290e+09  \n",
       "50%    1.311120e+09  \n",
       "75%    1.332720e+09  \n",
       "max    1.351210e+09  "
      ]
     },
     "execution_count": 449,
     "metadata": {},
     "output_type": "execute_result"
    },
    {
     "name": "stdout",
     "output_type": "stream",
     "text": [
      "time: 225 ms\n"
     ]
    }
   ],
   "source": [
    "rawdataset.describe(exclude=['O'])"
   ]
  },
  {
   "cell_type": "markdown",
   "metadata": {},
   "source": [
    "This analysis will focus on predicting the score of the review. Let's start by dropping the columns we're not going to use.\n",
    "Note that this dataset could be used to train a recommendation engine thanks to the ProductId/UserId provided."
   ]
  },
  {
   "cell_type": "code",
   "execution_count": 450,
   "metadata": {},
   "outputs": [
    {
     "name": "stdout",
     "output_type": "stream",
     "text": [
      "time: 344 ms\n"
     ]
    }
   ],
   "source": [
    "eda_dataset = rawdataset.drop(['ProductId', 'UserId', 'Time', 'ProfileName'], axis=1)\n",
    "eda_dataset['SummaryLength'] = eda_dataset['Summary'].str.len()\n",
    "eda_dataset['TextLength'] = eda_dataset['Text'].str.len()"
   ]
  },
  {
   "cell_type": "code",
   "execution_count": 454,
   "metadata": {},
   "outputs": [
    {
     "data": {
      "text/html": [
       "<div>\n",
       "<style scoped>\n",
       "    .dataframe tbody tr th:only-of-type {\n",
       "        vertical-align: middle;\n",
       "    }\n",
       "\n",
       "    .dataframe tbody tr th {\n",
       "        vertical-align: top;\n",
       "    }\n",
       "\n",
       "    .dataframe thead th {\n",
       "        text-align: right;\n",
       "    }\n",
       "</style>\n",
       "<table border=\"1\" class=\"dataframe\">\n",
       "  <thead>\n",
       "    <tr style=\"text-align: right;\">\n",
       "      <th></th>\n",
       "      <th>Score</th>\n",
       "      <th>Summary</th>\n",
       "    </tr>\n",
       "    <tr>\n",
       "      <th>Id</th>\n",
       "      <th></th>\n",
       "      <th></th>\n",
       "    </tr>\n",
       "  </thead>\n",
       "  <tbody>\n",
       "    <tr>\n",
       "      <th>549996</th>\n",
       "      <td>4</td>\n",
       "      <td>Tastes may vary</td>\n",
       "    </tr>\n",
       "    <tr>\n",
       "      <th>474228</th>\n",
       "      <td>4</td>\n",
       "      <td>Good, but these cans are BIG.</td>\n",
       "    </tr>\n",
       "    <tr>\n",
       "      <th>311078</th>\n",
       "      <td>5</td>\n",
       "      <td>How good Amazon Shipment be more tender</td>\n",
       "    </tr>\n",
       "  </tbody>\n",
       "</table>\n",
       "</div>"
      ],
      "text/plain": [
       "        Score                                  Summary\n",
       "Id                                                    \n",
       "549996      4                          Tastes may vary\n",
       "474228      4            Good, but these cans are BIG.\n",
       "311078      5  How good Amazon Shipment be more tender"
      ]
     },
     "execution_count": 454,
     "metadata": {},
     "output_type": "execute_result"
    },
    {
     "name": "stdout",
     "output_type": "stream",
     "text": [
      "time: 31.7 ms\n"
     ]
    }
   ],
   "source": [
    "eda_dataset[['Score', 'Summary']].sample(3)"
   ]
  },
  {
   "cell_type": "code",
   "execution_count": 455,
   "metadata": {},
   "outputs": [
    {
     "data": {
      "text/html": [
       "<div>\n",
       "<style scoped>\n",
       "    .dataframe tbody tr th:only-of-type {\n",
       "        vertical-align: middle;\n",
       "    }\n",
       "\n",
       "    .dataframe tbody tr th {\n",
       "        vertical-align: top;\n",
       "    }\n",
       "\n",
       "    .dataframe thead th {\n",
       "        text-align: right;\n",
       "    }\n",
       "</style>\n",
       "<table border=\"1\" class=\"dataframe\">\n",
       "  <thead>\n",
       "    <tr style=\"text-align: right;\">\n",
       "      <th></th>\n",
       "      <th>Score</th>\n",
       "      <th>Text</th>\n",
       "    </tr>\n",
       "    <tr>\n",
       "      <th>Id</th>\n",
       "      <th></th>\n",
       "      <th></th>\n",
       "    </tr>\n",
       "  </thead>\n",
       "  <tbody>\n",
       "    <tr>\n",
       "      <th>244968</th>\n",
       "      <td>5</td>\n",
       "      <td>I used to buy Lactose-free milk from the Super...</td>\n",
       "    </tr>\n",
       "    <tr>\n",
       "      <th>382646</th>\n",
       "      <td>5</td>\n",
       "      <td>Although I didn't actually get to enjoy these ...</td>\n",
       "    </tr>\n",
       "    <tr>\n",
       "      <th>217850</th>\n",
       "      <td>4</td>\n",
       "      <td>I have tried several of the Stash herbal teas ...</td>\n",
       "    </tr>\n",
       "  </tbody>\n",
       "</table>\n",
       "</div>"
      ],
      "text/plain": [
       "        Score                                               Text\n",
       "Id                                                              \n",
       "244968      5  I used to buy Lactose-free milk from the Super...\n",
       "382646      5  Although I didn't actually get to enjoy these ...\n",
       "217850      4  I have tried several of the Stash herbal teas ..."
      ]
     },
     "execution_count": 455,
     "metadata": {},
     "output_type": "execute_result"
    },
    {
     "name": "stdout",
     "output_type": "stream",
     "text": [
      "time: 43.9 ms\n"
     ]
    }
   ],
   "source": [
    "eda_dataset[['Score', 'Text']].sample(3)"
   ]
  },
  {
   "cell_type": "code",
   "execution_count": 456,
   "metadata": {},
   "outputs": [
    {
     "name": "stdout",
     "output_type": "stream",
     "text": [
      "time: 1.14 ms\n"
     ]
    }
   ],
   "source": [
    "eda_dataset_by_scores = eda_dataset.groupby('Score')"
   ]
  },
  {
   "cell_type": "code",
   "execution_count": 457,
   "metadata": {},
   "outputs": [
    {
     "data": {
      "text/html": [
       "<div>\n",
       "<style scoped>\n",
       "    .dataframe tbody tr th:only-of-type {\n",
       "        vertical-align: middle;\n",
       "    }\n",
       "\n",
       "    .dataframe tbody tr th {\n",
       "        vertical-align: top;\n",
       "    }\n",
       "\n",
       "    .dataframe thead tr th {\n",
       "        text-align: left;\n",
       "    }\n",
       "\n",
       "    .dataframe thead tr:last-of-type th {\n",
       "        text-align: right;\n",
       "    }\n",
       "</style>\n",
       "<table border=\"1\" class=\"dataframe\">\n",
       "  <thead>\n",
       "    <tr>\n",
       "      <th></th>\n",
       "      <th colspan=\"8\" halign=\"left\">SummaryLength</th>\n",
       "      <th colspan=\"8\" halign=\"left\">TextLength</th>\n",
       "    </tr>\n",
       "    <tr>\n",
       "      <th></th>\n",
       "      <th>count</th>\n",
       "      <th>mean</th>\n",
       "      <th>std</th>\n",
       "      <th>min</th>\n",
       "      <th>25%</th>\n",
       "      <th>50%</th>\n",
       "      <th>75%</th>\n",
       "      <th>max</th>\n",
       "      <th>count</th>\n",
       "      <th>mean</th>\n",
       "      <th>std</th>\n",
       "      <th>min</th>\n",
       "      <th>25%</th>\n",
       "      <th>50%</th>\n",
       "      <th>75%</th>\n",
       "      <th>max</th>\n",
       "    </tr>\n",
       "    <tr>\n",
       "      <th>Score</th>\n",
       "      <th></th>\n",
       "      <th></th>\n",
       "      <th></th>\n",
       "      <th></th>\n",
       "      <th></th>\n",
       "      <th></th>\n",
       "      <th></th>\n",
       "      <th></th>\n",
       "      <th></th>\n",
       "      <th></th>\n",
       "      <th></th>\n",
       "      <th></th>\n",
       "      <th></th>\n",
       "      <th></th>\n",
       "      <th></th>\n",
       "      <th></th>\n",
       "    </tr>\n",
       "  </thead>\n",
       "  <tbody>\n",
       "    <tr>\n",
       "      <th>1</th>\n",
       "      <td>46997.0</td>\n",
       "      <td>24.466030</td>\n",
       "      <td>15.302695</td>\n",
       "      <td>1.0</td>\n",
       "      <td>13.0</td>\n",
       "      <td>21.0</td>\n",
       "      <td>32.0</td>\n",
       "      <td>128.0</td>\n",
       "      <td>46997.0</td>\n",
       "      <td>478.542184</td>\n",
       "      <td>520.123653</td>\n",
       "      <td>12.0</td>\n",
       "      <td>202.0</td>\n",
       "      <td>339.0</td>\n",
       "      <td>564.0</td>\n",
       "      <td>11861.0</td>\n",
       "    </tr>\n",
       "    <tr>\n",
       "      <th>2</th>\n",
       "      <td>26779.0</td>\n",
       "      <td>24.889391</td>\n",
       "      <td>14.601783</td>\n",
       "      <td>1.0</td>\n",
       "      <td>14.0</td>\n",
       "      <td>22.0</td>\n",
       "      <td>33.0</td>\n",
       "      <td>128.0</td>\n",
       "      <td>26803.0</td>\n",
       "      <td>490.476775</td>\n",
       "      <td>456.281301</td>\n",
       "      <td>33.0</td>\n",
       "      <td>212.0</td>\n",
       "      <td>358.0</td>\n",
       "      <td>606.0</td>\n",
       "      <td>9295.0</td>\n",
       "    </tr>\n",
       "    <tr>\n",
       "      <th>3</th>\n",
       "      <td>38443.0</td>\n",
       "      <td>26.086102</td>\n",
       "      <td>15.158867</td>\n",
       "      <td>1.0</td>\n",
       "      <td>15.0</td>\n",
       "      <td>23.0</td>\n",
       "      <td>34.0</td>\n",
       "      <td>127.0</td>\n",
       "      <td>38445.0</td>\n",
       "      <td>520.681129</td>\n",
       "      <td>512.352307</td>\n",
       "      <td>32.0</td>\n",
       "      <td>214.0</td>\n",
       "      <td>373.0</td>\n",
       "      <td>656.0</td>\n",
       "      <td>21409.0</td>\n",
       "    </tr>\n",
       "    <tr>\n",
       "      <th>4</th>\n",
       "      <td>72578.0</td>\n",
       "      <td>24.839290</td>\n",
       "      <td>14.754415</td>\n",
       "      <td>1.0</td>\n",
       "      <td>14.0</td>\n",
       "      <td>22.0</td>\n",
       "      <td>33.0</td>\n",
       "      <td>128.0</td>\n",
       "      <td>72578.0</td>\n",
       "      <td>496.934030</td>\n",
       "      <td>486.023788</td>\n",
       "      <td>35.0</td>\n",
       "      <td>196.0</td>\n",
       "      <td>347.0</td>\n",
       "      <td>623.0</td>\n",
       "      <td>12518.0</td>\n",
       "    </tr>\n",
       "    <tr>\n",
       "      <th>5</th>\n",
       "      <td>326785.0</td>\n",
       "      <td>22.552235</td>\n",
       "      <td>13.366505</td>\n",
       "      <td>1.0</td>\n",
       "      <td>13.0</td>\n",
       "      <td>20.0</td>\n",
       "      <td>29.0</td>\n",
       "      <td>128.0</td>\n",
       "      <td>326785.0</td>\n",
       "      <td>402.671197</td>\n",
       "      <td>411.328065</td>\n",
       "      <td>18.0</td>\n",
       "      <td>170.0</td>\n",
       "      <td>277.0</td>\n",
       "      <td>481.0</td>\n",
       "      <td>16952.0</td>\n",
       "    </tr>\n",
       "  </tbody>\n",
       "</table>\n",
       "</div>"
      ],
      "text/plain": [
       "      SummaryLength                                                      \\\n",
       "              count       mean        std  min   25%   50%   75%    max   \n",
       "Score                                                                     \n",
       "1           46997.0  24.466030  15.302695  1.0  13.0  21.0  32.0  128.0   \n",
       "2           26779.0  24.889391  14.601783  1.0  14.0  22.0  33.0  128.0   \n",
       "3           38443.0  26.086102  15.158867  1.0  15.0  23.0  34.0  127.0   \n",
       "4           72578.0  24.839290  14.754415  1.0  14.0  22.0  33.0  128.0   \n",
       "5          326785.0  22.552235  13.366505  1.0  13.0  20.0  29.0  128.0   \n",
       "\n",
       "      TextLength                                                              \n",
       "           count        mean         std   min    25%    50%    75%      max  \n",
       "Score                                                                         \n",
       "1        46997.0  478.542184  520.123653  12.0  202.0  339.0  564.0  11861.0  \n",
       "2        26803.0  490.476775  456.281301  33.0  212.0  358.0  606.0   9295.0  \n",
       "3        38445.0  520.681129  512.352307  32.0  214.0  373.0  656.0  21409.0  \n",
       "4        72578.0  496.934030  486.023788  35.0  196.0  347.0  623.0  12518.0  \n",
       "5       326785.0  402.671197  411.328065  18.0  170.0  277.0  481.0  16952.0  "
      ]
     },
     "execution_count": 457,
     "metadata": {},
     "output_type": "execute_result"
    },
    {
     "name": "stdout",
     "output_type": "stream",
     "text": [
      "time: 273 ms\n"
     ]
    }
   ],
   "source": [
    "eda_dataset_by_scores[['SummaryLength', 'TextLength']].describe()"
   ]
  },
  {
   "cell_type": "markdown",
   "metadata": {},
   "source": [
    "Good reviews are shorter on average."
   ]
  },
  {
   "cell_type": "code",
   "execution_count": 458,
   "metadata": {},
   "outputs": [
    {
     "data": {
      "text/plain": [
       "<matplotlib.axes._subplots.AxesSubplot at 0x22527d7b8>"
      ]
     },
     "execution_count": 458,
     "metadata": {},
     "output_type": "execute_result"
    },
    {
     "data": {
      "image/png": "[encoded data removed]",
      "text/plain": [
       "<Figure size 432x288 with 1 Axes>"
      ]
     },
     "metadata": {},
     "output_type": "display_data"
    },
    {
     "name": "stdout",
     "output_type": "stream",
     "text": [
      "time: 382 ms\n"
     ]
    }
   ],
   "source": [
    "eda_dataset['Score'].plot('hist')"
   ]
  },
  {
   "cell_type": "markdown",
   "metadata": {},
   "source": [
    "Perfect scores are overreppresented. We're in presence of a fairly imbalanced dataset."
   ]
  },
  {
   "cell_type": "code",
   "execution_count": 464,
   "metadata": {},
   "outputs": [
    {
     "name": "stdout",
     "output_type": "stream",
     "text": [
      "time: 1.82 ms\n"
     ]
    }
   ],
   "source": [
    "def get_sample_reviews(dataset, label=None, n=5):\n",
    "    for _ in range(n):\n",
    "        summary = dataset['Summary'].sample().values[0]\n",
    "        text = dataset['Text'].sample().values[0]\n",
    "        print('\\n')\n",
    "        print('-' * 100)\n",
    "        if label:\n",
    "            print(label)\n",
    "        print('Summary:', summary)\n",
    "        print(text)\n",
    "        "
   ]
  },
  {
   "cell_type": "code",
   "execution_count": 467,
   "metadata": {},
   "outputs": [
    {
     "name": "stdout",
     "output_type": "stream",
     "text": [
      "\n",
      "\n",
      "====================================================================================================\n",
      "Score:  1\n",
      "====================================================================================================\n",
      "\n",
      "\n",
      "----------------------------------------------------------------------------------------------------\n",
      "Summary: HORRIBLE change to the original orgain\n",
      "This tea is horrible. The product has a dirty laundry smell and does not taste much better. I expected better from something so expensive. It is simply not worth it. Cheaper white teas from other brands are much better. Rishi, H&S, and numerous other tea companies have better white tea. In all honesty, this tastes worse than bagged tea. Teavana has some good products, but they are just too overpriced.<br /><br />Did I mention how horrible Teavana's customer service is? They don't respond to emails,etc. You have to wait on the phone for hours. Simply unacceptable. Feel free to check their facebook wall to see customers voicing the same concern.\n",
      "\n",
      "\n",
      "====================================================================================================\n",
      "Score:  2\n",
      "====================================================================================================\n",
      "\n",
      "\n",
      "----------------------------------------------------------------------------------------------------\n",
      "Summary: Hot water\n",
      "Just recently purchase as I like the soda taste but not the amount of sugar in Soda.  Have tried all flavors and regardless of soda, they all have the DIET aftertaste.  If you suffer from migrains (as I do) the artificial sweetener used in the soda syrups will only cause more pain and surprisingly quickly.  There truely needs to be an alternative to the artificial sweetner for this to be a soda substitute.\n",
      "\n",
      "\n",
      "====================================================================================================\n",
      "Score:  3\n",
      "====================================================================================================\n",
      "\n",
      "\n",
      "----------------------------------------------------------------------------------------------------\n",
      "Summary: 1 Star Product, 4 Star Customer Service\n",
      "While I read here the original flavor was natural, there was no list of ingredients available. And to my disappointment when this arrived it does indeed contain nitrites. The taste is alright, but I really would like to find jerky WITHOUT Nitrites or Nitrates. I've kept it in the fridge now for several months (i haven't had any mold issues) since I truly try to consume nitrites as little as possible, it will take a very long time to eat this or I'll end up trashing it. Please REVISE the description to be accurate! This brand DOES from my understanding have a truly natural version, that I cannot seem to find on Amazon.\n",
      "\n",
      "\n",
      "====================================================================================================\n",
      "Score:  4\n",
      "====================================================================================================\n",
      "\n",
      "\n",
      "----------------------------------------------------------------------------------------------------\n",
      "Summary: good grab and go snack\n",
      "These must be really delicious because my 11 month old puppy goes crazy for them.  More than once, I left a piece in my jacket pocket by accident and found my dog chewing the pocket to get to them. They seem natural - the only ingredient listed is \"Chicken Breast\".<br />I use them for training and they are very effective.  I only wish they were sliced a bit thinner before they were roasted because they are really difficult to break up into smaller pieces.<br /><br />The first bag was a gift from a friend, but we will get them again.\n",
      "\n",
      "\n",
      "====================================================================================================\n",
      "Score:  5\n",
      "====================================================================================================\n",
      "\n",
      "\n",
      "----------------------------------------------------------------------------------------------------\n",
      "Summary: excellent black tea\n",
      "buy this tomato paste it's great and there's no waste unlike cans where you end throw ing it away and it's imported from france. enjoy\n",
      "time: 104 ms\n"
     ]
    }
   ],
   "source": [
    "for i in range(1, 6):\n",
    "    print('\\n')\n",
    "    print('=' * 100)\n",
    "    print('Score: ', i)\n",
    "    print('=' * 100)\n",
    "    get_sample_reviews(eda_dataset_by_scores.get_group(i), n=1)\n"
   ]
  },
  {
   "cell_type": "markdown",
   "metadata": {},
   "source": [
    "Observations:\n",
    "* html tags are still present.\n",
    "* Some english contractions still present."
   ]
  },
  {
   "cell_type": "code",
   "execution_count": 468,
   "metadata": {},
   "outputs": [
    {
     "name": "stdout",
     "output_type": "stream",
     "text": [
      "time: 51.8 s\n"
     ]
    }
   ],
   "source": [
    "eda_dataset['Text'] = eda_dataset['Text'].apply(plaintext)"
   ]
  },
  {
   "cell_type": "code",
   "execution_count": 469,
   "metadata": {},
   "outputs": [
    {
     "name": "stdout",
     "output_type": "stream",
     "text": [
      "\n",
      "\n",
      "----------------------------------------------------------------------------------------------------\n",
      "Summary: Issues Resolved In Second Basket\n",
      "Butter Pecan is my favorite brand of coffee! Each bag brews a wonderful pot of freshly made coffee. Each 1.5 ounce packet is favor sealed with freshness that you can smell the moment you open the packet.\n",
      "\n",
      "\n",
      "----------------------------------------------------------------------------------------------------\n",
      "Summary: Horrible...liquid Red Hots\n",
      "Really? Who blends this stuff and decides that it is good? Ugh. I can sum this nastyness up in one quick phrase. Stale airline coffee! If you like that flavor, then you will love this one, if you don't like thin cardboard soaked, never washed the pot out, and the water came from a tin canteen, flavored coffee, then you won't like this one either! I would give this zero stars if I could. WOW, likely the worst cup of coffee that I have ever had. I hope Wolfy reads this as his name is on the package and I expected more, now I know not to buy any of his signature products, awesome, thanks for saving me $$ next time! The package says Extra Bold, but it doesn't taste extra bold. It's almost like they put some ground instant powder in the mix to make it stronger.\n",
      "time: 50.1 ms\n"
     ]
    }
   ],
   "source": [
    "get_sample_reviews(eda_dataset, n=2)"
   ]
  },
  {
   "cell_type": "markdown",
   "metadata": {},
   "source": [
    "### EDA - Preprocessing"
   ]
  },
  {
   "cell_type": "markdown",
   "metadata": {},
   "source": [
    "We're going to tokenize and stem the dataset to have a look at the distribution of tokens by scores.\n",
    "Note that we do not use spacy for the sake of the exercise.\n",
    "\n",
    "A first pass over the data reveal that stopwords and punctuation are significantly poluting the dataset. We'll remove them first"
   ]
  },
  {
   "cell_type": "code",
   "execution_count": 20,
   "metadata": {},
   "outputs": [
    {
     "name": "stdout",
     "output_type": "stream",
     "text": [
      "time: 2.08 ms\n"
     ]
    }
   ],
   "source": [
    "\n",
    "class DocumentStemmer:\n",
    "    def __init__(self, stopwords, lower=True):\n",
    "        self._stemmer = PorterStemmer()\n",
    "        self._stopwords = stopwords\n",
    "        self._lower = lower\n",
    "        sent_tokenizer = PunktSentenceTokenizer()\n",
    "        word_tokenizer = TreebankWordTokenizer()\n",
    "        self._tokenize_text = tzc.compose(tzc.mapcat(word_tokenizer.tokenize), sent_tokenizer.tokenize)\n",
    "        \n",
    "    def stem_document(self, doc):\n",
    "        if self._lower:\n",
    "            doc = doc.lower()\n",
    "        tokens = self._tokenize_text(doc)\n",
    "        stems = [self._stemmer.stem(w) for w in tokens if w not in self._stopwords]\n",
    "        return stems\n",
    "        "
   ]
  },
  {
   "cell_type": "code",
   "execution_count": 21,
   "metadata": {},
   "outputs": [
    {
     "name": "stdout",
     "output_type": "stream",
     "text": [
      "time: 10.6 ms\n"
     ]
    }
   ],
   "source": [
    "STOPWORDS = {'.', ',', \"''\", '``', '(', ')'}.union(stopwords.words('english'))"
   ]
  },
  {
   "cell_type": "code",
   "execution_count": 22,
   "metadata": {},
   "outputs": [
    {
     "name": "stdout",
     "output_type": "stream",
     "text": [
      "time: 899 µs\n"
     ]
    }
   ],
   "source": [
    "\n",
    "doc_stemmer = DocumentStemmer(STOPWORDS)"
   ]
  },
  {
   "cell_type": "code",
   "execution_count": 23,
   "metadata": {},
   "outputs": [
    {
     "name": "stdout",
     "output_type": "stream",
     "text": [
      "time: 3min 9s\n"
     ]
    }
   ],
   "source": [
    "with ProcessPoolExecutor() as executor:\n",
    "    stems = list(executor.map(doc_stemmer.stem_document, eda_dataset['Text'], chunksize=1000))\n",
    "    "
   ]
  },
  {
   "cell_type": "code",
   "execution_count": null,
   "metadata": {},
   "outputs": [],
   "source": []
  },
  {
   "cell_type": "code",
   "execution_count": 24,
   "metadata": {},
   "outputs": [
    {
     "name": "stdout",
     "output_type": "stream",
     "text": [
      "time: 469 ms\n"
     ]
    }
   ],
   "source": [
    "eda_dataset['Stems'] = stems"
   ]
  },
  {
   "cell_type": "code",
   "execution_count": 25,
   "metadata": {},
   "outputs": [
    {
     "name": "stdout",
     "output_type": "stream",
     "text": [
      "time: 215 ms\n"
     ]
    }
   ],
   "source": [
    "eda_dataset_by_scores = eda_dataset.groupby('Score')"
   ]
  },
  {
   "cell_type": "code",
   "execution_count": 33,
   "metadata": {},
   "outputs": [
    {
     "name": "stdout",
     "output_type": "stream",
     "text": [
      "time: 1.35 ms\n"
     ]
    }
   ],
   "source": [
    "def show_most_common(counter, title=None, n=25):\n",
    "    most_common = reversed(counter.most_common(n))\n",
    "    k, v = zip(*most_common)\n",
    "#     fig = plt.figure(figsize=(10, 10))\n",
    "    if title:\n",
    "        plt.title(title)\n",
    "    plt.barh(k, v);\n",
    "\n"
   ]
  },
  {
   "cell_type": "code",
   "execution_count": 27,
   "metadata": {},
   "outputs": [
    {
     "name": "stdout",
     "output_type": "stream",
     "text": [
      "time: 3.13 s\n"
     ]
    }
   ],
   "source": [
    "counters = {\n",
    "    name: Counter(tz.concat(df['Stems']))\n",
    "    for name, df in eda_dataset_by_scores\n",
    "}\n"
   ]
  },
  {
   "cell_type": "code",
   "execution_count": 36,
   "metadata": {},
   "outputs": [
    {
     "data": {
      "image/png": "[encoded data removed]",
      "text/plain": [
       "<Figure size 1440x720 with 5 Axes>"
      ]
     },
     "metadata": {},
     "output_type": "display_data"
    },
    {
     "name": "stdout",
     "output_type": "stream",
     "text": [
      "time: 1.55 s\n"
     ]
    }
   ],
   "source": [
    "#TODO: Create word cloud and attempt to identify some pattern.\n",
    "fig = plt.figure(figsize=(20, 10))\n",
    "fig.subplots_adjust(hspace=0.4, wspace=0.4)\n",
    "for i, (score, counter) in enumerate(counters.items()):\n",
    "    ax = fig.add_subplot(2, 3, i+1)\n",
    "    show_most_common(counter, f'Score: {score}')"
   ]
  },
  {
   "cell_type": "markdown",
   "metadata": {},
   "source": [
    "## Raw Dataset"
   ]
  },
  {
   "cell_type": "code",
   "execution_count": 10,
   "metadata": {},
   "outputs": [
    {
     "name": "stdout",
     "output_type": "stream",
     "text": [
      "train: (383706, 8)\n",
      "devtest: (127902, 8)\n",
      "time: 566 ms\n"
     ]
    }
   ],
   "source": [
    "features_train, features_devtest, scores_train, scores_devtest = train_test_split(rawdataset.drop('Score', axis=1), \n",
    "                                                                                  rawdataset['Score'], \n",
    "                                                                                  test_size=0.25, stratify=rawdataset['Score'])\n",
    "X = features_train['Text']\n",
    "X_devtest = features_devtest['Text']\n",
    "print(f'train: {features_train.shape}\\ndevtest: {features_devtest.shape}')"
   ]
  },
  {
   "cell_type": "code",
   "execution_count": 11,
   "metadata": {},
   "outputs": [
    {
     "name": "stdout",
     "output_type": "stream",
     "text": [
      "sample size: (191853,)\n",
      "time: 204 ms\n"
     ]
    }
   ],
   "source": [
    "X_sampled, _, y_sampled, _ = train_test_split(X, scores_train, train_size=0.5, stratify=scores_train) \n",
    "print(f'sample size: {X_sampled.shape}')"
   ]
  },
  {
   "cell_type": "markdown",
   "metadata": {},
   "source": [
    "## Modelling"
   ]
  },
  {
   "cell_type": "markdown",
   "metadata": {},
   "source": [
    "### Modelling - Baseline Model\n",
    "\n",
    "We start with a baseline model applying LSA to the dataset with no additional features.\n",
    "We'll test a few different model types with this simple feature set."
   ]
  },
  {
   "cell_type": "code",
   "execution_count": 45,
   "metadata": {},
   "outputs": [
    {
     "name": "stdout",
     "output_type": "stream",
     "text": [
      "time: 4.3 ms\n"
     ]
    }
   ],
   "source": [
    "def make_baseline(estimator):\n",
    "    baseline = make_pipeline(\n",
    "        feature_extraction.text.TfidfVectorizer(max_features=20000, stop_words='english', ngram_range=(1, 2)),\n",
    "        decomposition.TruncatedSVD(n_components=300, n_iter=8),\n",
    "        estimator\n",
    "    )\n",
    "    \n",
    "def evaluate_baseline(baseline, X, y, X_test, y_test, label=None):\n",
    "    tranforms = make_pipeline(\n",
    "        feature_extraction.text.TfidfVectorizer(max_features=20000, stop_words='english', ngram_range=(1, 2)),\n",
    "        decomposition.TruncatedSVD(n_components=300, n_iter=8)\n",
    "    )\n",
    "    X_tf = tranforms.fit_transform(X)\n",
    "    \n",
    "    print(f'training {baseline} done.')\n",
    "    print('evaluating...')\n",
    "    y_pred = baseline.predict(X_test)\n",
    "    report = evaluate_prediction(y_test, y_pred)\n",
    "    if label:\n",
    "        label = f'baseline-{label}'\n",
    "    else:\n",
    "        label = 'baseline'\n",
    "    save_report(report, REPORTS_DIR, label)\n",
    "    return baseline, report\n"
   ]
  },
  {
   "cell_type": "code",
   "execution_count": 46,
   "metadata": {},
   "outputs": [
    {
     "name": "stdout",
     "output_type": "stream",
     "text": [
      "time: 3.84 ms\n"
     ]
    }
   ],
   "source": [
    "baselines = {\n",
    "    'logit-ovr': linear_model.LogisticRegression(solver='saga', multi_class='ovr', n_jobs=-1, max_iter=250),\n",
    "    'logit-multinomial': linear_model.LogisticRegression(solver='saga', multi_class='multinomial', n_jobs=-1, max_iter=250),\n",
    "}"
   ]
  },
  {
   "cell_type": "code",
   "execution_count": 209,
   "metadata": {},
   "outputs": [],
   "source": [
    "def evaluate_baseline(estimator, feature_extractor, X_train, y_train, X_test, y_test, label=None):\n",
    "    X = feature_extractor.transform(X_train)\n",
    "    estimator.fit(X, y_train)\n",
    "\n",
    "    baseline = make_pipeline(*feature_extractor.named_steps.values(), estimator)\n",
    "    \n",
    "    print(f'fitting {label or baseline} done. evaluating...')\n",
    "    \n",
    "    y_pred = baseline.predict(X_test)\n",
    "    report = evaluate_prediction(y_test, y_pred)\n",
    "    if label:\n",
    "        label = f'baseline-{label}'\n",
    "    else:\n",
    "        label = 'baseline'\n",
    "    save_report(report, REPORTS_DIR, label)\n",
    "    return baseline, report\n",
    "\n",
    "\n",
    "def evaluate_baselines(baselines, X_train, y_train, X_test, y_test):\n",
    "    lsa = make_pipeline(\n",
    "        feature_extraction.text.TfidfVectorizer(max_features=20000, stop_words='english', ngram_range=(1, 2)),\n",
    "        decomposition.TruncatedSVD(n_components=300, n_iter=8)\n",
    "    )\n",
    "    lsa.fit(X_train)\n",
    "    print('feature extraction done.')\n",
    "    \n",
    "    with ProcessPoolExecutor() as executor:\n",
    "        future_to_labels = {\n",
    "            executor.submit(evaluate_baseline, baseline, lsa, X_train, y_train, X_test, y_test, label): label\n",
    "            for label, baseline in baselines.items()\n",
    "        }\n",
    "    \n",
    "    results = {}\n",
    "    for future in as_completed(future_to_labels):\n",
    "        label = future_to_labels[future]\n",
    "        result = future.result()\n",
    "        print(result)\n",
    "        if isinstance(result, tuple):\n",
    "            model, report = result\n",
    "            result[label] = {'model': model, 'report': report}\n",
    "        else:\n",
    "            print(f'issue with {label}')\n",
    "\n",
    "    return results\n",
    "\n",
    "    \n",
    "\n"
   ]
  },
  {
   "cell_type": "code",
   "execution_count": 210,
   "metadata": {},
   "outputs": [
    {
     "name": "stdout",
     "output_type": "stream",
     "text": [
      "feature extraction done.\n",
      "fitting logit-multinomial done. evaluating...\n",
      "AUROC: 0.614\n",
      "MCC: 0.365\n",
      "              precision    recall  f1-score   support\n",
      "\n",
      "           1       0.55      0.54      0.54     11749\n",
      "           2       0.33      0.05      0.09      6701\n",
      "           3       0.36      0.14      0.20      9611\n",
      "           4       0.46      0.14      0.22     18145\n",
      "           5       0.74      0.96      0.84     81696\n",
      "\n",
      "   micro avg       0.70      0.70      0.70    127902\n",
      "   macro avg       0.49      0.37      0.38    127902\n",
      "weighted avg       0.63      0.70      0.63    127902\n",
      "\n"
     ]
    },
    {
     "data": {
      "image/png": "[encoded data removed]",
      "text/plain": [
       "<Figure size 720x720 with 2 Axes>"
      ]
     },
     "metadata": {},
     "output_type": "display_data"
    },
    {
     "name": "stdout",
     "output_type": "stream",
     "text": [
      "fitting logit-ovr done. evaluating...\n",
      "AUROC: 0.601\n",
      "MCC: 0.347\n",
      "              precision    recall  f1-score   support\n",
      "\n",
      "           1       0.56      0.50      0.53     11749\n",
      "           2       0.36      0.03      0.05      6701\n",
      "           3       0.37      0.10      0.16      9611\n",
      "           4       0.42      0.14      0.21     18145\n",
      "           5       0.73      0.97      0.83     81696\n",
      "\n",
      "   micro avg       0.69      0.69      0.69    127902\n",
      "   macro avg       0.49      0.35      0.35    127902\n",
      "weighted avg       0.62      0.69      0.62    127902\n",
      "\n"
     ]
    },
    {
     "data": {
      "image/png": "[encoded data removed]",
      "text/plain": [
       "<Figure size 720x720 with 2 Axes>"
      ]
     },
     "metadata": {},
     "output_type": "display_data"
    },
    {
     "name": "stdout",
     "output_type": "stream",
     "text": [
      "(Pipeline(memory=None,\n",
      "     steps=[('tfidfvectorizer', TfidfVectorizer(analyzer='word', binary=False, decode_error='strict',\n",
      "        dtype=<class 'numpy.float64'>, encoding='utf-8', input='content',\n",
      "        lowercase=True, max_df=1.0, max_features=20000, min_df=1,\n",
      "        ngram_range=(1, 2), norm='l2', preprocessor=None, smoot...penalty='l2', random_state=None, solver='saga', tol=0.0001,\n",
      "          verbose=0, warm_start=False))]), {'auroc': 0.6005091256480368, 'f1score': 0.3542407767902014, 'normalized_confusion_matrix': [[0.49655289811898884, 0.016713923295030592, 0.03267089792945583, 0.014549462661890328, 0.06395661966314141], [0.1539705506851647, 0.0261155051484853, 0.061596087816044115, 0.027280242491044365, 0.04443301997649824], [0.10324282917695123, 0.016564691837039246, 0.09863697846217875, 0.07406999173325986, 0.07338180571876224], [0.05072772150821347, 0.006715415609610506, 0.04536468629695141, 0.1393772389087903, 0.17796464943204074], [0.08690101285215764, 0.005820026861662438, 0.025387576734991157, 0.07368421052631578, 0.9676728358793576]], 'matthew_corrcoef': 0.3471927268884373})\n"
     ]
    },
    {
     "ename": "TypeError",
     "evalue": "'tuple' object does not support item assignment",
     "output_type": "error",
     "traceback": [
      "\u001b[0;31m---------------------------------------------------------------------------\u001b[0m",
      "\u001b[0;31mTypeError\u001b[0m                                 Traceback (most recent call last)",
      "\u001b[0;32m<ipython-input-210-7db2f751e7a7>\u001b[0m in \u001b[0;36m<module>\u001b[0;34m\u001b[0m\n\u001b[1;32m      1\u001b[0m \u001b[0;31m# baseline = linear_model.LogisticRegression(solver='saga', multi_class='ovr', n_jobs=-1, max_iter=250)\u001b[0m\u001b[0;34m\u001b[0m\u001b[0;34m\u001b[0m\u001b[0m\n\u001b[0;32m----> 2\u001b[0;31m \u001b[0mresults\u001b[0m \u001b[0;34m=\u001b[0m \u001b[0mevaluate_baselines\u001b[0m\u001b[0;34m(\u001b[0m\u001b[0mbaselines\u001b[0m\u001b[0;34m,\u001b[0m \u001b[0mX_sampled\u001b[0m\u001b[0;34m,\u001b[0m \u001b[0my_sampled\u001b[0m\u001b[0;34m,\u001b[0m \u001b[0mX_devtest\u001b[0m\u001b[0;34m,\u001b[0m \u001b[0mscores_devtest\u001b[0m\u001b[0;34m)\u001b[0m\u001b[0;34m\u001b[0m\u001b[0m\n\u001b[0m",
      "\u001b[0;32m<ipython-input-209-38672d690e26>\u001b[0m in \u001b[0;36mevaluate_baselines\u001b[0;34m(baselines, X_train, y_train, X_test, y_test)\u001b[0m\n\u001b[1;32m     38\u001b[0m         \u001b[0;32mif\u001b[0m \u001b[0misinstance\u001b[0m\u001b[0;34m(\u001b[0m\u001b[0mresult\u001b[0m\u001b[0;34m,\u001b[0m \u001b[0mtuple\u001b[0m\u001b[0;34m)\u001b[0m\u001b[0;34m:\u001b[0m\u001b[0;34m\u001b[0m\u001b[0m\n\u001b[1;32m     39\u001b[0m             \u001b[0mmodel\u001b[0m\u001b[0;34m,\u001b[0m \u001b[0mreport\u001b[0m \u001b[0;34m=\u001b[0m \u001b[0mresult\u001b[0m\u001b[0;34m\u001b[0m\u001b[0m\n\u001b[0;32m---> 40\u001b[0;31m             \u001b[0mresult\u001b[0m\u001b[0;34m[\u001b[0m\u001b[0mlabel\u001b[0m\u001b[0;34m]\u001b[0m \u001b[0;34m=\u001b[0m \u001b[0;34m{\u001b[0m\u001b[0;34m'model'\u001b[0m\u001b[0;34m:\u001b[0m \u001b[0mmodel\u001b[0m\u001b[0;34m,\u001b[0m \u001b[0;34m'report'\u001b[0m\u001b[0;34m:\u001b[0m \u001b[0mreport\u001b[0m\u001b[0;34m}\u001b[0m\u001b[0;34m\u001b[0m\u001b[0m\n\u001b[0m\u001b[1;32m     41\u001b[0m         \u001b[0;32melse\u001b[0m\u001b[0;34m:\u001b[0m\u001b[0;34m\u001b[0m\u001b[0m\n\u001b[1;32m     42\u001b[0m             \u001b[0mprint\u001b[0m\u001b[0;34m(\u001b[0m\u001b[0;34mf'issue with {label}'\u001b[0m\u001b[0;34m)\u001b[0m\u001b[0;34m\u001b[0m\u001b[0m\n",
      "\u001b[0;31mTypeError\u001b[0m: 'tuple' object does not support item assignment"
     ]
    }
   ],
   "source": [
    "results = evaluate_baselines(baselines, X_sampled, y_sampled, X_devtest, scores_devtest)"
   ]
  },
  {
   "cell_type": "markdown",
   "metadata": {},
   "source": [
    "## Corpus Preparation"
   ]
  },
  {
   "cell_type": "code",
   "execution_count": 12,
   "metadata": {},
   "outputs": [
    {
     "name": "stdout",
     "output_type": "stream",
     "text": [
      "time: 2.94 ms\n"
     ]
    }
   ],
   "source": [
    "ENGLISH_CONTRACTIONS = get_curated_english_contractions(ARTEFACT_DIR / 'curated_contractions.csv')\n",
    "STANFORD_POSTAGGER_JAR = str(ARTEFACT_DIR / 'stanford-postagger/stanford-postagger.jar')\n",
    "STANFORD_POSTAGGER_OPTIONS = dict(normalizeParentheses=False, normalizeFractions=True, normalizeOtherBrackets=False, splitHyphenated=True)\n",
    "\n",
    "\n",
    "quote_remover = RegexpReplacer(QUOTES_PATTERN)\n",
    "hyphen_replacer = RegexpReplacer([('-', ' ')])\n",
    "parenthesis_remover = RegexpReplacer(PARENTHESIS_PATTERN)\n",
    "contraction_replacer = RegexpReplacer(ENGLISH_CONTRACTIONS)\n",
    "stemmer = PorterStemmer()\n",
    "lemmatizer = WordNetLemmatizer()\n",
    "sent_tokenizer = PunktSentenceTokenizer()\n",
    "word_tokenizer = TreebankWordTokenizer()\n",
    "stanford_tokenizer = StanfordTokenizer(STANFORD_POSTAGGER_JAR, options=STANFORD_POSTAGGER_OPTIONS)\n",
    "tokenize_text = tzc.compose(tzc.mapcat(stanford_tokenizer.tokenize), sent_tokenizer.tokenize)\n",
    "lower_tokens = tzc.map(str.lower)"
   ]
  },
  {
   "cell_type": "code",
   "execution_count": 514,
   "metadata": {},
   "outputs": [
    {
     "name": "stdout",
     "output_type": "stream",
     "text": [
      "time: 5.62 ms\n"
     ]
    }
   ],
   "source": [
    "def spellcheck_token(token: str) -> str:\n",
    "    if token in word_vectors:\n",
    "        return token\n",
    "    \n",
    "    suggestions = pattern_en.suggest(token)\n",
    "    correction: str\n",
    "    if suggestions[0][1] >= 0.95:\n",
    "        correction = suggestions[0][0]\n",
    "    else:\n",
    "        correction = token\n",
    "        \n",
    "    return token\n",
    "\n",
    "def strip_token(token: str) -> str:\n",
    "    return token.strip('.*_-\\'\\\"')\n",
    "\n",
    "def split_token(token: str) -> str:\n",
    "    '''\n",
    "    Splits a token in its part based on a separation character.\n",
    "    '''\n",
    "    patterns = ['.', '-', '*', '/', '\\\\']\n",
    "    for pattern in patterns:\n",
    "        token.split()\n",
    "\n",
    "            \n",
    "def save_sentences(path: Union[str, Path], sentences):\n",
    "    '''\n",
    "    Writes sentes to file to make embedding model training faster.\n",
    "    '''\n",
    "    with open(path, 'wt') as f:\n",
    "        for sent in tqdm(sentences):\n",
    "            f.write(sent)\n",
    "            f.write('\\n')\n",
    "\n",
    "\n",
    "    \n"
   ]
  },
  {
   "cell_type": "markdown",
   "metadata": {},
   "source": [
    "### Normalization and Parsing"
   ]
  },
  {
   "cell_type": "code",
   "execution_count": 16,
   "metadata": {},
   "outputs": [
    {
     "name": "stdout",
     "output_type": "stream",
     "text": [
      "time: 149 ms\n"
     ]
    }
   ],
   "source": [
    "normalizer = CorpusNormalizer(contraction_replacer, clean_html)\n",
    "nlp = spacy.load('en_core_web_sm', disable=('ner'))\n",
    "batch_size = 2000\n"
   ]
  },
  {
   "cell_type": "code",
   "execution_count": 19,
   "metadata": {},
   "outputs": [
    {
     "name": "stdout",
     "output_type": "stream",
     "text": [
      "time: 2.35 ms\n"
     ]
    }
   ],
   "source": [
    "def parse_corpus(texts, index=None, path=None, batch_size=1000) -> Corpus:\n",
    "    print('parsing training set...')\n",
    "    if index is None:\n",
    "        index = range(len(corpus))\n",
    "        \n",
    "    normalized_texts = normalizer.transform(texts)\n",
    "    indexed_texts = zip(normalized_texts, index)\n",
    "    indexed_parsed_docs = [doc for doc in tqdm(nlp.pipe(indexed_texts, as_tuples=True, batch_size=batch_size), total=len(texts))]\n",
    "    print('done.')\n",
    "    \n",
    "    corpus = Corpus(nlp, indexed_documents=indexed_parsed_docs)\n",
    "    if path:\n",
    "        print(f'saving corpus to {path}')\n",
    "        corpus.save(path)\n",
    "        print('done.')\n",
    "\n",
    "    return corpus"
   ]
  },
  {
   "cell_type": "markdown",
   "metadata": {},
   "source": [
    "#### Training Corpus"
   ]
  },
  {
   "cell_type": "code",
   "execution_count": 20,
   "metadata": {},
   "outputs": [
    {
     "name": "stdout",
     "output_type": "stream",
     "text": [
      "parsing training set...\n"
     ]
    },
    {
     "data": {
      "application/vnd.jupyter.widget-view+json": {
       "model_id": "b6cff06072ae42ebb95c5f014e44cbbd",
       "version_major": 2,
       "version_minor": 0
      },
      "text/plain": [
       "HBox(children=(IntProgress(value=0, max=383706), HTML(value='')))"
      ]
     },
     "metadata": {},
     "output_type": "display_data"
    },
    {
     "name": "stdout",
     "output_type": "stream",
     "text": [
      "done.\n",
      "saving corpus to ../artefacts/train_corpus.zip\n",
      "done.\n",
      "35833002 word in corpus\n",
      "time: 46min 13s\n"
     ]
    }
   ],
   "source": [
    "train_save_path = ARTEFACT_DIR / 'train_corpus.zip'\n",
    "if train_save_path.exists() and not FORCE_RELOAD:\n",
    "    train_corpus = Corpus.load(nlp, train_save_path)\n",
    "else:\n",
    "    train_corpus = parse_corpus(X, X.index, train_save_path, batch_size)\n",
    "    \n",
    "word_count = train_corpus.count_words()\n",
    "print(f'{word_count} word in corpus')"
   ]
  },
  {
   "cell_type": "code",
   "execution_count": 513,
   "metadata": {},
   "outputs": [
    {
     "name": "stdout",
     "output_type": "stream",
     "text": [
      "saving training sentences to disk...\n",
      "done.\n",
      "time: 59.8 s\n"
     ]
    }
   ],
   "source": [
    "print('saving training sentences to disk...')\n",
    "corpus_file = TMPDIR / 'train_sentences.txt'\n",
    "save_sentences(corpus_file, train_corpus.sentences_generator())\n",
    "print('done.')"
   ]
  },
  {
   "cell_type": "markdown",
   "metadata": {},
   "source": [
    "#### Validation Corpus"
   ]
  },
  {
   "cell_type": "code",
   "execution_count": 24,
   "metadata": {},
   "outputs": [
    {
     "name": "stdout",
     "output_type": "stream",
     "text": [
      "parsing training set...\n"
     ]
    },
    {
     "data": {
      "application/vnd.jupyter.widget-view+json": {
       "model_id": "b7719f8ca0ad4214af3a7f93d0021632",
       "version_major": 2,
       "version_minor": 0
      },
      "text/plain": [
       "HBox(children=(IntProgress(value=0, max=127902), HTML(value='')))"
      ]
     },
     "metadata": {},
     "output_type": "display_data"
    },
    {
     "name": "stdout",
     "output_type": "stream",
     "text": [
      "done.\n",
      "saving corpus to ../artefacts/devtest_corpus.zip\n",
      "done.\n",
      "time: 15min 26s\n"
     ]
    }
   ],
   "source": [
    "devtest_save_path = ARTEFACT_DIR / 'devtest_corpus.zip'\n",
    "if devtest_save_path.exists() and not FORCE_RELOAD:\n",
    "    devtest_corpus = Corpus.load(nlp, devtest_save_path)\n",
    "else:\n",
    "    devtest_corpus = parse_corpus(X_devtest, X_devtest.index, devtest_save_path, batch_size)\n",
    "\n",
    "word_count = train_corpus.count_words()\n",
    "print(f'{word_count} word in corpus')"
   ]
  },
  {
   "cell_type": "markdown",
   "metadata": {},
   "source": [
    "### Training Fasttext"
   ]
  },
  {
   "cell_type": "code",
   "execution_count": 25,
   "metadata": {},
   "outputs": [
    {
     "name": "stdout",
     "output_type": "stream",
     "text": [
      "training FastText-300 for 10 epochs\n"
     ]
    },
    {
     "name": "stderr",
     "output_type": "stream",
     "text": [
      "W0511 00:05:48.300411 140735669322624 smart_open_lib.py:385] this function is deprecated, use smart_open.open instead\n"
     ]
    },
    {
     "name": "stdout",
     "output_type": "stream",
     "text": [
      "done\n",
      "saving FastText model to disk...\n"
     ]
    },
    {
     "name": "stderr",
     "output_type": "stream",
     "text": [
      "W0511 00:41:33.470665 140735669322624 smart_open_lib.py:385] this function is deprecated, use smart_open.open instead\n"
     ]
    },
    {
     "name": "stdout",
     "output_type": "stream",
     "text": [
      "done.\n",
      "time: 36min 14s\n"
     ]
    }
   ],
   "source": [
    "size = 300\n",
    "epochs = 10\n",
    "\n",
    "vector_model_file = (MODELS_DIR / f'fasttext/fasttext-{size}.model').as_posix()\n",
    "\n",
    "if os.path.exists(vector_model_file) and not FORCE_RELOAD:\n",
    "    print('loading FastText model from disk...')\n",
    "    vector_model = FastText.load(vector_model_file)\n",
    "else:\n",
    "    print(f'training FastText-{size} for {epochs} epochs')\n",
    "    vector_model = train_fasttext(corpus_file.as_posix(), total_words=word_count, size=size, window=5, epochs=epochs)\n",
    "    print('done')\n",
    "\n",
    "    print('saving FastText model to disk...')\n",
    "    vector_model.save(vector_model_file)\n",
    "\n",
    "print('done.')"
   ]
  },
  {
   "cell_type": "markdown",
   "metadata": {},
   "source": [
    "## Modelling - DNN"
   ]
  },
  {
   "cell_type": "code",
   "execution_count": 26,
   "metadata": {},
   "outputs": [
    {
     "name": "stdout",
     "output_type": "stream",
     "text": [
      "Reviews-test.csv.gzip        raw_contractions.csv\n",
      "Reviews-train.csv.gzip       raw_contractions.txt\n",
      "Reviews.csv                  sampleSubmission.csv\n",
      "amazon-fine-food-reviews.zip testData.tsv\n",
      "hashes.txt                   unlabeledTrainData.tsv\n",
      "labeledTrainData.tsv\n",
      "time: 253 ms\n"
     ]
    }
   ],
   "source": [
    "!ls $DATADIR"
   ]
  },
  {
   "cell_type": "code",
   "execution_count": 254,
   "metadata": {},
   "outputs": [
    {
     "name": "stdout",
     "output_type": "stream",
     "text": [
      "time: 1.14 ms\n"
     ]
    }
   ],
   "source": [
    "word_tokenizer = Tokenizer(oov_token='<UNK>', lower=False)\n",
    "pos_tags_tokenizer = Tokenizer(oov_token='<UNK>', lower=False)"
   ]
  },
  {
   "cell_type": "code",
   "execution_count": 517,
   "metadata": {},
   "outputs": [
    {
     "name": "stdout",
     "output_type": "stream",
     "text": [
      "time: 1min 15s\n"
     ]
    }
   ],
   "source": [
    "word_tokenizer.fit_on_texts(train_corpus.texts_generator())\n",
    "pos_tags_tokenizer.fit_on_texts(train_corpus.pos_tags_generator())\n",
    "\n",
    "tokenizers = {\n",
    "    'word': word_tokenizer,\n",
    "    'pos_tags': pos_tags_tokenizer\n",
    "}"
   ]
  },
  {
   "cell_type": "code",
   "execution_count": 518,
   "metadata": {},
   "outputs": [
    {
     "name": "stdout",
     "output_type": "stream",
     "text": [
      "(141158, 300)\n",
      "time: 13.4 s\n"
     ]
    }
   ],
   "source": [
    "word_embedding_matrix = create_embedding_matrix(word_tokenizer.word_index, vector_model.wv)\n",
    "print(word_embedding_matrix.shape)"
   ]
  },
  {
   "cell_type": "code",
   "execution_count": 32,
   "metadata": {},
   "outputs": [
    {
     "name": "stdout",
     "output_type": "stream",
     "text": [
      "embedding coverage: 0.9999906332836898\n",
      "time: 83.5 ms\n"
     ]
    }
   ],
   "source": [
    "miss = word_embedding_matrix.sum(axis=1) == 0\n",
    "miss_idx = np.where(miss)[0]\n",
    "embedding_coverage = 1 - miss.sum() / word_embedding_matrix.shape[0]\n",
    "print(f'embedding coverage: {embedding_coverage}')"
   ]
  },
  {
   "cell_type": "code",
   "execution_count": 33,
   "metadata": {},
   "outputs": [
    {
     "data": {
      "text/plain": [
       "0"
      ]
     },
     "execution_count": 33,
     "metadata": {},
     "output_type": "execute_result"
    },
    {
     "name": "stdout",
     "output_type": "stream",
     "text": [
      "time: 4.42 ms\n"
     ]
    }
   ],
   "source": [
    "missed_words = [word_tokenizer.index_word[i] for i in miss_idx[1:]]\n",
    "len(missed_words)"
   ]
  },
  {
   "cell_type": "code",
   "execution_count": 223,
   "metadata": {},
   "outputs": [
    {
     "name": "stdout",
     "output_type": "stream",
     "text": [
      "time: 2.72 ms\n"
     ]
    }
   ],
   "source": [
    "def get_callbacks(label: str) -> List[Callback]:\n",
    "    early_stopping = EarlyStopping(monitor='val_loss', \n",
    "                                   patience=7, \n",
    "                                   verbose=0, \n",
    "                                   mode='auto', \n",
    "                                   restore_best_weights=True)\n",
    "    \n",
    "    checkpoint_path = MODELS_DIR / label / 'weights.{epoch:02d}-{val_loss:.2f}.hdf5'\n",
    "    if not checkpoint_path.parent.exists():\n",
    "        checkpoint_path.parent.mkdir()\n",
    "        \n",
    "    checkpoint = ModelCheckpoint(checkpoint_path.as_posix(), period=3, save_best_only=True, save_weights_only=True)\n",
    "    \n",
    "    reduce_lr = ReduceLROnPlateau(patience=5)\n",
    "    \n",
    "    log_path = MODELS_DIR / label / 'logs/fit' / datetime.datetime.now().strftime(\"%Y%m%d-%H%M%S\")\n",
    "    if not log_path.exists():\n",
    "        log_path.mkdir(parents=True)\n",
    "        \n",
    "    tensorboard = TensorBoard(log_dir=log_path.as_posix(), histogram_freq=1)\n",
    "\n",
    "    return [early_stopping, checkpoint, reduce_lr, tensorboard]"
   ]
  },
  {
   "cell_type": "markdown",
   "metadata": {},
   "source": [
    "##### Simple Model"
   ]
  },
  {
   "cell_type": "code",
   "execution_count": 522,
   "metadata": {},
   "outputs": [
    {
     "name": "stdout",
     "output_type": "stream",
     "text": [
      "time: 5.84 ms\n"
     ]
    }
   ],
   "source": [
    "class SimpleModel(ModelWrapper):\n",
    "    '''\n",
    "    A Simple Dense block. Acts as a baseline within the different architectures.\n",
    "    '''\n",
    "    def __init__(self, tokenizers: dict, embedding_matrix: np.ndarray, maxlen: int, use_softmax: bool = True, class_weight: dict = None):\n",
    "        super().__init__(tokenizers, use_softmax, class_weight)\n",
    "        self.embedding_matrix = embedding_matrix\n",
    "        self.maxlen = maxlen\n",
    "        self.name: str\n",
    "        if self.use_softmax:\n",
    "            self.name = 'simple-dnn-softmax'\n",
    "        else:\n",
    "            self.name = 'simple-dnn-sigmoid'\n",
    "            \n",
    "    def _compile(self):\n",
    "        embedding_shape = self.embedding_matrix.shape\n",
    "        model = Sequential(name=self.name)\n",
    "        model.add(layers.Embedding(embedding_shape[0], embedding_shape[1], input_length=self.maxlen))\n",
    "        model.add(layers.Flatten())\n",
    "        model.add(layers.Dense(32, activation='relu'))\n",
    "        model.add(layers.BatchNormalization())\n",
    "        model.add(layers.Dropout(0.5))\n",
    "        \n",
    "        final_layer: layers.Layer\n",
    "        if self.use_softmax:\n",
    "            final_layer = layers.Dense(5, activation='softmax')\n",
    "            loss = 'sparse_categorical_crossentropy'\n",
    "            eval_metrics = ['acc']\n",
    "        else:\n",
    "            final_layer = layers.Dense(1, activation='sigmoid')\n",
    "            loss = 'mse'\n",
    "            eval_metrics = ['mae']\n",
    "\n",
    "        model.add(final_layer)\n",
    "\n",
    "        model.layers[0].set_weights([self.embedding_matrix])\n",
    "        model.layers[0].trainable = False\n",
    "        model.compile(optimizer='adam', loss=loss, metrics=eval_metrics)\n",
    "        model.summary()\n",
    "\n",
    "        return model\n",
    "\n",
    "    def text_to_padded_sequences(self, corpus: Corpus) -> Iterable:\n",
    "        word_sequences = pad_sequences(self.tokenizers['word'].texts_to_sequences(corpus.texts()), maxlen=self.maxlen)\n",
    "        return word_sequences"
   ]
  },
  {
   "cell_type": "markdown",
   "metadata": {},
   "source": [
    "###### Conv1D Model"
   ]
  },
  {
   "cell_type": "code",
   "execution_count": 523,
   "metadata": {},
   "outputs": [
    {
     "name": "stdout",
     "output_type": "stream",
     "text": [
      "time: 4.91 ms\n"
     ]
    }
   ],
   "source": [
    "class Conv1DModel(ModelWrapper):\n",
    "    '''\n",
    "    Uses a convolutional layer to gain some context awareness on the text.\n",
    "    '''\n",
    "    def __init__(self, tokenizers: dict, embedding_matrix: np.ndarray, maxlen: int, use_softmax: bool = True, class_weight: dict = None):\n",
    "        super().__init__(tokenizers, use_softmax, class_weight)\n",
    "        self.use_softmax = use_softmax\n",
    "        self.class_weight = class_weight\n",
    "        self.embedding_matrix = embedding_matrix\n",
    "        self.maxlen = maxlen\n",
    "        self._score_scaler = ScoreScaler()\n",
    "        \n",
    "        self.name: str\n",
    "        if self.use_softmax:\n",
    "            self.name = 'conv1d-dnn-softmax'\n",
    "        else:\n",
    "            self.name = 'conv1d-dnn-sigmoid'\n",
    "            \n",
    "    def _compile(self):\n",
    "        embedding_shape = self.embedding_matrix.shape\n",
    "        \n",
    "\n",
    "        \n",
    "        model = Sequential(name=self.name)\n",
    "        model.add(layers.Embedding(embedding_shape[0], embedding_shape[1], input_length=self.maxlen))\n",
    "        model.add(layers.SeparableConv1D(32, 9, activation='relu'))\n",
    "        model.add(layers.MaxPool1D(5))\n",
    "        model.add(layers.Flatten())\n",
    "        model.add(layers.Dense(128, activation='relu'))\n",
    "        model.add(layers.Dropout(0.5))\n",
    "        model.add(layers.Dense(64, activation='relu'))\n",
    "        model.add(layers.Dropout(0.5))    \n",
    "        \n",
    "        final_layer: layers.Layer\n",
    "        if self.use_softmax:\n",
    "            name = 'conv1d-dnn-softmax'\n",
    "            final_layer = layers.Dense(5, activation='softmax')\n",
    "            loss = 'sparse_categorical_crossentropy'\n",
    "            eval_metrics = ['acc']\n",
    "        else:\n",
    "            name = 'conv1d-dnn-sigmoid'\n",
    "            final_layer = layers.Dense(1, activation='sigmoid')\n",
    "            loss = 'mse'\n",
    "            eval_metrics = ['mae']\n",
    "            \n",
    "        model.add(final_layer)\n",
    "\n",
    "        model.layers[0].set_weights([self.embedding_matrix])\n",
    "        model.layers[0].trainable = False\n",
    "        model.compile(optimizer='adam', loss=loss, metrics=eval_metrics)\n",
    "        model.summary()\n",
    "\n",
    "        return model\n",
    "    \n",
    "    def text_to_padded_sequences(self, corpus: Corpus) -> Iterable:\n",
    "        word_sequences = pad_sequences(self.tokenizers['word'].texts_to_sequences(corpus.texts()), maxlen=self.maxlen)\n",
    "        return word_sequences\n",
    "    "
   ]
  },
  {
   "cell_type": "markdown",
   "metadata": {},
   "source": [
    "##### Linguistic Feature aware model\n"
   ]
  },
  {
   "cell_type": "code",
   "execution_count": 524,
   "metadata": {},
   "outputs": [
    {
     "name": "stdout",
     "output_type": "stream",
     "text": [
      "time: 5.93 ms\n"
     ]
    }
   ],
   "source": [
    "class LinguisticAwareModel(ModelWrapper):\n",
    "    '''\n",
    "    A models that can take advantage of more linguistic features, such as POS tags\n",
    "    '''\n",
    "    def __init__(self,\n",
    "                 tokenizers: dict,\n",
    "                 word_embeddings_matrix: np.ndarray,\n",
    "                 pos_tags_embedding_shape: Tuple[int, int],\n",
    "                 maxlen: int,\n",
    "                 use_softmax: bool = True,\n",
    "                 class_weights: dict = None):\n",
    "        super().__init__(tokenizers, use_softmax, class_weight)\n",
    "        self.word_embeddings_matrix = word_embeddings_matrix\n",
    "        self.pos_tags_embedding_shape = pos_tags_embedding_shape\n",
    "        self.maxlen = maxlen\n",
    "        self._score_scaler = ScoreScaler()\n",
    "    \n",
    "        self.name: str\n",
    "        if self.use_softmax:\n",
    "            self.name = 'linguistic-dnn-softmax'\n",
    "        else:\n",
    "            self.name = 'linguistic-dnn-sigmoid'\n",
    "\n",
    "    def _compile(self):\n",
    "        word_embedding_shape = self.word_embeddings_matrix.shape\n",
    "        words_input = layers.Input(name='words', shape=(self.maxlen,))\n",
    "        pos_tags_input = layers.Input(name='pos_tags', shape=(self.maxlen,))\n",
    "\n",
    "        word_embeddings = layers.Embedding(*word_embedding_shape, name='word_embeddings', weights=[word_embedding_matrix])\n",
    "        word_embeddings.trainable = False\n",
    "\n",
    "        pos_tags_embeddings = layers.Embedding(*self.pos_tags_embedding_shape, name='pos_tags_embeddings')\n",
    "\n",
    "        words_x = word_embeddings(words_input)\n",
    "        pos_tags_x = pos_tags_embeddings(pos_tags_input)\n",
    "\n",
    "        x = layers.concatenate([words_x, pos_tags_x])\n",
    "        x = layers.SeparableConv1D(32, 9, activation='relu')(x)\n",
    "        x = layers.BatchNormalization()(x)\n",
    "        x = layers.MaxPool1D(5)(x)\n",
    "        x = layers.Flatten()(x)\n",
    "    #     x = layers.Dense(256, activation='relu')(x)\n",
    "    #     x = layers.BatchNormalization()(x)\n",
    "    #     x = layers.Dropout(0.5)(x)\n",
    "        x = layers.Dense(128, activation='relu')(x)\n",
    "        x = layers.BatchNormalization()(x)\n",
    "        x = layers.Dropout(0.5)(x)\n",
    "        x = layers.Dense(64, activation='relu')(x)\n",
    "        x = layers.BatchNormalization()(x)\n",
    "        x = layers.Dropout(0.5)(x)\n",
    "\n",
    "        if self.use_softmax:\n",
    "            outputs = layers.Dense(5, activation='softmax')(x)\n",
    "            loss = 'sparse_categorical_crossentropy'\n",
    "            eval_metrics = ['acc']\n",
    "        else:\n",
    "            outputs = layers.Dense(1, activation='sigmoid')(x)\n",
    "            loss = 'mse'\n",
    "            eval_metrics = []\n",
    "\n",
    "        model = Model(name=name, inputs=[words_input, pos_tags_input], outputs=outputs)\n",
    "\n",
    "        model.compile(optimizer='adam', loss=loss, metrics=eval_metrics)\n",
    "        model.summary()\n",
    "\n",
    "        return model\n",
    "    \n",
    "    def text_to_padded_sequences(self, corpus: Corpus) -> Iterable:\n",
    "        word_sequences = pad_sequences(self.tokenizers['word'].texts_to_sequences(corpus.texts()), maxlen=self.maxlen)\n",
    "        pos_tags_sequences = pad_sequences(self.tokenizers['pos_tags'].texts_to_sequences(corpus.pos_tags()), maxlen=self.maxlen)\n",
    "        return {'words': word_sequences, 'pos_tags': pos_tags_sequences}\n",
    "    "
   ]
  },
  {
   "cell_type": "code",
   "execution_count": 368,
   "metadata": {},
   "outputs": [
    {
     "name": "stdout",
     "output_type": "stream",
     "text": [
      "90% of the documents are at most 188.0 words. We'll limit us to this maxlen for our classifiers sequences\n",
      "time: 3.11 s\n"
     ]
    }
   ],
   "source": [
    "q = 90\n",
    "doc_lengths = np.array([len(doc) for doc, i in parsed_train_corpus])\n",
    "p = np.percentile(doc_lengths, q)\n",
    "print(f'{q}% of the documents are at most {p} words. We\\'ll limit us to this maxlen for our classifiers sequences')"
   ]
  },
  {
   "cell_type": "code",
   "execution_count": 369,
   "metadata": {},
   "outputs": [
    {
     "data": {
      "text/plain": [
       "(52, 16)"
      ]
     },
     "execution_count": 369,
     "metadata": {},
     "output_type": "execute_result"
    },
    {
     "name": "stdout",
     "output_type": "stream",
     "text": [
      "time: 2.45 ms\n"
     ]
    }
   ],
   "source": [
    "pos_tags_embedding_size = 16\n",
    "count_pos_tags = len(pos_tags_tokenizer.index_word) + 1\n",
    "pos_tags_embedding_shape = (count_pos_tags, pos_tags_embedding_size)\n",
    "pos_tags_embedding_shape"
   ]
  },
  {
   "cell_type": "code",
   "execution_count": 526,
   "metadata": {},
   "outputs": [
    {
     "name": "stdout",
     "output_type": "stream",
     "text": [
      "time: 1.98 ms\n"
     ]
    }
   ],
   "source": [
    "maxlen = 250\n",
    "epochs = 40\n",
    "batch_size = 128\n",
    "validation_split = 0.1\n",
    "use_softmax = True\n",
    "\n",
    "\n",
    "# Used with softmax\n",
    "class_weight = {\n",
    "    0: 1,\n",
    "    1: 3,\n",
    "    2: 5,\n",
    "    3: 3,\n",
    "    4: 1\n",
    "}"
   ]
  },
  {
   "cell_type": "code",
   "execution_count": 525,
   "metadata": {},
   "outputs": [
    {
     "name": "stdout",
     "output_type": "stream",
     "text": [
      "Model: \"conv1d-dnn-softmax\"\n",
      "_________________________________________________________________\n",
      "Layer (type)                 Output Shape              Param #   \n",
      "=================================================================\n",
      "embedding_63 (Embedding)     (None, 250, 300)          42347400  \n",
      "_________________________________________________________________\n",
      "separable_conv1d_38 (Separab (None, 242, 32)           12332     \n",
      "_________________________________________________________________\n",
      "max_pooling1d_37 (MaxPooling (None, 48, 32)            0         \n",
      "_________________________________________________________________\n",
      "flatten_54 (Flatten)         (None, 1536)              0         \n",
      "_________________________________________________________________\n",
      "dense_150 (Dense)            (None, 128)               196736    \n",
      "_________________________________________________________________\n",
      "dropout_87 (Dropout)         (None, 128)               0         \n",
      "_________________________________________________________________\n",
      "dense_151 (Dense)            (None, 64)                8256      \n",
      "_________________________________________________________________\n",
      "dropout_88 (Dropout)         (None, 64)                0         \n",
      "_________________________________________________________________\n",
      "dense_152 (Dense)            (None, 5)                 325       \n",
      "=================================================================\n",
      "Total params: 42,565,049\n",
      "Trainable params: 217,649\n",
      "Non-trainable params: 42,347,400\n",
      "_________________________________________________________________\n"
     ]
    },
    {
     "data": {
      "text/plain": [
       "<tensorflow.python.keras.engine.sequential.Sequential at 0x2450b6be0>"
      ]
     },
     "execution_count": 525,
     "metadata": {},
     "output_type": "execute_result"
    },
    {
     "name": "stdout",
     "output_type": "stream",
     "text": [
      "time: 1.78 s\n"
     ]
    }
   ],
   "source": [
    "choice = 'conv1d'\n",
    "model = {\n",
    "    'simple': SimpleModel(tokenizers, word_embedding_matrix, maxlen, use_softmax=use_softmax, class_weight=class_weight),\n",
    "    'conv1d': Conv1DModel(tokenizers, word_embedding_matrix, maxlen, use_softmax=use_softmax, class_weight=class_weight),\n",
    "    'linguistic': LinguisticAwareModel(tokenizers, word_embedding_matrix, pos_tags_embedding_shape, maxlen, use_softmax=use_softmax, class_weights=class_weights)\n",
    "}[choice]\n",
    "model.compile()"
   ]
  },
  {
   "cell_type": "code",
   "execution_count": 528,
   "metadata": {},
   "outputs": [
    {
     "name": "stdout",
     "output_type": "stream",
     "text": [
      "time: 1min 8s\n"
     ]
    }
   ],
   "source": [
    "x_train_sequences = model.text_to_padded_sequences(train_corpus)\n",
    "x_devtest_sequences = model.text_to_padded_sequences(devtest_corpus)"
   ]
  },
  {
   "cell_type": "code",
   "execution_count": 401,
   "metadata": {},
   "outputs": [
    {
     "name": "stdout",
     "output_type": "stream",
     "text": [
      "Train on 345335 samples, validate on 38371 samples\n",
      "Epoch 1/40\n",
      "345335/345335 [==============================] - 209s 604us/sample - loss: 1.4488 - acc: 0.6589 - val_loss: 1.2918 - val_acc: 0.6802\n",
      "Epoch 2/40\n",
      "345335/345335 [==============================] - 210s 608us/sample - loss: 1.2973 - acc: 0.6960 - val_loss: 1.2719 - val_acc: 0.7200\n",
      "Epoch 3/40\n",
      "345335/345335 [==============================] - 208s 602us/sample - loss: 1.2444 - acc: 0.7100 - val_loss: 1.2006 - val_acc: 0.7245\n",
      "Epoch 4/40\n",
      "345335/345335 [==============================] - 209s 604us/sample - loss: 1.2085 - acc: 0.7177 - val_loss: 1.1928 - val_acc: 0.7024\n",
      "Epoch 5/40\n",
      "345335/345335 [==============================] - 212s 614us/sample - loss: 1.1815 - acc: 0.7252 - val_loss: 1.1722 - val_acc: 0.7313\n",
      "Epoch 6/40\n",
      "345335/345335 [==============================] - 213s 616us/sample - loss: 1.1598 - acc: 0.7307 - val_loss: 1.1609 - val_acc: 0.7329\n",
      "Epoch 7/40\n",
      "345335/345335 [==============================] - 204s 590us/sample - loss: 1.1399 - acc: 0.7363 - val_loss: 1.1662 - val_acc: 0.7366\n",
      "Epoch 8/40\n",
      "345335/345335 [==============================] - 204s 590us/sample - loss: 1.1195 - acc: 0.7412 - val_loss: 1.1696 - val_acc: 0.7458\n",
      "Epoch 9/40\n",
      "345335/345335 [==============================] - 205s 593us/sample - loss: 1.1056 - acc: 0.7443 - val_loss: 1.1419 - val_acc: 0.7440\n",
      "Epoch 10/40\n",
      "345335/345335 [==============================] - 208s 602us/sample - loss: 1.0904 - acc: 0.7484 - val_loss: 1.1367 - val_acc: 0.7415\n",
      "Epoch 11/40\n",
      "345335/345335 [==============================] - 210s 607us/sample - loss: 1.0802 - acc: 0.7508 - val_loss: 1.1452 - val_acc: 0.7275\n",
      "Epoch 12/40\n",
      "345335/345335 [==============================] - 208s 602us/sample - loss: 1.0691 - acc: 0.7537 - val_loss: 1.1326 - val_acc: 0.7415\n",
      "Epoch 13/40\n",
      "345335/345335 [==============================] - 208s 601us/sample - loss: 1.0574 - acc: 0.7567 - val_loss: 1.1341 - val_acc: 0.7481\n",
      "Epoch 14/40\n",
      "345335/345335 [==============================] - 208s 601us/sample - loss: 1.0482 - acc: 0.7588 - val_loss: 1.1292 - val_acc: 0.7506\n",
      "Epoch 15/40\n",
      "345335/345335 [==============================] - 208s 601us/sample - loss: 1.0391 - acc: 0.7609 - val_loss: 1.1445 - val_acc: 0.7535\n",
      "Epoch 16/40\n",
      "345335/345335 [==============================] - 208s 601us/sample - loss: 1.0305 - acc: 0.7617 - val_loss: 1.1492 - val_acc: 0.7431\n",
      "Epoch 17/40\n",
      "345335/345335 [==============================] - 208s 601us/sample - loss: 1.0237 - acc: 0.7644 - val_loss: 1.1402 - val_acc: 0.7511\n",
      "Epoch 18/40\n",
      "345335/345335 [==============================] - 209s 604us/sample - loss: 1.0169 - acc: 0.7660 - val_loss: 1.1287 - val_acc: 0.7487\n",
      "Epoch 19/40\n",
      "345335/345335 [==============================] - 208s 601us/sample - loss: 1.0074 - acc: 0.7679 - val_loss: 1.1473 - val_acc: 0.7585\n",
      "Epoch 20/40\n",
      "345335/345335 [==============================] - 208s 602us/sample - loss: 1.0038 - acc: 0.7686 - val_loss: 1.1272 - val_acc: 0.7531\n",
      "Epoch 21/40\n",
      "345335/345335 [==============================] - 208s 602us/sample - loss: 0.9940 - acc: 0.7711 - val_loss: 1.1323 - val_acc: 0.7559\n",
      "Epoch 22/40\n",
      "345335/345335 [==============================] - 208s 602us/sample - loss: 0.9900 - acc: 0.7712 - val_loss: 1.1402 - val_acc: 0.7550\n",
      "Epoch 23/40\n",
      "345335/345335 [==============================] - 210s 608us/sample - loss: 0.9833 - acc: 0.7728 - val_loss: 1.1546 - val_acc: 0.7558\n",
      "Epoch 24/40\n",
      "345335/345335 [==============================] - 214s 620us/sample - loss: 0.9789 - acc: 0.7750 - val_loss: 1.1290 - val_acc: 0.7530\n",
      "Epoch 25/40\n",
      "345335/345335 [==============================] - 209s 604us/sample - loss: 0.9766 - acc: 0.7753 - val_loss: 1.1391 - val_acc: 0.7584\n",
      "Epoch 26/40\n",
      "345335/345335 [==============================] - 208s 604us/sample - loss: 0.9283 - acc: 0.7865 - val_loss: 1.1527 - val_acc: 0.7592\n",
      "Epoch 27/40\n",
      "345335/345335 [==============================] - 212s 614us/sample - loss: 0.9101 - acc: 0.7911 - val_loss: 1.1613 - val_acc: 0.7618\n",
      "time: 1h 33min 50s\n"
     ]
    }
   ],
   "source": [
    "callbacks = get_callbacks(model.name)\n",
    "history = model.fit(x_train_sequences, \n",
    "                    scores_train,\n",
    "                    epochs=epochs,\n",
    "                    batch_size=batch_size,\n",
    "                    validation_split=validation_split,\n",
    "                    callbacks=callbacks)\n"
   ]
  },
  {
   "cell_type": "code",
   "execution_count": 405,
   "metadata": {},
   "outputs": [
    {
     "data": {
      "image/png": "[encoded data removed]",
      "text/plain": [
       "<Figure size 864x360 with 1 Axes>"
      ]
     },
     "metadata": {},
     "output_type": "display_data"
    },
    {
     "name": "stdout",
     "output_type": "stream",
     "text": [
      "time: 263 ms\n"
     ]
    }
   ],
   "source": [
    "summary = pd.DataFrame(history.history)\n",
    "\n",
    "ax = summary[['loss', 'val_loss']].plot(figsize=(12, 5), title='Loss History')\n",
    "ax.set_xlabel('Epochs');\n",
    "ax.set_ylabel('Loss');\n"
   ]
  },
  {
   "cell_type": "code",
   "execution_count": 406,
   "metadata": {},
   "outputs": [
    {
     "name": "stdout",
     "output_type": "stream",
     "text": [
      "time: 39.3 s\n"
     ]
    }
   ],
   "source": [
    "y_pred = model.predict(devtest_word_sequences)"
   ]
  },
  {
   "cell_type": "code",
   "execution_count": 404,
   "metadata": {},
   "outputs": [
    {
     "name": "stdout",
     "output_type": "stream",
     "text": [
      "AUROC: 0.740\n",
      "MCC: 0.549\n",
      "              precision    recall  f1-score   support\n",
      "\n",
      "           1       0.71      0.62      0.66     11749\n",
      "           2       0.44      0.31      0.36      6701\n",
      "           3       0.43      0.59      0.49      9611\n",
      "           4       0.55      0.40      0.46     18145\n",
      "           5       0.86      0.91      0.89     81696\n",
      "\n",
      "    accuracy                           0.76    127902\n",
      "   macro avg       0.60      0.56      0.57    127902\n",
      "weighted avg       0.75      0.76      0.75    127902\n",
      "\n"
     ]
    },
    {
     "data": {
      "image/png": "[encoded data removed]",
      "text/plain": [
       "<Figure size 720x720 with 2 Axes>"
      ]
     },
     "metadata": {},
     "output_type": "display_data"
    },
    {
     "name": "stdout",
     "output_type": "stream",
     "text": [
      "time: 742 ms\n"
     ]
    }
   ],
   "source": [
    "report = evaluate_prediction(scores_devtest, y_pred)"
   ]
  },
  {
   "cell_type": "code",
   "execution_count": 210,
   "metadata": {},
   "outputs": [
    {
     "name": "stdin",
     "output_type": "stream",
     "text": [
      "overwrite ../reports/conv1d-dnn-softmax.json? (Y/N) Y\n"
     ]
    },
    {
     "name": "stdout",
     "output_type": "stream",
     "text": [
      "time: 1.55 s\n"
     ]
    }
   ],
   "source": [
    "report_label = model.name\n",
    "report_path = REPORTS_DIR / f'{report_label}.json'\n",
    "if report_path.exists():\n",
    "    overwrite = input(f'overwrite {report_path}? (Y/N)')\n",
    "    if overwrite == 'Y':\n",
    "        save_report(report, REPORTS_DIR, label=report_label)\n",
    "else:\n",
    "    save_report(report, REPORTS_DIR, label=report_label)"
   ]
  },
  {
   "cell_type": "code",
   "execution_count": null,
   "metadata": {},
   "outputs": [],
   "source": []
  }
 ],
 "metadata": {
  "kernelspec": {
   "display_name": "Python 3",
   "language": "python",
   "name": "python3"
  },
  "language_info": {
   "codemirror_mode": {
    "name": "ipython",
    "version": 3
   },
   "file_extension": ".py",
   "mimetype": "text/x-python",
   "name": "python",
   "nbconvert_exporter": "python",
   "pygments_lexer": "ipython3",
   "version": "3.7.0"
  }
 },
 "nbformat": 4,
 "nbformat_minor": 2
}
