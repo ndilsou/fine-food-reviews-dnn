{
 "cells": [
  {
   "cell_type": "markdown",
   "metadata": {},
   "source": [
    "Original data available at:\n",
    "\n",
    "https://www.kaggle.com/snap/amazon-fine-food-reviews"
   ]
  },
  {
   "cell_type": "code",
   "execution_count": 1,
   "metadata": {},
   "outputs": [],
   "source": [
    "%matplotlib inline\n",
    "%load_ext autotime\n",
    "import sys\n",
    "sys.path.append('../src/')"
   ]
  },
  {
   "cell_type": "code",
   "execution_count": 219,
   "metadata": {},
   "outputs": [
    {
     "name": "stdout",
     "output_type": "stream",
     "text": [
      "time: 6.73 ms\n"
     ]
    }
   ],
   "source": [
    "from typing import Tuple, Sequence, Dict, Callable, Any, List, Pattern, Union, Iterable, overload\n",
    "from tqdm.autonotebook import tqdm\n",
    "\n",
    "from functools import partial\n",
    "import nltk\n",
    "from nltk.tokenize import TreebankWordTokenizer, PunktSentenceTokenizer\n",
    "from nltk.tokenize.stanford import StanfordTokenizer\n",
    "from nltk.stem import PorterStemmer, LancasterStemmer, WordNetLemmatizer\n",
    "from nltk.corpus import stopwords\n",
    "from nltk.tag import pos_tag_sents, pos_tag\n",
    "import re\n",
    "import datetime\n",
    "\n",
    "import zipfile\n",
    "\n",
    "from concurrent.futures import ProcessPoolExecutor, as_completed\n",
    "from multiprocessing import Lock\n",
    "import random, statistics\n",
    "import toolz as tz\n",
    "import toolz.curried as tzc\n",
    "\n",
    "from sklearn.model_selection import train_test_split\n",
    "from sklearn.base import BaseEstimator, TransformerMixin\n",
    "from sklearn import preprocessing as pp\n",
    "from sklearn import (feature_extraction, decomposition, linear_model, svm, model_selection, metrics)\n",
    "from sklearn.pipeline import make_pipeline, make_union\n",
    "from pattern import en as pattern_en\n",
    "from pattern.web import plaintext\n",
    "from gensim.models import Word2Vec, FastText\n",
    "from gensim.models import KeyedVectors\n",
    "from gensim.models.tfidfmodel import TfidfModel\n",
    "from gensim.scripts.glove2word2vec import glove2word2vec\n",
    "import pandas as pd\n",
    "import matplotlib.pyplot as plt\n",
    "import zipfile\n",
    "from pathlib import Path\n",
    "import numpy as np\n",
    "import seaborn as sns\n",
    "from collections import Counter\n",
    "\n",
    "import tensorflow as tf\n",
    "from tensorflow.keras import Sequential\n",
    "from tensorflow.keras import layers\n",
    "from tensorflow.keras import metrics as kmetrics\n",
    "from tensorflow.keras.preprocessing.text import Tokenizer\n",
    "from tensorflow.keras.preprocessing.sequence import pad_sequences\n",
    "from tensorflow.keras.callbacks import Callback, EarlyStopping, ModelCheckpoint, ReduceLROnPlateau, TensorBoard\n",
    "\n",
    "import spacy\n",
    "\n",
    "from utils.preprocessing import (create_corpus_processor, filter_stopwords, clean_html, QUOTES_PATTERN, PARENTHESIS_PATTERN,\n",
    "                                get_curated_english_contractions, filter_stopwords, RegexpReplacer, CorpusNormalizer)\n",
    "from utils.nn import (ScoreScaler, create_embedding_matrix, load_word_vectors, predict_scores)\n",
    "from utils.evaluate import evaluate_prediction, save_report\n",
    "\n",
    "sns.set()"
   ]
  },
  {
   "cell_type": "code",
   "execution_count": 3,
   "metadata": {},
   "outputs": [
    {
     "name": "stdout",
     "output_type": "stream",
     "text": [
      "time: 1.41 ms\n"
     ]
    }
   ],
   "source": [
    "DATADIR = Path('../data/')\n",
    "MODELS_DIR = Path('../models/')\n",
    "\n",
    "TMPDIR = Path('../tmp')\n",
    "ARTEFACT_DIR = Path('../artefacts/')\n",
    "REPORTS_DIR = Path('../reports/')\n",
    "\n",
    "TRAIN_DATASET_FILE = DATADIR / 'Reviews-train.csv.gzip'\n",
    "TEST_DATASET_FILE = DATADIR / 'Reviews-test.csv.gzip'"
   ]
  },
  {
   "cell_type": "markdown",
   "metadata": {},
   "source": [
    "### Create Train/Test split\n",
    "We reserve 10% of the dataset for testing."
   ]
  },
  {
   "cell_type": "code",
   "execution_count": 4,
   "metadata": {},
   "outputs": [
    {
     "name": "stdout",
     "output_type": "stream",
     "text": [
      "train/test split exists. Loading training data.\n",
      "shape of dataset data: (511608, 9)\n",
      "time: 4.84 s\n"
     ]
    }
   ],
   "source": [
    "\n",
    "if not (TRAIN_DATASET_FILE.exists() and TEST_DATASET_FILE.exists()):\n",
    "    print('Building train/test split.')\n",
    "    rawdataset = pd.read_csv(DATADIR / 'Reviews.csv', index_col=0)\n",
    "    train, test = train_test_split(rawdataset, test_size=0.10)\n",
    "    print(f'shape of training data: {train.shape}')\n",
    "    train.to_csv(TRAIN_DATASET_FILE, compression='gzip')\n",
    "    print(f'shape of testing data: {test.shape}')\n",
    "    test.to_csv(TEST_DATASET_FILE, compression='gzip')\n",
    "else:\n",
    "    print('train/test split exists. Loading training data.')\n",
    "    rawdataset = pd.read_csv(TRAIN_DATASET_FILE, compression='gzip', index_col=0)\n",
    "    print(f'shape of dataset data: {rawdataset.shape}')"
   ]
  },
  {
   "cell_type": "markdown",
   "metadata": {},
   "source": [
    "## Exploratory Data Analysis"
   ]
  },
  {
   "cell_type": "code",
   "execution_count": 7,
   "metadata": {},
   "outputs": [
    {
     "data": {
      "text/html": [
       "<div>\n",
       "<style scoped>\n",
       "    .dataframe tbody tr th:only-of-type {\n",
       "        vertical-align: middle;\n",
       "    }\n",
       "\n",
       "    .dataframe tbody tr th {\n",
       "        vertical-align: top;\n",
       "    }\n",
       "\n",
       "    .dataframe thead th {\n",
       "        text-align: right;\n",
       "    }\n",
       "</style>\n",
       "<table border=\"1\" class=\"dataframe\">\n",
       "  <thead>\n",
       "    <tr style=\"text-align: right;\">\n",
       "      <th></th>\n",
       "      <th>ProductId</th>\n",
       "      <th>UserId</th>\n",
       "      <th>ProfileName</th>\n",
       "      <th>HelpfulnessNumerator</th>\n",
       "      <th>HelpfulnessDenominator</th>\n",
       "      <th>Score</th>\n",
       "      <th>Time</th>\n",
       "      <th>Summary</th>\n",
       "      <th>Text</th>\n",
       "    </tr>\n",
       "    <tr>\n",
       "      <th>Id</th>\n",
       "      <th></th>\n",
       "      <th></th>\n",
       "      <th></th>\n",
       "      <th></th>\n",
       "      <th></th>\n",
       "      <th></th>\n",
       "      <th></th>\n",
       "      <th></th>\n",
       "      <th></th>\n",
       "    </tr>\n",
       "  </thead>\n",
       "  <tbody>\n",
       "    <tr>\n",
       "      <th>63588</th>\n",
       "      <td>B002IEZJMA</td>\n",
       "      <td>AC4XV78EJG1QB</td>\n",
       "      <td>Anne</td>\n",
       "      <td>0</td>\n",
       "      <td>1</td>\n",
       "      <td>5</td>\n",
       "      <td>1340582400</td>\n",
       "      <td>Better than a Doubleshot</td>\n",
       "      <td>My husband loves espresso.  We have a bialetti...</td>\n",
       "    </tr>\n",
       "    <tr>\n",
       "      <th>439596</th>\n",
       "      <td>B000ZSX4D2</td>\n",
       "      <td>A1X1CEGHTHMBL1</td>\n",
       "      <td>jjceo</td>\n",
       "      <td>1</td>\n",
       "      <td>1</td>\n",
       "      <td>5</td>\n",
       "      <td>1339372800</td>\n",
       "      <td>One of my very favorite flavors!</td>\n",
       "      <td>I love all of the Blue Diamond Almond flavors ...</td>\n",
       "    </tr>\n",
       "    <tr>\n",
       "      <th>85320</th>\n",
       "      <td>B0014H18L8</td>\n",
       "      <td>A38X5Z2BZ0MMQJ</td>\n",
       "      <td>Spuds Benson</td>\n",
       "      <td>1</td>\n",
       "      <td>1</td>\n",
       "      <td>5</td>\n",
       "      <td>1350172800</td>\n",
       "      <td>Discovering Sardines? Try these!</td>\n",
       "      <td>Mild flavor. Excellent quality. Too many sardi...</td>\n",
       "    </tr>\n",
       "  </tbody>\n",
       "</table>\n",
       "</div>"
      ],
      "text/plain": [
       "         ProductId          UserId   ProfileName  HelpfulnessNumerator  \\\n",
       "Id                                                                       \n",
       "63588   B002IEZJMA   AC4XV78EJG1QB          Anne                     0   \n",
       "439596  B000ZSX4D2  A1X1CEGHTHMBL1         jjceo                     1   \n",
       "85320   B0014H18L8  A38X5Z2BZ0MMQJ  Spuds Benson                     1   \n",
       "\n",
       "        HelpfulnessDenominator  Score        Time  \\\n",
       "Id                                                  \n",
       "63588                        1      5  1340582400   \n",
       "439596                       1      5  1339372800   \n",
       "85320                        1      5  1350172800   \n",
       "\n",
       "                                 Summary  \\\n",
       "Id                                         \n",
       "63588           Better than a Doubleshot   \n",
       "439596  One of my very favorite flavors!   \n",
       "85320   Discovering Sardines? Try these!   \n",
       "\n",
       "                                                     Text  \n",
       "Id                                                         \n",
       "63588   My husband loves espresso.  We have a bialetti...  \n",
       "439596  I love all of the Blue Diamond Almond flavors ...  \n",
       "85320   Mild flavor. Excellent quality. Too many sardi...  "
      ]
     },
     "execution_count": 7,
     "metadata": {},
     "output_type": "execute_result"
    },
    {
     "name": "stdout",
     "output_type": "stream",
     "text": [
      "time: 37.3 ms\n"
     ]
    }
   ],
   "source": [
    "rawdataset.sample(3)"
   ]
  },
  {
   "cell_type": "code",
   "execution_count": 8,
   "metadata": {},
   "outputs": [
    {
     "data": {
      "text/html": [
       "<div>\n",
       "<style scoped>\n",
       "    .dataframe tbody tr th:only-of-type {\n",
       "        vertical-align: middle;\n",
       "    }\n",
       "\n",
       "    .dataframe tbody tr th {\n",
       "        vertical-align: top;\n",
       "    }\n",
       "\n",
       "    .dataframe thead th {\n",
       "        text-align: right;\n",
       "    }\n",
       "</style>\n",
       "<table border=\"1\" class=\"dataframe\">\n",
       "  <thead>\n",
       "    <tr style=\"text-align: right;\">\n",
       "      <th></th>\n",
       "      <th>ProductId</th>\n",
       "      <th>UserId</th>\n",
       "      <th>ProfileName</th>\n",
       "      <th>Summary</th>\n",
       "      <th>Text</th>\n",
       "    </tr>\n",
       "  </thead>\n",
       "  <tbody>\n",
       "    <tr>\n",
       "      <th>count</th>\n",
       "      <td>511608</td>\n",
       "      <td>511608</td>\n",
       "      <td>511594</td>\n",
       "      <td>511582</td>\n",
       "      <td>511608</td>\n",
       "    </tr>\n",
       "    <tr>\n",
       "      <th>unique</th>\n",
       "      <td>71053</td>\n",
       "      <td>238161</td>\n",
       "      <td>203824</td>\n",
       "      <td>271921</td>\n",
       "      <td>359839</td>\n",
       "    </tr>\n",
       "    <tr>\n",
       "      <th>top</th>\n",
       "      <td>B007JFMH8M</td>\n",
       "      <td>A3OXHLG6DIBRW8</td>\n",
       "      <td>C. F. Hill \"CFH\"</td>\n",
       "      <td>Delicious!</td>\n",
       "      <td>This review will make me sound really stupid, ...</td>\n",
       "    </tr>\n",
       "    <tr>\n",
       "      <th>freq</th>\n",
       "      <td>827</td>\n",
       "      <td>410</td>\n",
       "      <td>413</td>\n",
       "      <td>2239</td>\n",
       "      <td>185</td>\n",
       "    </tr>\n",
       "  </tbody>\n",
       "</table>\n",
       "</div>"
      ],
      "text/plain": [
       "         ProductId          UserId       ProfileName     Summary  \\\n",
       "count       511608          511608            511594      511582   \n",
       "unique       71053          238161            203824      271921   \n",
       "top     B007JFMH8M  A3OXHLG6DIBRW8  C. F. Hill \"CFH\"  Delicious!   \n",
       "freq           827             410               413        2239   \n",
       "\n",
       "                                                     Text  \n",
       "count                                              511608  \n",
       "unique                                             359839  \n",
       "top     This review will make me sound really stupid, ...  \n",
       "freq                                                  185  "
      ]
     },
     "execution_count": 8,
     "metadata": {},
     "output_type": "execute_result"
    },
    {
     "name": "stdout",
     "output_type": "stream",
     "text": [
      "time: 2 s\n"
     ]
    }
   ],
   "source": [
    "rawdataset.describe(include=['O'])"
   ]
  },
  {
   "cell_type": "code",
   "execution_count": 9,
   "metadata": {},
   "outputs": [
    {
     "data": {
      "text/html": [
       "<div>\n",
       "<style scoped>\n",
       "    .dataframe tbody tr th:only-of-type {\n",
       "        vertical-align: middle;\n",
       "    }\n",
       "\n",
       "    .dataframe tbody tr th {\n",
       "        vertical-align: top;\n",
       "    }\n",
       "\n",
       "    .dataframe thead th {\n",
       "        text-align: right;\n",
       "    }\n",
       "</style>\n",
       "<table border=\"1\" class=\"dataframe\">\n",
       "  <thead>\n",
       "    <tr style=\"text-align: right;\">\n",
       "      <th></th>\n",
       "      <th>HelpfulnessNumerator</th>\n",
       "      <th>HelpfulnessDenominator</th>\n",
       "      <th>Score</th>\n",
       "      <th>Time</th>\n",
       "    </tr>\n",
       "  </thead>\n",
       "  <tbody>\n",
       "    <tr>\n",
       "      <th>count</th>\n",
       "      <td>511608.000000</td>\n",
       "      <td>511608.000000</td>\n",
       "      <td>511608.000000</td>\n",
       "      <td>5.116080e+05</td>\n",
       "    </tr>\n",
       "    <tr>\n",
       "      <th>mean</th>\n",
       "      <td>1.746491</td>\n",
       "      <td>2.232741</td>\n",
       "      <td>4.183232</td>\n",
       "      <td>1.296241e+09</td>\n",
       "    </tr>\n",
       "    <tr>\n",
       "      <th>std</th>\n",
       "      <td>7.762385</td>\n",
       "      <td>8.413478</td>\n",
       "      <td>1.310201</td>\n",
       "      <td>4.803743e+07</td>\n",
       "    </tr>\n",
       "    <tr>\n",
       "      <th>min</th>\n",
       "      <td>0.000000</td>\n",
       "      <td>0.000000</td>\n",
       "      <td>1.000000</td>\n",
       "      <td>9.393408e+08</td>\n",
       "    </tr>\n",
       "    <tr>\n",
       "      <th>25%</th>\n",
       "      <td>0.000000</td>\n",
       "      <td>0.000000</td>\n",
       "      <td>4.000000</td>\n",
       "      <td>1.271290e+09</td>\n",
       "    </tr>\n",
       "    <tr>\n",
       "      <th>50%</th>\n",
       "      <td>0.000000</td>\n",
       "      <td>1.000000</td>\n",
       "      <td>5.000000</td>\n",
       "      <td>1.311120e+09</td>\n",
       "    </tr>\n",
       "    <tr>\n",
       "      <th>75%</th>\n",
       "      <td>2.000000</td>\n",
       "      <td>2.000000</td>\n",
       "      <td>5.000000</td>\n",
       "      <td>1.332720e+09</td>\n",
       "    </tr>\n",
       "    <tr>\n",
       "      <th>max</th>\n",
       "      <td>866.000000</td>\n",
       "      <td>923.000000</td>\n",
       "      <td>5.000000</td>\n",
       "      <td>1.351210e+09</td>\n",
       "    </tr>\n",
       "  </tbody>\n",
       "</table>\n",
       "</div>"
      ],
      "text/plain": [
       "       HelpfulnessNumerator  HelpfulnessDenominator          Score  \\\n",
       "count         511608.000000           511608.000000  511608.000000   \n",
       "mean               1.746491                2.232741       4.183232   \n",
       "std                7.762385                8.413478       1.310201   \n",
       "min                0.000000                0.000000       1.000000   \n",
       "25%                0.000000                0.000000       4.000000   \n",
       "50%                0.000000                1.000000       5.000000   \n",
       "75%                2.000000                2.000000       5.000000   \n",
       "max              866.000000              923.000000       5.000000   \n",
       "\n",
       "               Time  \n",
       "count  5.116080e+05  \n",
       "mean   1.296241e+09  \n",
       "std    4.803743e+07  \n",
       "min    9.393408e+08  \n",
       "25%    1.271290e+09  \n",
       "50%    1.311120e+09  \n",
       "75%    1.332720e+09  \n",
       "max    1.351210e+09  "
      ]
     },
     "execution_count": 9,
     "metadata": {},
     "output_type": "execute_result"
    },
    {
     "name": "stdout",
     "output_type": "stream",
     "text": [
      "time: 146 ms\n"
     ]
    }
   ],
   "source": [
    "rawdataset.describe(exclude=['O'])"
   ]
  },
  {
   "cell_type": "markdown",
   "metadata": {},
   "source": [
    "This analysis will focus on predicting the score of the review. Let's start by dropping the columns we're not going to use.\n",
    "Note that this dataset could be used to train a recommendation engine thanks to the ProductId/UserId provided."
   ]
  },
  {
   "cell_type": "code",
   "execution_count": 10,
   "metadata": {},
   "outputs": [
    {
     "name": "stdout",
     "output_type": "stream",
     "text": [
      "time: 342 ms\n"
     ]
    }
   ],
   "source": [
    "eda_dataset = rawdataset.drop(['ProductId', 'UserId', 'Time', 'ProfileName'], axis=1)\n",
    "eda_dataset['SummaryLength'] = eda_dataset['Summary'].str.len()\n",
    "eda_dataset['TextLength'] = eda_dataset['Text'].str.len()"
   ]
  },
  {
   "cell_type": "code",
   "execution_count": 11,
   "metadata": {},
   "outputs": [
    {
     "data": {
      "text/html": [
       "<div>\n",
       "<style scoped>\n",
       "    .dataframe tbody tr th:only-of-type {\n",
       "        vertical-align: middle;\n",
       "    }\n",
       "\n",
       "    .dataframe tbody tr th {\n",
       "        vertical-align: top;\n",
       "    }\n",
       "\n",
       "    .dataframe thead th {\n",
       "        text-align: right;\n",
       "    }\n",
       "</style>\n",
       "<table border=\"1\" class=\"dataframe\">\n",
       "  <thead>\n",
       "    <tr style=\"text-align: right;\">\n",
       "      <th></th>\n",
       "      <th>Score</th>\n",
       "      <th>Summary</th>\n",
       "    </tr>\n",
       "    <tr>\n",
       "      <th>Id</th>\n",
       "      <th></th>\n",
       "      <th></th>\n",
       "    </tr>\n",
       "  </thead>\n",
       "  <tbody>\n",
       "    <tr>\n",
       "      <th>217392</th>\n",
       "      <td>5</td>\n",
       "      <td>Excellent treats</td>\n",
       "    </tr>\n",
       "    <tr>\n",
       "      <th>467449</th>\n",
       "      <td>5</td>\n",
       "      <td>grapefruit in a can YUM</td>\n",
       "    </tr>\n",
       "    <tr>\n",
       "      <th>150849</th>\n",
       "      <td>1</td>\n",
       "      <td>NOT Haribo quality--this stuff is horrible!</td>\n",
       "    </tr>\n",
       "    <tr>\n",
       "      <th>109958</th>\n",
       "      <td>5</td>\n",
       "      <td>GREEN MTN COFFEE ROCKS!</td>\n",
       "    </tr>\n",
       "    <tr>\n",
       "      <th>453425</th>\n",
       "      <td>5</td>\n",
       "      <td>Best coffee and most economical way to get K-cups</td>\n",
       "    </tr>\n",
       "    <tr>\n",
       "      <th>176720</th>\n",
       "      <td>5</td>\n",
       "      <td>LOVE THIS STUFF !!!</td>\n",
       "    </tr>\n",
       "    <tr>\n",
       "      <th>38070</th>\n",
       "      <td>4</td>\n",
       "      <td>Elegant</td>\n",
       "    </tr>\n",
       "    <tr>\n",
       "      <th>380900</th>\n",
       "      <td>5</td>\n",
       "      <td>Yum-O!</td>\n",
       "    </tr>\n",
       "    <tr>\n",
       "      <th>105554</th>\n",
       "      <td>5</td>\n",
       "      <td>Addicting!</td>\n",
       "    </tr>\n",
       "    <tr>\n",
       "      <th>118932</th>\n",
       "      <td>5</td>\n",
       "      <td>Excellent product!</td>\n",
       "    </tr>\n",
       "  </tbody>\n",
       "</table>\n",
       "</div>"
      ],
      "text/plain": [
       "        Score                                            Summary\n",
       "Id                                                              \n",
       "217392      5                                   Excellent treats\n",
       "467449      5                            grapefruit in a can YUM\n",
       "150849      1        NOT Haribo quality--this stuff is horrible!\n",
       "109958      5                            GREEN MTN COFFEE ROCKS!\n",
       "453425      5  Best coffee and most economical way to get K-cups\n",
       "176720      5                                LOVE THIS STUFF !!!\n",
       "38070       4                                            Elegant\n",
       "380900      5                                             Yum-O!\n",
       "105554      5                                         Addicting!\n",
       "118932      5                                 Excellent product!"
      ]
     },
     "execution_count": 11,
     "metadata": {},
     "output_type": "execute_result"
    },
    {
     "name": "stdout",
     "output_type": "stream",
     "text": [
      "time: 51 ms\n"
     ]
    }
   ],
   "source": [
    "eda_dataset[['Score', 'Summary']].sample(10)"
   ]
  },
  {
   "cell_type": "code",
   "execution_count": 12,
   "metadata": {},
   "outputs": [
    {
     "data": {
      "text/html": [
       "<div>\n",
       "<style scoped>\n",
       "    .dataframe tbody tr th:only-of-type {\n",
       "        vertical-align: middle;\n",
       "    }\n",
       "\n",
       "    .dataframe tbody tr th {\n",
       "        vertical-align: top;\n",
       "    }\n",
       "\n",
       "    .dataframe thead th {\n",
       "        text-align: right;\n",
       "    }\n",
       "</style>\n",
       "<table border=\"1\" class=\"dataframe\">\n",
       "  <thead>\n",
       "    <tr style=\"text-align: right;\">\n",
       "      <th></th>\n",
       "      <th>Score</th>\n",
       "      <th>Text</th>\n",
       "    </tr>\n",
       "    <tr>\n",
       "      <th>Id</th>\n",
       "      <th></th>\n",
       "      <th></th>\n",
       "    </tr>\n",
       "  </thead>\n",
       "  <tbody>\n",
       "    <tr>\n",
       "      <th>103123</th>\n",
       "      <td>5</td>\n",
       "      <td>hazelnut and irish creme are my 2 favs from to...</td>\n",
       "    </tr>\n",
       "    <tr>\n",
       "      <th>545111</th>\n",
       "      <td>5</td>\n",
       "      <td>These seeds have to be the best bang for your ...</td>\n",
       "    </tr>\n",
       "    <tr>\n",
       "      <th>302032</th>\n",
       "      <td>5</td>\n",
       "      <td>I think the dispensers are great.  I like that...</td>\n",
       "    </tr>\n",
       "    <tr>\n",
       "      <th>227003</th>\n",
       "      <td>5</td>\n",
       "      <td>My favorites are the Latte and Espresso candie...</td>\n",
       "    </tr>\n",
       "    <tr>\n",
       "      <th>474276</th>\n",
       "      <td>5</td>\n",
       "      <td>This is a great product and is very convenient...</td>\n",
       "    </tr>\n",
       "    <tr>\n",
       "      <th>207288</th>\n",
       "      <td>5</td>\n",
       "      <td>this is the first time i have even heard of st...</td>\n",
       "    </tr>\n",
       "    <tr>\n",
       "      <th>354819</th>\n",
       "      <td>1</td>\n",
       "      <td>The regular cola flavor has a terrible diet ta...</td>\n",
       "    </tr>\n",
       "    <tr>\n",
       "      <th>135924</th>\n",
       "      <td>5</td>\n",
       "      <td>We have always used Anchor bar sauce for our w...</td>\n",
       "    </tr>\n",
       "    <tr>\n",
       "      <th>215036</th>\n",
       "      <td>5</td>\n",
       "      <td>Like the other reviewers we love the taste of ...</td>\n",
       "    </tr>\n",
       "    <tr>\n",
       "      <th>548745</th>\n",
       "      <td>3</td>\n",
       "      <td>If you are looking for a BOLD k-cup, try the C...</td>\n",
       "    </tr>\n",
       "  </tbody>\n",
       "</table>\n",
       "</div>"
      ],
      "text/plain": [
       "        Score                                               Text\n",
       "Id                                                              \n",
       "103123      5  hazelnut and irish creme are my 2 favs from to...\n",
       "545111      5  These seeds have to be the best bang for your ...\n",
       "302032      5  I think the dispensers are great.  I like that...\n",
       "227003      5  My favorites are the Latte and Espresso candie...\n",
       "474276      5  This is a great product and is very convenient...\n",
       "207288      5  this is the first time i have even heard of st...\n",
       "354819      1  The regular cola flavor has a terrible diet ta...\n",
       "135924      5  We have always used Anchor bar sauce for our w...\n",
       "215036      5  Like the other reviewers we love the taste of ...\n",
       "548745      3  If you are looking for a BOLD k-cup, try the C..."
      ]
     },
     "execution_count": 12,
     "metadata": {},
     "output_type": "execute_result"
    },
    {
     "name": "stdout",
     "output_type": "stream",
     "text": [
      "time: 41.2 ms\n"
     ]
    }
   ],
   "source": [
    "eda_dataset[['Score', 'Text']].sample(10)"
   ]
  },
  {
   "cell_type": "code",
   "execution_count": 13,
   "metadata": {},
   "outputs": [
    {
     "name": "stdout",
     "output_type": "stream",
     "text": [
      "time: 1.16 ms\n"
     ]
    }
   ],
   "source": [
    "eda_dataset_by_scores = eda_dataset.groupby('Score')"
   ]
  },
  {
   "cell_type": "code",
   "execution_count": 14,
   "metadata": {},
   "outputs": [
    {
     "data": {
      "text/html": [
       "<div>\n",
       "<style scoped>\n",
       "    .dataframe tbody tr th:only-of-type {\n",
       "        vertical-align: middle;\n",
       "    }\n",
       "\n",
       "    .dataframe tbody tr th {\n",
       "        vertical-align: top;\n",
       "    }\n",
       "\n",
       "    .dataframe thead tr th {\n",
       "        text-align: left;\n",
       "    }\n",
       "\n",
       "    .dataframe thead tr:last-of-type th {\n",
       "        text-align: right;\n",
       "    }\n",
       "</style>\n",
       "<table border=\"1\" class=\"dataframe\">\n",
       "  <thead>\n",
       "    <tr>\n",
       "      <th></th>\n",
       "      <th colspan=\"8\" halign=\"left\">SummaryLength</th>\n",
       "      <th colspan=\"8\" halign=\"left\">TextLength</th>\n",
       "    </tr>\n",
       "    <tr>\n",
       "      <th></th>\n",
       "      <th>count</th>\n",
       "      <th>mean</th>\n",
       "      <th>std</th>\n",
       "      <th>min</th>\n",
       "      <th>25%</th>\n",
       "      <th>50%</th>\n",
       "      <th>75%</th>\n",
       "      <th>max</th>\n",
       "      <th>count</th>\n",
       "      <th>mean</th>\n",
       "      <th>std</th>\n",
       "      <th>min</th>\n",
       "      <th>25%</th>\n",
       "      <th>50%</th>\n",
       "      <th>75%</th>\n",
       "      <th>max</th>\n",
       "    </tr>\n",
       "    <tr>\n",
       "      <th>Score</th>\n",
       "      <th></th>\n",
       "      <th></th>\n",
       "      <th></th>\n",
       "      <th></th>\n",
       "      <th></th>\n",
       "      <th></th>\n",
       "      <th></th>\n",
       "      <th></th>\n",
       "      <th></th>\n",
       "      <th></th>\n",
       "      <th></th>\n",
       "      <th></th>\n",
       "      <th></th>\n",
       "      <th></th>\n",
       "      <th></th>\n",
       "      <th></th>\n",
       "    </tr>\n",
       "  </thead>\n",
       "  <tbody>\n",
       "    <tr>\n",
       "      <th>1</th>\n",
       "      <td>46997.0</td>\n",
       "      <td>24.466030</td>\n",
       "      <td>15.302695</td>\n",
       "      <td>1.0</td>\n",
       "      <td>13.0</td>\n",
       "      <td>21.0</td>\n",
       "      <td>32.0</td>\n",
       "      <td>128.0</td>\n",
       "      <td>46997.0</td>\n",
       "      <td>478.542184</td>\n",
       "      <td>520.123653</td>\n",
       "      <td>12.0</td>\n",
       "      <td>202.0</td>\n",
       "      <td>339.0</td>\n",
       "      <td>564.0</td>\n",
       "      <td>11861.0</td>\n",
       "    </tr>\n",
       "    <tr>\n",
       "      <th>2</th>\n",
       "      <td>26779.0</td>\n",
       "      <td>24.889391</td>\n",
       "      <td>14.601783</td>\n",
       "      <td>1.0</td>\n",
       "      <td>14.0</td>\n",
       "      <td>22.0</td>\n",
       "      <td>33.0</td>\n",
       "      <td>128.0</td>\n",
       "      <td>26803.0</td>\n",
       "      <td>490.476775</td>\n",
       "      <td>456.281301</td>\n",
       "      <td>33.0</td>\n",
       "      <td>212.0</td>\n",
       "      <td>358.0</td>\n",
       "      <td>606.0</td>\n",
       "      <td>9295.0</td>\n",
       "    </tr>\n",
       "    <tr>\n",
       "      <th>3</th>\n",
       "      <td>38443.0</td>\n",
       "      <td>26.086102</td>\n",
       "      <td>15.158867</td>\n",
       "      <td>1.0</td>\n",
       "      <td>15.0</td>\n",
       "      <td>23.0</td>\n",
       "      <td>34.0</td>\n",
       "      <td>127.0</td>\n",
       "      <td>38445.0</td>\n",
       "      <td>520.681129</td>\n",
       "      <td>512.352307</td>\n",
       "      <td>32.0</td>\n",
       "      <td>214.0</td>\n",
       "      <td>373.0</td>\n",
       "      <td>656.0</td>\n",
       "      <td>21409.0</td>\n",
       "    </tr>\n",
       "    <tr>\n",
       "      <th>4</th>\n",
       "      <td>72578.0</td>\n",
       "      <td>24.839290</td>\n",
       "      <td>14.754415</td>\n",
       "      <td>1.0</td>\n",
       "      <td>14.0</td>\n",
       "      <td>22.0</td>\n",
       "      <td>33.0</td>\n",
       "      <td>128.0</td>\n",
       "      <td>72578.0</td>\n",
       "      <td>496.934030</td>\n",
       "      <td>486.023788</td>\n",
       "      <td>35.0</td>\n",
       "      <td>196.0</td>\n",
       "      <td>347.0</td>\n",
       "      <td>623.0</td>\n",
       "      <td>12518.0</td>\n",
       "    </tr>\n",
       "    <tr>\n",
       "      <th>5</th>\n",
       "      <td>326785.0</td>\n",
       "      <td>22.552235</td>\n",
       "      <td>13.366505</td>\n",
       "      <td>1.0</td>\n",
       "      <td>13.0</td>\n",
       "      <td>20.0</td>\n",
       "      <td>29.0</td>\n",
       "      <td>128.0</td>\n",
       "      <td>326785.0</td>\n",
       "      <td>402.671197</td>\n",
       "      <td>411.328065</td>\n",
       "      <td>18.0</td>\n",
       "      <td>170.0</td>\n",
       "      <td>277.0</td>\n",
       "      <td>481.0</td>\n",
       "      <td>16952.0</td>\n",
       "    </tr>\n",
       "  </tbody>\n",
       "</table>\n",
       "</div>"
      ],
      "text/plain": [
       "      SummaryLength                                                      \\\n",
       "              count       mean        std  min   25%   50%   75%    max   \n",
       "Score                                                                     \n",
       "1           46997.0  24.466030  15.302695  1.0  13.0  21.0  32.0  128.0   \n",
       "2           26779.0  24.889391  14.601783  1.0  14.0  22.0  33.0  128.0   \n",
       "3           38443.0  26.086102  15.158867  1.0  15.0  23.0  34.0  127.0   \n",
       "4           72578.0  24.839290  14.754415  1.0  14.0  22.0  33.0  128.0   \n",
       "5          326785.0  22.552235  13.366505  1.0  13.0  20.0  29.0  128.0   \n",
       "\n",
       "      TextLength                                                              \n",
       "           count        mean         std   min    25%    50%    75%      max  \n",
       "Score                                                                         \n",
       "1        46997.0  478.542184  520.123653  12.0  202.0  339.0  564.0  11861.0  \n",
       "2        26803.0  490.476775  456.281301  33.0  212.0  358.0  606.0   9295.0  \n",
       "3        38445.0  520.681129  512.352307  32.0  214.0  373.0  656.0  21409.0  \n",
       "4        72578.0  496.934030  486.023788  35.0  196.0  347.0  623.0  12518.0  \n",
       "5       326785.0  402.671197  411.328065  18.0  170.0  277.0  481.0  16952.0  "
      ]
     },
     "execution_count": 14,
     "metadata": {},
     "output_type": "execute_result"
    },
    {
     "name": "stdout",
     "output_type": "stream",
     "text": [
      "time: 176 ms\n"
     ]
    }
   ],
   "source": [
    "eda_dataset_by_scores[['SummaryLength', 'TextLength']].describe()"
   ]
  },
  {
   "cell_type": "markdown",
   "metadata": {},
   "source": [
    "Good reviews are shorter on average."
   ]
  },
  {
   "cell_type": "code",
   "execution_count": 15,
   "metadata": {},
   "outputs": [
    {
     "data": {
      "text/plain": [
       "<matplotlib.axes._subplots.AxesSubplot at 0x134aee438>"
      ]
     },
     "execution_count": 15,
     "metadata": {},
     "output_type": "execute_result"
    },
    {
     "data": {
      "image/png": "[encoded data removed]",
      "text/plain": [
       "<Figure size 432x288 with 1 Axes>"
      ]
     },
     "metadata": {},
     "output_type": "display_data"
    },
    {
     "name": "stdout",
     "output_type": "stream",
     "text": [
      "time: 276 ms\n"
     ]
    }
   ],
   "source": [
    "eda_dataset['Score'].plot('hist')"
   ]
  },
  {
   "cell_type": "markdown",
   "metadata": {},
   "source": [
    "Perfect scores are overreppresented. We're in presence of a fairly imbalanced dataset."
   ]
  },
  {
   "cell_type": "code",
   "execution_count": 16,
   "metadata": {},
   "outputs": [
    {
     "name": "stdout",
     "output_type": "stream",
     "text": [
      "time: 1.26 ms\n"
     ]
    }
   ],
   "source": [
    "def get_sample_reviews(dataset, label=None, n=5):\n",
    "    for _ in range(n):\n",
    "        text = dataset['Text'].sample().values[0]\n",
    "        print('\\n')\n",
    "        print('-' * 100)\n",
    "        if label:\n",
    "            print(label)\n",
    "        print(text)\n",
    "        "
   ]
  },
  {
   "cell_type": "code",
   "execution_count": 17,
   "metadata": {},
   "outputs": [
    {
     "name": "stdout",
     "output_type": "stream",
     "text": [
      "\n",
      "\n",
      "====================================================================================================\n",
      "Score:  1\n",
      "====================================================================================================\n",
      "\n",
      "\n",
      "----------------------------------------------------------------------------------------------------\n",
      "In addition to the loads of salt, almost each piece no matter how small seems to cotain fiberous stuff that does not get soft no matter how much you chew it.  I've tried many brands of jerky and I can't say I ever noticed this problem to this extent.\n",
      "\n",
      "\n",
      "----------------------------------------------------------------------------------------------------\n",
      "I should've known better than to expect fresh coffee from a warehouse buy. There was no expiration date on the bags. I knew as soon as I smelled it that it was undrinkable. I had to throw it away.\n",
      "\n",
      "\n",
      "====================================================================================================\n",
      "Score:  2\n",
      "====================================================================================================\n",
      "\n",
      "\n",
      "----------------------------------------------------------------------------------------------------\n",
      "I bought a box of these snack packs to take with me when travelling.  My hope was that they would give me a nice protein boost once or twice during the day.  While they might have given me some protein, they also came with a huge side serving of aggravation -- and they don't taste very good to boot.<br /><br />First, the almond butter itself is simply not very good.  If, like me, you're used to almond butter from natural food stores, you're used to one ingredient -- almonds.  With Barney Butter, they load it up with extra oils and salt.  It tastes too sweet and too salty as a result.  This is like the McDonald's of almond butter.  Also, the separation problems cannot be easily overcome in a little packet like this.  With a jar, you just stir.  With a squeeze packet, you can try to keep kneading it and mixing it up before opening it, but the reality is, you're in for a huge blast of oil when you first open it, followed by a clay-like almond paste down below.<br /><br />Second, the packaging is straight-up awful.  It's made of reinforced plastic, so you basically need talons to rip it open.  Why they went with double-thick plastic for something you're supposed to tear is beyond me.  Then, once it's open, the oil separation problems described above make it hard to get the almond butter to keep pushing up.  You have to keep tearing it again or cutting it as you inch your way down the tube.  And if you try to use your teeth to drag the almond butter up to the opening, you're in for some unpleasant cuts in the corners of your mouth due to the wide size of the packet.  It's just an all-around mess.<br /><br />I would never buy a jar of Barney Butter due to the unnecessary extra ingredients and weird taste, and I would certainly never buy these snack packs again due to the ridiculous packaging.  In the future, I'll just go back to carrying a little jar of real almond butter with me when I travel.  At least I can open that.\n",
      "\n",
      "\n",
      "----------------------------------------------------------------------------------------------------\n",
      "The yeast was made in Mexico and did not have any USE BY date on it. After I got it, I realized that I could have purchased 4 pouches for $13.68.  I was going to send it back, but the postage was $6.50, so I figured that I might as well keep it and try it.  It seems to work well, but I have also ordered the 4 pack.\n",
      "\n",
      "\n",
      "====================================================================================================\n",
      "Score:  3\n",
      "====================================================================================================\n",
      "\n",
      "\n",
      "----------------------------------------------------------------------------------------------------\n",
      "It's a decent product if you can't handle/tollerate Xylitol and some of the side effects people experience. Erythritol, IMO, is not as sweet as Xylitol and is more expensive. I gave it a try, but will stick with my first choice.\n",
      "\n",
      "\n",
      "----------------------------------------------------------------------------------------------------\n",
      "My youngest daughter was just diagnosed with a peanut allergy. The doctor also said she was reactive to tree nuts, so we are staying away from it all. I tried Sunflower Butter first and found it so disgusting I gave the jar away to someone else. This was my next try since my oldest daughter recently discovered Nutella from a friend. It's not Nutella, but it's not bad either.  It's a mild chocolate taste, and I guess the soy has a very different taste than peanut butter. More grassy or dirt like - I know that sounds gross, but it's not as nutty tasting as peanut butter. It is still smooth and the grassy undertones aren't horrible like I found the sunflower butter to be. I find myself eating it on bread or crackers like peanut butter. After a while it's a pretty good taste, I don't notice it's not peanut butter.\n",
      "\n",
      "\n",
      "====================================================================================================\n",
      "Score:  4\n",
      "====================================================================================================\n",
      "\n",
      "\n",
      "----------------------------------------------------------------------------------------------------\n",
      "I expected more flavor from W. Puck. Though this coffee does taste good, it didn't have caramel flavor as expected. This is my opinion. Someone else may feel differently. The price is okay, I would not discount this product at all. It's a good product. Try it, you may like it.\n",
      "\n",
      "\n",
      "----------------------------------------------------------------------------------------------------\n",
      "All of the Nature's Path organic toaster pastries are delicious, and actually good for you, to the extent that a carb filled toaster pastry can be. The frosting amount is just right, not too little, and not too overpowering.<br /><br />As for flavor preference, here's where I stand:<br /><br />strawberry > apple cinnamon > blueberry<br /><br />(hence 4 stars for this flavor, rather than 5)\n",
      "\n",
      "\n",
      "====================================================================================================\n",
      "Score:  5\n",
      "====================================================================================================\n",
      "\n",
      "\n",
      "----------------------------------------------------------------------------------------------------\n",
      "Add to tacos, chilis, spaghetti sauce.  Gives substance and protein without trying to taste like ground beef, while still having the right texture for people who like ground beef.\n",
      "\n",
      "\n",
      "----------------------------------------------------------------------------------------------------\n",
      "All I can say about these treats is they are not too nasty (they smell OK, and they are not slimy), and my dogs like them. They are very easy to break into smaller pieces, which is good since each one is about the size of an Oreo cookie. Recommended.\n",
      "time: 107 ms\n"
     ]
    }
   ],
   "source": [
    "for i in range(1, 6):\n",
    "    print('\\n')\n",
    "    print('=' * 100)\n",
    "    print('Score: ', i)\n",
    "    print('=' * 100)\n",
    "    get_sample_reviews(eda_dataset_by_scores.get_group(i), n=2)\n"
   ]
  },
  {
   "cell_type": "markdown",
   "metadata": {},
   "source": [
    "Observations:\n",
    "* html tags are still present.\n",
    "* Some english contractions still present."
   ]
  },
  {
   "cell_type": "code",
   "execution_count": 18,
   "metadata": {},
   "outputs": [
    {
     "name": "stdout",
     "output_type": "stream",
     "text": [
      "time: 51.7 s\n"
     ]
    }
   ],
   "source": [
    "eda_dataset['Text'] = eda_dataset['Text'].apply(plaintext)"
   ]
  },
  {
   "cell_type": "code",
   "execution_count": 19,
   "metadata": {},
   "outputs": [
    {
     "name": "stdout",
     "output_type": "stream",
     "text": [
      "\n",
      "\n",
      "----------------------------------------------------------------------------------------------------\n",
      "The package arrived with all the cans inside of a cardboard tray that was shrink wrapped. There was no damage to the cans and they tasted just fine.\n",
      "\n",
      "As far as V-8 itself...\n",
      "\n",
      "I enjoy using V-8 as a meal replacement (replacing a greasy breakfast). Think of it as tomato soup with a little less flavoring. It was an acquired taste for me that I have since come to enjoy. If you find that the original is a bit on the bland side, you can try the spicy flavor as a nice alternative. The only drawback is that spicy has a bit more sodium.\n",
      "\n",
      "\n",
      "----------------------------------------------------------------------------------------------------\n",
      "This cracker curbs appetite like no other. I have it in the morning with some low fat cheese on it, in the afternoon with some peanut butter and jelly on it and then in the evening with some cream cheese and salmon on it. I make sure to drink plenty of water too as it expands in your stomach and gives you the full feeling. It truly is a great product and it's quite a deal being sold on Amazon - especially with the free shipping! I'm looking forward to their new product which they are going to release soon called Sprinkles. It's the crushed up version which you can have on salads, yogurts, and ice cream. It's much better than granola, especially if you are trying to lose weight.\n",
      "time: 24.8 ms\n"
     ]
    }
   ],
   "source": [
    "get_sample_reviews(eda_dataset, n=2)"
   ]
  },
  {
   "cell_type": "markdown",
   "metadata": {},
   "source": [
    "### EDA - Preprocessing"
   ]
  },
  {
   "cell_type": "markdown",
   "metadata": {},
   "source": [
    "We're going to tokenize and stem the dataset to have a look at the distribution of tokens by scores.\n",
    "Note that we do not use spacy for the sake of the exercise.\n",
    "\n",
    "A first pass over the data reveal that stopwords and punctuation are significantly poluting the dataset. We'll remove them first"
   ]
  },
  {
   "cell_type": "code",
   "execution_count": 20,
   "metadata": {},
   "outputs": [
    {
     "name": "stdout",
     "output_type": "stream",
     "text": [
      "time: 2.08 ms\n"
     ]
    }
   ],
   "source": [
    "\n",
    "class DocumentStemmer:\n",
    "    def __init__(self, stopwords, lower=True):\n",
    "        self._stemmer = PorterStemmer()\n",
    "        self._stopwords = stopwords\n",
    "        self._lower = lower\n",
    "        sent_tokenizer = PunktSentenceTokenizer()\n",
    "        word_tokenizer = TreebankWordTokenizer()\n",
    "        self._tokenize_text = tzc.compose(tzc.mapcat(word_tokenizer.tokenize), sent_tokenizer.tokenize)\n",
    "        \n",
    "    def stem_document(self, doc):\n",
    "        if self._lower:\n",
    "            doc = doc.lower()\n",
    "        tokens = self._tokenize_text(doc)\n",
    "        stems = [self._stemmer.stem(w) for w in tokens if w not in self._stopwords]\n",
    "        return stems\n",
    "        "
   ]
  },
  {
   "cell_type": "code",
   "execution_count": 21,
   "metadata": {},
   "outputs": [
    {
     "name": "stdout",
     "output_type": "stream",
     "text": [
      "time: 10.6 ms\n"
     ]
    }
   ],
   "source": [
    "STOPWORDS = {'.', ',', \"''\", '``', '(', ')'}.union(stopwords.words('english'))"
   ]
  },
  {
   "cell_type": "code",
   "execution_count": 22,
   "metadata": {},
   "outputs": [
    {
     "name": "stdout",
     "output_type": "stream",
     "text": [
      "time: 899 µs\n"
     ]
    }
   ],
   "source": [
    "\n",
    "doc_stemmer = DocumentStemmer(STOPWORDS)"
   ]
  },
  {
   "cell_type": "code",
   "execution_count": 23,
   "metadata": {},
   "outputs": [
    {
     "name": "stdout",
     "output_type": "stream",
     "text": [
      "time: 3min 9s\n"
     ]
    }
   ],
   "source": [
    "with ProcessPoolExecutor() as executor:\n",
    "    stems = list(executor.map(doc_stemmer.stem_document, eda_dataset['Text'], chunksize=1000))\n",
    "    "
   ]
  },
  {
   "cell_type": "code",
   "execution_count": null,
   "metadata": {},
   "outputs": [],
   "source": []
  },
  {
   "cell_type": "code",
   "execution_count": 24,
   "metadata": {},
   "outputs": [
    {
     "name": "stdout",
     "output_type": "stream",
     "text": [
      "time: 469 ms\n"
     ]
    }
   ],
   "source": [
    "eda_dataset['Stems'] = stems"
   ]
  },
  {
   "cell_type": "code",
   "execution_count": 25,
   "metadata": {},
   "outputs": [
    {
     "name": "stdout",
     "output_type": "stream",
     "text": [
      "time: 215 ms\n"
     ]
    }
   ],
   "source": [
    "eda_dataset_by_scores = eda_dataset.groupby('Score')"
   ]
  },
  {
   "cell_type": "code",
   "execution_count": 33,
   "metadata": {},
   "outputs": [
    {
     "name": "stdout",
     "output_type": "stream",
     "text": [
      "time: 1.35 ms\n"
     ]
    }
   ],
   "source": [
    "def show_most_common(counter, title=None, n=25):\n",
    "    most_common = reversed(counter.most_common(n))\n",
    "    k, v = zip(*most_common)\n",
    "#     fig = plt.figure(figsize=(10, 10))\n",
    "    if title:\n",
    "        plt.title(title)\n",
    "    plt.barh(k, v);\n",
    "\n"
   ]
  },
  {
   "cell_type": "code",
   "execution_count": 27,
   "metadata": {},
   "outputs": [
    {
     "name": "stdout",
     "output_type": "stream",
     "text": [
      "time: 3.13 s\n"
     ]
    }
   ],
   "source": [
    "counters = {\n",
    "    name: Counter(tz.concat(df['Stems']))\n",
    "    for name, df in eda_dataset_by_scores\n",
    "}\n"
   ]
  },
  {
   "cell_type": "code",
   "execution_count": 36,
   "metadata": {},
   "outputs": [
    {
     "data": {
      "image/png": "[encoded data removed]",
      "text/plain": [
       "<Figure size 1440x720 with 5 Axes>"
      ]
     },
     "metadata": {},
     "output_type": "display_data"
    },
    {
     "name": "stdout",
     "output_type": "stream",
     "text": [
      "time: 1.55 s\n"
     ]
    }
   ],
   "source": [
    "#TODO: Create word cloud and attempt to identify some pattern.\n",
    "fig = plt.figure(figsize=(20, 10))\n",
    "fig.subplots_adjust(hspace=0.4, wspace=0.4)\n",
    "for i, (score, counter) in enumerate(counters.items()):\n",
    "    ax = fig.add_subplot(2, 3, i+1)\n",
    "    show_most_common(counter, f'Score: {score}')"
   ]
  },
  {
   "cell_type": "markdown",
   "metadata": {},
   "source": [
    "## Raw Dataset"
   ]
  },
  {
   "cell_type": "code",
   "execution_count": 10,
   "metadata": {},
   "outputs": [
    {
     "name": "stdout",
     "output_type": "stream",
     "text": [
      "train: (383706, 8)\n",
      "devtest: (127902, 8)\n",
      "time: 566 ms\n"
     ]
    }
   ],
   "source": [
    "features_train, features_devtest, scores_train, scores_devtest = train_test_split(rawdataset.drop('Score', axis=1), \n",
    "                                                                                  rawdataset['Score'], \n",
    "                                                                                  test_size=0.25, stratify=rawdataset['Score'])\n",
    "X = features_train['Text']\n",
    "X_devtest = features_devtest['Text']\n",
    "print(f'train: {features_train.shape}\\ndevtest: {features_devtest.shape}')"
   ]
  },
  {
   "cell_type": "code",
   "execution_count": 11,
   "metadata": {},
   "outputs": [
    {
     "name": "stdout",
     "output_type": "stream",
     "text": [
      "sample size: (191853,)\n",
      "time: 204 ms\n"
     ]
    }
   ],
   "source": [
    "X_sampled, _, y_sampled, _ = train_test_split(X, scores_train, train_size=0.5, stratify=scores_train) \n",
    "print(f'sample size: {X_sampled.shape}')"
   ]
  },
  {
   "cell_type": "markdown",
   "metadata": {},
   "source": [
    "## Modelling"
   ]
  },
  {
   "cell_type": "markdown",
   "metadata": {},
   "source": [
    "### Modelling - Baseline Model\n",
    "\n",
    "We start with a baseline model applying LSA to the dataset with no additional features.\n",
    "We'll test a few different model types with this simple feature set."
   ]
  },
  {
   "cell_type": "code",
   "execution_count": 45,
   "metadata": {},
   "outputs": [
    {
     "name": "stdout",
     "output_type": "stream",
     "text": [
      "time: 4.3 ms\n"
     ]
    }
   ],
   "source": [
    "def make_baseline(estimator):\n",
    "    baseline = make_pipeline(\n",
    "        feature_extraction.text.TfidfVectorizer(max_features=20000, stop_words='english', ngram_range=(1, 2)),\n",
    "        decomposition.TruncatedSVD(n_components=300, n_iter=8),\n",
    "        estimator\n",
    "    )\n",
    "    \n",
    "def evaluate_baseline(baseline, X, y, X_test, y_test, label=None):\n",
    "    tranforms = make_pipeline(\n",
    "        feature_extraction.text.TfidfVectorizer(max_features=20000, stop_words='english', ngram_range=(1, 2)),\n",
    "        decomposition.TruncatedSVD(n_components=300, n_iter=8)\n",
    "    )\n",
    "    X_tf = tranforms.fit_transform(X)\n",
    "    \n",
    "    print(f'training {baseline} done.')\n",
    "    print('evaluating...')\n",
    "    y_pred = baseline.predict(X_test)\n",
    "    report = evaluate_prediction(y_test, y_pred)\n",
    "    if label:\n",
    "        label = f'baseline-{label}'\n",
    "    else:\n",
    "        label = 'baseline'\n",
    "    save_report(report, REPORTS_DIR, label)\n",
    "    return baseline, report\n"
   ]
  },
  {
   "cell_type": "code",
   "execution_count": 46,
   "metadata": {},
   "outputs": [
    {
     "name": "stdout",
     "output_type": "stream",
     "text": [
      "time: 3.84 ms\n"
     ]
    }
   ],
   "source": [
    "baselines = {\n",
    "    'logit-ovr': linear_model.LogisticRegression(solver='saga', multi_class='ovr', n_jobs=-1, max_iter=250),\n",
    "    'logit-multinomial': linear_model.LogisticRegression(solver='saga', multi_class='multinomial', n_jobs=-1, max_iter=250),\n",
    "}"
   ]
  },
  {
   "cell_type": "code",
   "execution_count": 209,
   "metadata": {},
   "outputs": [],
   "source": [
    "def evaluate_baseline(estimator, feature_extractor, X_train, y_train, X_test, y_test, label=None):\n",
    "    X = feature_extractor.transform(X_train)\n",
    "    estimator.fit(X, y_train)\n",
    "\n",
    "    baseline = make_pipeline(*feature_extractor.named_steps.values(), estimator)\n",
    "    \n",
    "    print(f'fitting {label or baseline} done. evaluating...')\n",
    "    \n",
    "    y_pred = baseline.predict(X_test)\n",
    "    report = evaluate_prediction(y_test, y_pred)\n",
    "    if label:\n",
    "        label = f'baseline-{label}'\n",
    "    else:\n",
    "        label = 'baseline'\n",
    "    save_report(report, REPORTS_DIR, label)\n",
    "    return baseline, report\n",
    "\n",
    "\n",
    "def evaluate_baselines(baselines, X_train, y_train, X_test, y_test):\n",
    "    lsa = make_pipeline(\n",
    "        feature_extraction.text.TfidfVectorizer(max_features=20000, stop_words='english', ngram_range=(1, 2)),\n",
    "        decomposition.TruncatedSVD(n_components=300, n_iter=8)\n",
    "    )\n",
    "    lsa.fit(X_train)\n",
    "    print('feature extraction done.')\n",
    "    \n",
    "    with ProcessPoolExecutor() as executor:\n",
    "        future_to_labels = {\n",
    "            executor.submit(evaluate_baseline, baseline, lsa, X_train, y_train, X_test, y_test, label): label\n",
    "            for label, baseline in baselines.items()\n",
    "        }\n",
    "    \n",
    "    results = {}\n",
    "    for future in as_completed(future_to_labels):\n",
    "        label = future_to_labels[future]\n",
    "        result = future.result()\n",
    "        print(result)\n",
    "        if isinstance(result, tuple):\n",
    "            model, report = result\n",
    "            result[label] = {'model': model, 'report': report}\n",
    "        else:\n",
    "            print(f'issue with {label}')\n",
    "\n",
    "    return results\n",
    "\n",
    "    \n",
    "\n"
   ]
  },
  {
   "cell_type": "code",
   "execution_count": 210,
   "metadata": {},
   "outputs": [
    {
     "name": "stdout",
     "output_type": "stream",
     "text": [
      "feature extraction done.\n",
      "fitting logit-multinomial done. evaluating...\n",
      "AUROC: 0.614\n",
      "MCC: 0.365\n",
      "              precision    recall  f1-score   support\n",
      "\n",
      "           1       0.55      0.54      0.54     11749\n",
      "           2       0.33      0.05      0.09      6701\n",
      "           3       0.36      0.14      0.20      9611\n",
      "           4       0.46      0.14      0.22     18145\n",
      "           5       0.74      0.96      0.84     81696\n",
      "\n",
      "   micro avg       0.70      0.70      0.70    127902\n",
      "   macro avg       0.49      0.37      0.38    127902\n",
      "weighted avg       0.63      0.70      0.63    127902\n",
      "\n"
     ]
    },
    {
     "data": {
      "image/png": "[encoded data removed]",
      "text/plain": [
       "<Figure size 720x720 with 2 Axes>"
      ]
     },
     "metadata": {},
     "output_type": "display_data"
    },
    {
     "name": "stdout",
     "output_type": "stream",
     "text": [
      "fitting logit-ovr done. evaluating...\n",
      "AUROC: 0.601\n",
      "MCC: 0.347\n",
      "              precision    recall  f1-score   support\n",
      "\n",
      "           1       0.56      0.50      0.53     11749\n",
      "           2       0.36      0.03      0.05      6701\n",
      "           3       0.37      0.10      0.16      9611\n",
      "           4       0.42      0.14      0.21     18145\n",
      "           5       0.73      0.97      0.83     81696\n",
      "\n",
      "   micro avg       0.69      0.69      0.69    127902\n",
      "   macro avg       0.49      0.35      0.35    127902\n",
      "weighted avg       0.62      0.69      0.62    127902\n",
      "\n"
     ]
    },
    {
     "data": {
      "image/png": "[encoded data removed]",
      "text/plain": [
       "<Figure size 720x720 with 2 Axes>"
      ]
     },
     "metadata": {},
     "output_type": "display_data"
    },
    {
     "name": "stdout",
     "output_type": "stream",
     "text": [
      "(Pipeline(memory=None,\n",
      "     steps=[('tfidfvectorizer', TfidfVectorizer(analyzer='word', binary=False, decode_error='strict',\n",
      "        dtype=<class 'numpy.float64'>, encoding='utf-8', input='content',\n",
      "        lowercase=True, max_df=1.0, max_features=20000, min_df=1,\n",
      "        ngram_range=(1, 2), norm='l2', preprocessor=None, smoot...penalty='l2', random_state=None, solver='saga', tol=0.0001,\n",
      "          verbose=0, warm_start=False))]), {'auroc': 0.6005091256480368, 'f1score': 0.3542407767902014, 'normalized_confusion_matrix': [[0.49655289811898884, 0.016713923295030592, 0.03267089792945583, 0.014549462661890328, 0.06395661966314141], [0.1539705506851647, 0.0261155051484853, 0.061596087816044115, 0.027280242491044365, 0.04443301997649824], [0.10324282917695123, 0.016564691837039246, 0.09863697846217875, 0.07406999173325986, 0.07338180571876224], [0.05072772150821347, 0.006715415609610506, 0.04536468629695141, 0.1393772389087903, 0.17796464943204074], [0.08690101285215764, 0.005820026861662438, 0.025387576734991157, 0.07368421052631578, 0.9676728358793576]], 'matthew_corrcoef': 0.3471927268884373})\n"
     ]
    },
    {
     "ename": "TypeError",
     "evalue": "'tuple' object does not support item assignment",
     "output_type": "error",
     "traceback": [
      "\u001b[0;31m---------------------------------------------------------------------------\u001b[0m",
      "\u001b[0;31mTypeError\u001b[0m                                 Traceback (most recent call last)",
      "\u001b[0;32m<ipython-input-210-7db2f751e7a7>\u001b[0m in \u001b[0;36m<module>\u001b[0;34m\u001b[0m\n\u001b[1;32m      1\u001b[0m \u001b[0;31m# baseline = linear_model.LogisticRegression(solver='saga', multi_class='ovr', n_jobs=-1, max_iter=250)\u001b[0m\u001b[0;34m\u001b[0m\u001b[0;34m\u001b[0m\u001b[0m\n\u001b[0;32m----> 2\u001b[0;31m \u001b[0mresults\u001b[0m \u001b[0;34m=\u001b[0m \u001b[0mevaluate_baselines\u001b[0m\u001b[0;34m(\u001b[0m\u001b[0mbaselines\u001b[0m\u001b[0;34m,\u001b[0m \u001b[0mX_sampled\u001b[0m\u001b[0;34m,\u001b[0m \u001b[0my_sampled\u001b[0m\u001b[0;34m,\u001b[0m \u001b[0mX_devtest\u001b[0m\u001b[0;34m,\u001b[0m \u001b[0mscores_devtest\u001b[0m\u001b[0;34m)\u001b[0m\u001b[0;34m\u001b[0m\u001b[0m\n\u001b[0m",
      "\u001b[0;32m<ipython-input-209-38672d690e26>\u001b[0m in \u001b[0;36mevaluate_baselines\u001b[0;34m(baselines, X_train, y_train, X_test, y_test)\u001b[0m\n\u001b[1;32m     38\u001b[0m         \u001b[0;32mif\u001b[0m \u001b[0misinstance\u001b[0m\u001b[0;34m(\u001b[0m\u001b[0mresult\u001b[0m\u001b[0;34m,\u001b[0m \u001b[0mtuple\u001b[0m\u001b[0;34m)\u001b[0m\u001b[0;34m:\u001b[0m\u001b[0;34m\u001b[0m\u001b[0m\n\u001b[1;32m     39\u001b[0m             \u001b[0mmodel\u001b[0m\u001b[0;34m,\u001b[0m \u001b[0mreport\u001b[0m \u001b[0;34m=\u001b[0m \u001b[0mresult\u001b[0m\u001b[0;34m\u001b[0m\u001b[0m\n\u001b[0;32m---> 40\u001b[0;31m             \u001b[0mresult\u001b[0m\u001b[0;34m[\u001b[0m\u001b[0mlabel\u001b[0m\u001b[0;34m]\u001b[0m \u001b[0;34m=\u001b[0m \u001b[0;34m{\u001b[0m\u001b[0;34m'model'\u001b[0m\u001b[0;34m:\u001b[0m \u001b[0mmodel\u001b[0m\u001b[0;34m,\u001b[0m \u001b[0;34m'report'\u001b[0m\u001b[0;34m:\u001b[0m \u001b[0mreport\u001b[0m\u001b[0;34m}\u001b[0m\u001b[0;34m\u001b[0m\u001b[0m\n\u001b[0m\u001b[1;32m     41\u001b[0m         \u001b[0;32melse\u001b[0m\u001b[0;34m:\u001b[0m\u001b[0;34m\u001b[0m\u001b[0m\n\u001b[1;32m     42\u001b[0m             \u001b[0mprint\u001b[0m\u001b[0;34m(\u001b[0m\u001b[0;34mf'issue with {label}'\u001b[0m\u001b[0;34m)\u001b[0m\u001b[0;34m\u001b[0m\u001b[0m\n",
      "\u001b[0;31mTypeError\u001b[0m: 'tuple' object does not support item assignment"
     ]
    }
   ],
   "source": [
    "results = evaluate_baselines(baselines, X_sampled, y_sampled, X_devtest, scores_devtest)"
   ]
  },
  {
   "cell_type": "markdown",
   "metadata": {},
   "source": [
    "## Corpus Preparation"
   ]
  },
  {
   "cell_type": "code",
   "execution_count": 12,
   "metadata": {},
   "outputs": [
    {
     "name": "stdout",
     "output_type": "stream",
     "text": [
      "time: 2.94 ms\n"
     ]
    }
   ],
   "source": [
    "ENGLISH_CONTRACTIONS = get_curated_english_contractions(ARTEFACT_DIR / 'curated_contractions.csv')\n",
    "STANFORD_POSTAGGER_JAR = str(ARTEFACT_DIR / 'stanford-postagger/stanford-postagger.jar')\n",
    "STANFORD_POSTAGGER_OPTIONS = dict(normalizeParentheses=False, normalizeFractions=True, normalizeOtherBrackets=False, splitHyphenated=True)\n",
    "\n",
    "\n",
    "quote_remover = RegexpReplacer(QUOTES_PATTERN)\n",
    "hyphen_replacer = RegexpReplacer([('-', ' ')])\n",
    "parenthesis_remover = RegexpReplacer(PARENTHESIS_PATTERN)\n",
    "contraction_replacer = RegexpReplacer(ENGLISH_CONTRACTIONS)\n",
    "stemmer = PorterStemmer()\n",
    "lemmatizer = WordNetLemmatizer()\n",
    "sent_tokenizer = PunktSentenceTokenizer()\n",
    "word_tokenizer = TreebankWordTokenizer()\n",
    "stanford_tokenizer = StanfordTokenizer(STANFORD_POSTAGGER_JAR, options=STANFORD_POSTAGGER_OPTIONS)\n",
    "tokenize_text = tzc.compose(tzc.mapcat(stanford_tokenizer.tokenize), sent_tokenizer.tokenize)\n",
    "lower_tokens = tzc.map(str.lower)"
   ]
  },
  {
   "cell_type": "code",
   "execution_count": 13,
   "metadata": {},
   "outputs": [
    {
     "name": "stdout",
     "output_type": "stream",
     "text": [
      "time: 5.22 ms\n"
     ]
    }
   ],
   "source": [
    "def spellcheck_token(token: str) -> str:\n",
    "    if token in word_vectors:\n",
    "        return token\n",
    "    \n",
    "    suggestions = pattern_en.suggest(token)\n",
    "    correction: str\n",
    "    if suggestions[0][1] >= 0.95:\n",
    "        correction = suggestions[0][0]\n",
    "    else:\n",
    "        correction = token\n",
    "        \n",
    "    return token\n",
    "\n",
    "def strip_token(token: str) -> str:\n",
    "    return token.strip('.*_-\\'\\\"')\n",
    "\n",
    "def split_token(token: str) -> str:\n",
    "    '''\n",
    "    Splits a token in its part based on a separation character.\n",
    "    '''\n",
    "    patterns = ['.', '-', '*', '/', '\\\\']\n",
    "    for pattern in patterns:\n",
    "        token.split()\n",
    "        \n",
    "def spacy_tokenize(doc):\n",
    "    return [token.text for token in nlp(doc)]\n",
    "\n",
    "def generate_sentences(indexed_documents):\n",
    "    for doc, i in indexed_documents:\n",
    "        for sent in doc.sents:\n",
    "            yield sent.text\n",
    "            \n",
    "def generate_texts(indexed_documents):\n",
    "    for doc, i in indexed_documents:\n",
    "        yield doc.text\n",
    "            \n",
    "def save_sentences(path: Union[str, Path], documents):\n",
    "    '''\n",
    "    Writes sentes to file to make embedding model training faster.\n",
    "    '''\n",
    "    with open(path, 'wt') as f:\n",
    "        for doc in documents:\n",
    "            for sent in doc.sents:\n",
    "                f.write(sent.text)\n",
    "                f.write('\\n')\n",
    "\n",
    "            \n",
    "def train_fasttext(corpus_file, size, total_words, epochs, window=5):\n",
    "    vector_model = FastText(size=300, window=window, min_count=1, sg=1)\n",
    "    vector_model.build_vocab(corpus_file=corpus_file)\n",
    "    vector_model.train(corpus_file=corpus_file, \n",
    "                       total_examples=vector_model.corpus_count, \n",
    "                       total_words=total_words, \n",
    "                       epochs=epochs)\n",
    "    return vector_model\n",
    "\n",
    "\n",
    "def count_words(indexed_documents):\n",
    "    return np.sum(len(doc) for doc, i in indexed_documents)\n",
    "    \n",
    "    \n",
    "def save_documents(path, indexed_documents):\n",
    "    '''\n",
    "    Archive the serialized document in a zip file.\n",
    "    '''\n",
    "    with zipfile.ZipFile(path, 'w', compression=zipfile.ZIP_DEFLATED) as archive:\n",
    "        for i, (doc, index) in enumerate(indexed_documents):\n",
    "            doc.tensor = None\n",
    "            data = doc.to_bytes()\n",
    "            archive.writestr(f'{index}.pickle', data)\n",
    "    \n",
    "    \n",
    "spellcheck_tokens = tzc.map(spellcheck_token)\n",
    "strip_tokens = tzc.map(strip_token)"
   ]
  },
  {
   "cell_type": "markdown",
   "metadata": {},
   "source": [
    "### Normalization and Parsing"
   ]
  },
  {
   "cell_type": "code",
   "execution_count": 16,
   "metadata": {},
   "outputs": [
    {
     "name": "stdout",
     "output_type": "stream",
     "text": [
      "time: 149 ms\n"
     ]
    }
   ],
   "source": [
    "normalizer = CorpusNormalizer(contraction_replacer, clean_html)\n",
    "nlp = spacy.load('en_core_web_sm', disable=('ner'))\n",
    "batch_size = 2000\n"
   ]
  },
  {
   "cell_type": "code",
   "execution_count": 19,
   "metadata": {},
   "outputs": [
    {
     "name": "stdout",
     "output_type": "stream",
     "text": [
      "time: 2.35 ms\n"
     ]
    }
   ],
   "source": [
    "\n",
    "def parse_corpus(corpus, index=None, path=None, batch_size=1000):\n",
    "    print('parsing training set...')\n",
    "    if index is None:\n",
    "        index = range(len(corpus))\n",
    "        \n",
    "    normalized_corpus = normalizer.transform(corpus)\n",
    "    texts = zip(normalized_corpus, index)\n",
    "    indexed_parsed_corpus = [doc for doc in tqdm(nlp.pipe(texts, as_tuples=True, batch_size=batch_size), total=len(corpus))]\n",
    "    print('done.')\n",
    "\n",
    "    if path:\n",
    "        print(f'saving corpus to {path}')\n",
    "        save_documents(path, indexed_parsed_corpus)\n",
    "        print('done.')\n",
    "\n",
    "    return indexed_parsed_corpus"
   ]
  },
  {
   "cell_type": "markdown",
   "metadata": {},
   "source": [
    "#### Training Corpus"
   ]
  },
  {
   "cell_type": "code",
   "execution_count": 20,
   "metadata": {},
   "outputs": [
    {
     "name": "stdout",
     "output_type": "stream",
     "text": [
      "parsing training set...\n"
     ]
    },
    {
     "data": {
      "application/vnd.jupyter.widget-view+json": {
       "model_id": "b6cff06072ae42ebb95c5f014e44cbbd",
       "version_major": 2,
       "version_minor": 0
      },
      "text/plain": [
       "HBox(children=(IntProgress(value=0, max=383706), HTML(value='')))"
      ]
     },
     "metadata": {},
     "output_type": "display_data"
    },
    {
     "name": "stdout",
     "output_type": "stream",
     "text": [
      "done.\n",
      "saving corpus to ../artefacts/train_corpus.zip\n",
      "done.\n",
      "35833002 word in corpus\n",
      "time: 46min 13s\n"
     ]
    }
   ],
   "source": [
    "train_save_path = ARTEFACT_DIR / 'train_corpus.zip'\n",
    "parsed_train_corpus = parse_corpus(X, X.index, train_save_path, batch_size)\n",
    "word_count = count_words(parsed_train_corpus)\n",
    "print(f'{word_count} word in corpus')"
   ]
  },
  {
   "cell_type": "code",
   "execution_count": 22,
   "metadata": {},
   "outputs": [
    {
     "name": "stdout",
     "output_type": "stream",
     "text": [
      "saving training sentences to disk...\n",
      "done.\n",
      "time: 28.4 s\n"
     ]
    }
   ],
   "source": [
    "print('saving training sentences to disk...')\n",
    "corpus_file = TMPDIR / 'train_sentences.txt'\n",
    "save_sentences(corpus_file, tz.map(tzc.get(0), parsed_train_corpus))\n",
    "print('done.')"
   ]
  },
  {
   "cell_type": "markdown",
   "metadata": {},
   "source": [
    "#### Validation Corpus"
   ]
  },
  {
   "cell_type": "code",
   "execution_count": 24,
   "metadata": {},
   "outputs": [
    {
     "name": "stdout",
     "output_type": "stream",
     "text": [
      "parsing training set...\n"
     ]
    },
    {
     "data": {
      "application/vnd.jupyter.widget-view+json": {
       "model_id": "b7719f8ca0ad4214af3a7f93d0021632",
       "version_major": 2,
       "version_minor": 0
      },
      "text/plain": [
       "HBox(children=(IntProgress(value=0, max=127902), HTML(value='')))"
      ]
     },
     "metadata": {},
     "output_type": "display_data"
    },
    {
     "name": "stdout",
     "output_type": "stream",
     "text": [
      "done.\n",
      "saving corpus to ../artefacts/devtest_corpus.zip\n",
      "done.\n",
      "time: 15min 26s\n"
     ]
    }
   ],
   "source": [
    "devtest_save_path = ARTEFACT_DIR / 'devtest_corpus.zip'\n",
    "\n",
    "parsed_devtest_corpus = parse_corpus(X_devtest, X_devtest.index, devtest_save_path, batch_size)"
   ]
  },
  {
   "cell_type": "markdown",
   "metadata": {},
   "source": [
    "### Training Fasttext"
   ]
  },
  {
   "cell_type": "code",
   "execution_count": 25,
   "metadata": {},
   "outputs": [
    {
     "name": "stdout",
     "output_type": "stream",
     "text": [
      "training FastText-300 for 10 epochs\n"
     ]
    },
    {
     "name": "stderr",
     "output_type": "stream",
     "text": [
      "W0511 00:05:48.300411 140735669322624 smart_open_lib.py:385] this function is deprecated, use smart_open.open instead\n"
     ]
    },
    {
     "name": "stdout",
     "output_type": "stream",
     "text": [
      "done\n",
      "saving FastText model to disk...\n"
     ]
    },
    {
     "name": "stderr",
     "output_type": "stream",
     "text": [
      "W0511 00:41:33.470665 140735669322624 smart_open_lib.py:385] this function is deprecated, use smart_open.open instead\n"
     ]
    },
    {
     "name": "stdout",
     "output_type": "stream",
     "text": [
      "done.\n",
      "time: 36min 14s\n"
     ]
    }
   ],
   "source": [
    "size = 300\n",
    "epochs = 10\n",
    "print(f'training FastText-{size} for {epochs} epochs')\n",
    "vector_model = train_fasttext(corpus_file.as_posix(), total_words=word_count, size=size, window=5, epochs=epochs)\n",
    "print('done')\n",
    "\n",
    "print('saving FastText model to disk...')\n",
    "vector_model_file = (MODELS_DIR / f'fasttext/fasttext-{size}.model').as_posix()\n",
    "vector_model.save(vector_model_file)\n",
    "print('done.')"
   ]
  },
  {
   "cell_type": "markdown",
   "metadata": {},
   "source": [
    "## Modelling - DNN"
   ]
  },
  {
   "cell_type": "code",
   "execution_count": 26,
   "metadata": {},
   "outputs": [
    {
     "name": "stdout",
     "output_type": "stream",
     "text": [
      "Reviews-test.csv.gzip        raw_contractions.csv\n",
      "Reviews-train.csv.gzip       raw_contractions.txt\n",
      "Reviews.csv                  sampleSubmission.csv\n",
      "amazon-fine-food-reviews.zip testData.tsv\n",
      "hashes.txt                   unlabeledTrainData.tsv\n",
      "labeledTrainData.tsv\n",
      "time: 253 ms\n"
     ]
    }
   ],
   "source": [
    "!ls $DATADIR"
   ]
  },
  {
   "cell_type": "code",
   "execution_count": 27,
   "metadata": {},
   "outputs": [
    {
     "name": "stdout",
     "output_type": "stream",
     "text": [
      "time: 3.45 ms\n"
     ]
    }
   ],
   "source": [
    "tokenizer = Tokenizer(oov_token='<UNK>', lower=True)"
   ]
  },
  {
   "cell_type": "code",
   "execution_count": 29,
   "metadata": {},
   "outputs": [
    {
     "name": "stdout",
     "output_type": "stream",
     "text": [
      "time: 1min 20s\n"
     ]
    }
   ],
   "source": [
    "tokenizer.fit_on_texts(generate_texts(parsed_train_corpus))"
   ]
  },
  {
   "cell_type": "code",
   "execution_count": 30,
   "metadata": {},
   "outputs": [
    {
     "data": {
      "text/plain": [
       "True"
      ]
     },
     "execution_count": 30,
     "metadata": {},
     "output_type": "execute_result"
    },
    {
     "name": "stdout",
     "output_type": "stream",
     "text": [
      "time: 23.2 ms\n"
     ]
    }
   ],
   "source": [
    "'<UNK>' in vector_model.wv"
   ]
  },
  {
   "cell_type": "code",
   "execution_count": 31,
   "metadata": {},
   "outputs": [
    {
     "name": "stdout",
     "output_type": "stream",
     "text": [
      "time: 13.1 s\n"
     ]
    }
   ],
   "source": [
    "embedding_matrix = create_embedding_matrix(tokenizer.word_index, vector_model.wv)"
   ]
  },
  {
   "cell_type": "code",
   "execution_count": 32,
   "metadata": {},
   "outputs": [
    {
     "name": "stdout",
     "output_type": "stream",
     "text": [
      "embedding coverage: 0.9999906332836898\n",
      "time: 83.5 ms\n"
     ]
    }
   ],
   "source": [
    "miss = embedding_matrix.sum(axis=1) == 0\n",
    "miss_idx = np.where(miss)[0]\n",
    "embedding_coverage = 1 - miss.sum() / embedding_matrix.shape[0]\n",
    "print(f'embedding coverage: {embedding_coverage}')"
   ]
  },
  {
   "cell_type": "code",
   "execution_count": 33,
   "metadata": {},
   "outputs": [
    {
     "data": {
      "text/plain": [
       "0"
      ]
     },
     "execution_count": 33,
     "metadata": {},
     "output_type": "execute_result"
    },
    {
     "name": "stdout",
     "output_type": "stream",
     "text": [
      "time: 4.42 ms\n"
     ]
    }
   ],
   "source": [
    "missed_words = [tokenizer.index_word[i] for i in miss_idx[1:]]\n",
    "len(missed_words)"
   ]
  },
  {
   "cell_type": "code",
   "execution_count": 34,
   "metadata": {},
   "outputs": [
    {
     "name": "stdout",
     "output_type": "stream",
     "text": [
      "time: 728 µs\n"
     ]
    }
   ],
   "source": [
    "# \".26.4\".strip('\\'.')"
   ]
  },
  {
   "cell_type": "code",
   "execution_count": 222,
   "metadata": {},
   "outputs": [
    {
     "name": "stdout",
     "output_type": "stream",
     "text": [
      "time: 5.41 ms\n"
     ]
    },
    {
     "data": {
      "text/plain": [
       "\u001b[0;31mSignature:\u001b[0m \u001b[0mMODELS_DIR\u001b[0m\u001b[0;34m.\u001b[0m\u001b[0mmkdir\u001b[0m\u001b[0;34m(\u001b[0m\u001b[0mmode\u001b[0m\u001b[0;34m=\u001b[0m\u001b[0;36m511\u001b[0m\u001b[0;34m,\u001b[0m \u001b[0mparents\u001b[0m\u001b[0;34m=\u001b[0m\u001b[0;32mFalse\u001b[0m\u001b[0;34m,\u001b[0m \u001b[0mexist_ok\u001b[0m\u001b[0;34m=\u001b[0m\u001b[0;32mFalse\u001b[0m\u001b[0;34m)\u001b[0m\u001b[0;34m\u001b[0m\u001b[0m\n",
       "\u001b[0;31mDocstring:\u001b[0m Create a new directory at this given path.\n",
       "\u001b[0;31mFile:\u001b[0m      ~/.pyenv/versions/3.7.0/lib/python3.7/pathlib.py\n",
       "\u001b[0;31mType:\u001b[0m      method\n"
      ]
     },
     "metadata": {},
     "output_type": "display_data"
    }
   ],
   "source": [
    "MODELS_DIR.mkdir?"
   ]
  },
  {
   "cell_type": "code",
   "execution_count": null,
   "metadata": {},
   "outputs": [],
   "source": []
  },
  {
   "cell_type": "code",
   "execution_count": 223,
   "metadata": {},
   "outputs": [
    {
     "name": "stdout",
     "output_type": "stream",
     "text": [
      "time: 2.72 ms\n"
     ]
    }
   ],
   "source": [
    "def get_callbacks(label: str) -> List[Callback]:\n",
    "    early_stopping = EarlyStopping(monitor='val_loss', \n",
    "                                   patience=7, \n",
    "                                   verbose=0, \n",
    "                                   mode='auto', \n",
    "                                   restore_best_weights=True)\n",
    "    \n",
    "    checkpoint_path = MODELS_DIR / label / 'weights.{epoch:02d}-{val_loss:.2f}.hdf5'\n",
    "    if not checkpoint_path.parent.exists():\n",
    "        checkpoint_path.parent.mkdir()\n",
    "        \n",
    "    checkpoint = ModelCheckpoint(checkpoint_path.as_posix(), period=3, save_best_only=True, save_weights_only=True)\n",
    "    \n",
    "    reduce_lr = ReduceLROnPlateau(patience=5)\n",
    "    \n",
    "    log_path = MODELS_DIR / label / 'logs/fit' / datetime.datetime.now().strftime(\"%Y%m%d-%H%M%S\")\n",
    "    if not log_path.exists():\n",
    "        log_path.mkdir(parents=True)\n",
    "        \n",
    "    tensorboard = TensorBoard(log_dir=log_path.as_posix(), histogram_freq=1)\n",
    "\n",
    "    return [early_stopping, checkpoint, reduce_lr, tensorboard]"
   ]
  },
  {
   "cell_type": "code",
   "execution_count": 213,
   "metadata": {},
   "outputs": [
    {
     "name": "stdout",
     "output_type": "stream",
     "text": [
      "time: 6.93 ms\n"
     ]
    }
   ],
   "source": [
    "def compile_simple_model(embedding_matrix: np.ndarray, maxlen: int):\n",
    "    embedding_shape = embedding_matrix.shape\n",
    "    model = Sequential(name='simple-dnn')\n",
    "    model.add(layers.Embedding(embedding_shape[0], embedding_shape[1], input_length=maxlen))\n",
    "    model.add(layers.Flatten())\n",
    "    model.add(layers.Dense(32, activation='relu'))\n",
    "    model.add(layers.Dropout(0.5))\n",
    "    model.add(layers.Dense(1, activation='sigmoid'))\n",
    "    \n",
    "    model.layers[0].set_weights([embedding_matrix])\n",
    "    model.layers[0].trainable = False\n",
    "    model.compile(optimizer='adam', loss='mse')\n",
    "    model.summary()\n",
    "    \n",
    "    return model\n",
    "\n",
    "\n",
    "def compile_conv1d_model(embedding_matrix: np.ndarray, maxlen: int, use_softmax: bool = True):\n",
    "    embedding_shape = embedding_matrix.shape\n",
    "    if use_softmax:\n",
    "        name = 'conv1d-dnn-softmax'\n",
    "    else:\n",
    "        name = 'conv1d-dnn-sigmoid'\n",
    "        \n",
    "    model = Sequential(name=name)\n",
    "    model.add(layers.Embedding(embedding_shape[0], embedding_shape[1], input_length=maxlen))\n",
    "    model.add(layers.SeparableConv1D(32, 9, activation='relu'))\n",
    "    model.add(layers.MaxPool1D(5))\n",
    "    model.add(layers.Flatten())\n",
    "    model.add(layers.Dense(128, activation='relu'))\n",
    "    model.add(layers.Dropout(0.5))\n",
    "    model.add(layers.Dense(64, activation='relu'))\n",
    "    model.add(layers.Dropout(0.5))\n",
    "    \n",
    "    final_layer: layers.Layer\n",
    "    if use_softmax:\n",
    "        final_layer = layers.Dense(5, activation='softmax')\n",
    "        loss = 'sparse_categorical_crossentropy'\n",
    "        eval_metrics = ['acc']\n",
    "    else:\n",
    "        final_layer = layers.Dense(1, activation='sigmoid')\n",
    "        loss = 'mse'\n",
    "        eval_metrics = [kmetrics.mae]\n",
    "        \n",
    "    model.add(final_layer)\n",
    "\n",
    "    model.layers[0].set_weights([embedding_matrix])\n",
    "    model.layers[0].trainable = False\n",
    "    model.compile(optimizer='adam', loss=loss, metrics=eval_metrics)\n",
    "    model.summary()\n",
    "    \n",
    "    return model\n",
    "\n",
    "def compile_pos_model(word_embeddings: np.ndarray, pos_embedding_dims: Tuple[int, int], maxlen: int, use_softmax: bool = True):\n",
    "    word_embedding_shape = word_embeddings.shape\n",
    "    if use_softmax:\n",
    "        name = 'conv1d-dnn-softmax'\n",
    "    else:\n",
    "        name = 'conv1d-dnn-sigmoid'\n",
    "        \n",
    "    final_layer: layers.Layer\n",
    "    if use_softmax:\n",
    "        final_layer = layers.Dense(5, activation='softmax')\n",
    "        loss = 'sparse_categorical_crossentropy'\n",
    "        eval_metrics = ['acc']\n",
    "    else:\n",
    "        final_layer = layers.Dense(1, activation='sigmoid')\n",
    "        loss = 'mse'\n",
    "        eval_metrics = [kmetrics.mae]\n",
    "        \n",
    "    model.add(layers.Dense(5, activation='softmax'))\n",
    "\n",
    "    model.layers[0].set_weights([embedding_matrix])\n",
    "    model.layers[0].trainable = False\n",
    "    model.compile(optimizer='adam', loss=loss, metrics=eval_metrics)\n",
    "    model.summary()\n",
    "    \n",
    "    return model"
   ]
  },
  {
   "cell_type": "code",
   "execution_count": 129,
   "metadata": {},
   "outputs": [
    {
     "name": "stdout",
     "output_type": "stream",
     "text": [
      "time: 212 ms\n"
     ]
    }
   ],
   "source": [
    "doc_lengths = np.array([len(doc) for doc, i in parsed_train_corpus])"
   ]
  },
  {
   "cell_type": "code",
   "execution_count": 90,
   "metadata": {},
   "outputs": [
    {
     "name": "stdout",
     "output_type": "stream",
     "text": [
      "90% of the documents are at most 188.0 words. We'll limit us to this maxlen for our classifiers sequences\n",
      "time: 6.37 ms\n"
     ]
    }
   ],
   "source": [
    "q = 90\n",
    "p = np.percentile(doc_lengths, q)\n",
    "print(f'{q}% of the documents are at most {p} words. We\\'ll limit us to this maxlen for our classifiers sequences')"
   ]
  },
  {
   "cell_type": "markdown",
   "metadata": {},
   "source": []
  },
  {
   "cell_type": "code",
   "execution_count": 217,
   "metadata": {},
   "outputs": [
    {
     "name": "stdout",
     "output_type": "stream",
     "text": [
      "time: 2.31 ms\n"
     ]
    }
   ],
   "source": [
    "maxlen = 250\n",
    "epochs = 40\n",
    "batch_size = 128\n",
    "validation_split = 0.2"
   ]
  },
  {
   "cell_type": "code",
   "execution_count": null,
   "metadata": {},
   "outputs": [],
   "source": []
  },
  {
   "cell_type": "code",
   "execution_count": 187,
   "metadata": {},
   "outputs": [
    {
     "name": "stdout",
     "output_type": "stream",
     "text": [
      "time: 767 µs\n"
     ]
    }
   ],
   "source": [
    "# model = compile_simple_model(embedding_matrix, maxlen)"
   ]
  },
  {
   "cell_type": "code",
   "execution_count": 214,
   "metadata": {},
   "outputs": [
    {
     "name": "stdout",
     "output_type": "stream",
     "text": [
      "Model: \"conv1d-dnn-sigmoid\"\n",
      "_________________________________________________________________\n",
      "Layer (type)                 Output Shape              Param #   \n",
      "=================================================================\n",
      "embedding_27 (Embedding)     (None, 250, 300)          32028300  \n",
      "_________________________________________________________________\n",
      "separable_conv1d_22 (Separab (None, 242, 32)           12332     \n",
      "_________________________________________________________________\n",
      "max_pooling1d_21 (MaxPooling (None, 48, 32)            0         \n",
      "_________________________________________________________________\n",
      "flatten_27 (Flatten)         (None, 1536)              0         \n",
      "_________________________________________________________________\n",
      "dense_75 (Dense)             (None, 128)               196736    \n",
      "_________________________________________________________________\n",
      "dropout_39 (Dropout)         (None, 128)               0         \n",
      "_________________________________________________________________\n",
      "dense_76 (Dense)             (None, 64)                8256      \n",
      "_________________________________________________________________\n",
      "dropout_40 (Dropout)         (None, 64)                0         \n",
      "_________________________________________________________________\n",
      "dense_77 (Dense)             (None, 1)                 65        \n",
      "=================================================================\n",
      "Total params: 32,245,689\n",
      "Trainable params: 217,389\n",
      "Non-trainable params: 32,028,300\n",
      "_________________________________________________________________\n",
      "time: 448 ms\n"
     ]
    }
   ],
   "source": [
    "model = compile_conv1d_model(embedding_matrix, maxlen, use_softmax=False)"
   ]
  },
  {
   "cell_type": "code",
   "execution_count": 215,
   "metadata": {},
   "outputs": [
    {
     "name": "stdout",
     "output_type": "stream",
     "text": [
      "time: 25.1 ms\n"
     ]
    }
   ],
   "source": [
    "score_scaler = ScoreScaler()\n",
    "train_targets = score_scaler.fit_transform(scores_train)"
   ]
  },
  {
   "cell_type": "code",
   "execution_count": 144,
   "metadata": {},
   "outputs": [
    {
     "name": "stdout",
     "output_type": "stream",
     "text": [
      "time: 3.41 ms\n"
     ]
    }
   ],
   "source": [
    "cat_train = scores_train - 1"
   ]
  },
  {
   "cell_type": "code",
   "execution_count": 189,
   "metadata": {},
   "outputs": [
    {
     "name": "stdout",
     "output_type": "stream",
     "text": [
      "time: 1min 34s\n"
     ]
    }
   ],
   "source": [
    "train_sequences = pad_sequences(tokenizer.texts_to_sequences(generate_texts(parsed_train_corpus)), maxlen=maxlen)\n",
    "devtest_sequences = pad_sequences(tokenizer.texts_to_sequences(generate_texts(parsed_devtest_corpus)), maxlen=maxlen)"
   ]
  },
  {
   "cell_type": "code",
   "execution_count": 224,
   "metadata": {},
   "outputs": [
    {
     "name": "stdout",
     "output_type": "stream",
     "text": [
      "Train on 306964 samples, validate on 76742 samples\n",
      "Epoch 1/40\n",
      "306964/306964 [==============================] - 194s 631us/sample - loss: 0.0369 - mean_absolute_error: 0.1264 - val_loss: 0.0286 - val_mean_absolute_error: 0.1014\n",
      "Epoch 2/40\n",
      "306964/306964 [==============================] - 195s 634us/sample - loss: 0.0277 - mean_absolute_error: 0.1031 - val_loss: 0.0260 - val_mean_absolute_error: 0.0982\n",
      "Epoch 3/40\n",
      "306964/306964 [==============================] - 182s 591us/sample - loss: 0.0249 - mean_absolute_error: 0.0957 - val_loss: 0.0255 - val_mean_absolute_error: 0.0968\n",
      "Epoch 4/40\n",
      "306964/306964 [==============================] - 184s 600us/sample - loss: 0.0234 - mean_absolute_error: 0.0917 - val_loss: 0.0254 - val_mean_absolute_error: 0.0955\n",
      "Epoch 5/40\n",
      "306964/306964 [==============================] - 187s 609us/sample - loss: 0.0223 - mean_absolute_error: 0.0885 - val_loss: 0.0238 - val_mean_absolute_error: 0.0879\n",
      "Epoch 6/40\n",
      "306964/306964 [==============================] - 188s 613us/sample - loss: 0.0214 - mean_absolute_error: 0.0860 - val_loss: 0.0237 - val_mean_absolute_error: 0.0863\n",
      "Epoch 7/40\n",
      "306964/306964 [==============================] - 188s 613us/sample - loss: 0.0205 - mean_absolute_error: 0.0836 - val_loss: 0.0232 - val_mean_absolute_error: 0.0866\n",
      "Epoch 8/40\n",
      "306964/306964 [==============================] - 190s 619us/sample - loss: 0.0200 - mean_absolute_error: 0.0823 - val_loss: 0.0244 - val_mean_absolute_error: 0.0836\n",
      "Epoch 9/40\n",
      "306964/306964 [==============================] - 188s 612us/sample - loss: 0.0194 - mean_absolute_error: 0.0805 - val_loss: 0.0246 - val_mean_absolute_error: 0.0949\n",
      "Epoch 10/40\n",
      "306964/306964 [==============================] - 190s 619us/sample - loss: 0.0190 - mean_absolute_error: 0.0793 - val_loss: 0.0232 - val_mean_absolute_error: 0.0835\n",
      "Epoch 11/40\n",
      "306964/306964 [==============================] - 191s 621us/sample - loss: 0.0185 - mean_absolute_error: 0.0779 - val_loss: 0.0229 - val_mean_absolute_error: 0.0828\n",
      "Epoch 12/40\n",
      "306964/306964 [==============================] - 190s 620us/sample - loss: 0.0181 - mean_absolute_error: 0.0769 - val_loss: 0.0230 - val_mean_absolute_error: 0.0877\n",
      "Epoch 13/40\n",
      "306964/306964 [==============================] - 187s 610us/sample - loss: 0.0178 - mean_absolute_error: 0.0759 - val_loss: 0.0223 - val_mean_absolute_error: 0.0838\n",
      "Epoch 14/40\n",
      "306964/306964 [==============================] - 187s 610us/sample - loss: 0.0174 - mean_absolute_error: 0.0750 - val_loss: 0.0231 - val_mean_absolute_error: 0.0841\n",
      "Epoch 15/40\n",
      "306964/306964 [==============================] - 187s 610us/sample - loss: 0.0172 - mean_absolute_error: 0.0742 - val_loss: 0.0234 - val_mean_absolute_error: 0.0808\n",
      "Epoch 16/40\n",
      "306964/306964 [==============================] - 181s 588us/sample - loss: 0.0168 - mean_absolute_error: 0.0732 - val_loss: 0.0222 - val_mean_absolute_error: 0.0815\n",
      "Epoch 17/40\n",
      "306964/306964 [==============================] - 182s 593us/sample - loss: 0.0166 - mean_absolute_error: 0.0727 - val_loss: 0.0222 - val_mean_absolute_error: 0.0810\n",
      "Epoch 18/40\n",
      "306964/306964 [==============================] - 189s 617us/sample - loss: 0.0164 - mean_absolute_error: 0.0720 - val_loss: 0.0226 - val_mean_absolute_error: 0.0785\n",
      "Epoch 19/40\n",
      "306964/306964 [==============================] - 190s 619us/sample - loss: 0.0162 - mean_absolute_error: 0.0712 - val_loss: 0.0220 - val_mean_absolute_error: 0.0816\n",
      "Epoch 20/40\n",
      "306964/306964 [==============================] - 190s 618us/sample - loss: 0.0160 - mean_absolute_error: 0.0707 - val_loss: 0.0221 - val_mean_absolute_error: 0.0805\n",
      "Epoch 21/40\n",
      "306964/306964 [==============================] - 192s 626us/sample - loss: 0.0158 - mean_absolute_error: 0.0702 - val_loss: 0.0222 - val_mean_absolute_error: 0.0794\n",
      "Epoch 22/40\n",
      "306964/306964 [==============================] - 189s 617us/sample - loss: 0.0156 - mean_absolute_error: 0.0696 - val_loss: 0.0228 - val_mean_absolute_error: 0.0784\n",
      "Epoch 23/40\n",
      "306964/306964 [==============================] - 189s 615us/sample - loss: 0.0154 - mean_absolute_error: 0.0690 - val_loss: 0.0226 - val_mean_absolute_error: 0.0827\n",
      "Epoch 24/40\n",
      "306964/306964 [==============================] - 189s 614us/sample - loss: 0.0153 - mean_absolute_error: 0.0685 - val_loss: 0.0225 - val_mean_absolute_error: 0.0786\n",
      "Epoch 25/40\n",
      "306964/306964 [==============================] - 186s 605us/sample - loss: 0.0139 - mean_absolute_error: 0.0652 - val_loss: 0.0222 - val_mean_absolute_error: 0.0773\n",
      "Epoch 26/40\n",
      "306964/306964 [==============================] - 191s 622us/sample - loss: 0.0136 - mean_absolute_error: 0.0639 - val_loss: 0.0222 - val_mean_absolute_error: 0.0769\n",
      "time: 1h 21min 36s\n"
     ]
    }
   ],
   "source": [
    "callbacks = get_callbacks(model.name)\n",
    "\n",
    "history = model.fit(train_sequences, \n",
    "          train_targets,\n",
    "          epochs=epochs,\n",
    "          batch_size=batch_size,\n",
    "          validation_split=validation_split,\n",
    "          callbacks=callbacks)"
   ]
  },
  {
   "cell_type": "code",
   "execution_count": 226,
   "metadata": {},
   "outputs": [
    {
     "data": {
      "image/png": "[encoded data removed]",
      "text/plain": [
       "<Figure size 864x360 with 1 Axes>"
      ]
     },
     "metadata": {},
     "output_type": "display_data"
    },
    {
     "name": "stdout",
     "output_type": "stream",
     "text": [
      "time: 224 ms\n"
     ]
    }
   ],
   "source": [
    "summary = pd.DataFrame(history.history)\n",
    "\n",
    "ax = summary[['loss', 'val_loss']].plot(figsize=(12, 5), title='Loss History')\n",
    "ax.set_xlabel('Epochs');\n",
    "ax.set_ylabel('Loss');\n",
    "\n",
    "# ax = summary[['acc', 'val_acc']].plot(figsize=(12, 5), title='Acc History')\n",
    "# ax.set_xlabel('Epochs');\n",
    "# ax.set_ylabel('acc');"
   ]
  },
  {
   "cell_type": "code",
   "execution_count": null,
   "metadata": {},
   "outputs": [],
   "source": []
  },
  {
   "cell_type": "code",
   "execution_count": 229,
   "metadata": {},
   "outputs": [
    {
     "name": "stdout",
     "output_type": "stream",
     "text": [
      "time: 28.1 s\n"
     ]
    }
   ],
   "source": [
    "y_pred = predict_scores(devtest_sequences, model, score_scaler)\n",
    "# cat_pred = model.predict_classes(devtest_sequences)\n",
    "# y_pred = cat_pred + 1"
   ]
  },
  {
   "cell_type": "code",
   "execution_count": 230,
   "metadata": {},
   "outputs": [
    {
     "name": "stdout",
     "output_type": "stream",
     "text": [
      "AUROC: 0.708\n",
      "MCC: 0.470\n",
      "              precision    recall  f1-score   support\n",
      "\n",
      "           1       0.83      0.39      0.53     11749\n",
      "           2       0.29      0.49      0.37      6701\n",
      "           3       0.39      0.42      0.40      9611\n",
      "           4       0.36      0.37      0.37     18145\n",
      "           5       0.87      0.88      0.87     81696\n",
      "\n",
      "    accuracy                           0.71    127902\n",
      "   macro avg       0.55      0.51      0.51    127902\n",
      "weighted avg       0.73      0.71      0.71    127902\n",
      "\n"
     ]
    },
    {
     "data": {
      "image/png": "[encoded data removed]",
      "text/plain": [
       "<Figure size 720x720 with 2 Axes>"
      ]
     },
     "metadata": {},
     "output_type": "display_data"
    },
    {
     "name": "stdout",
     "output_type": "stream",
     "text": [
      "time: 741 ms\n"
     ]
    }
   ],
   "source": [
    "report = evaluate_prediction(scores_devtest, y_pred)\n"
   ]
  },
  {
   "cell_type": "code",
   "execution_count": 210,
   "metadata": {},
   "outputs": [
    {
     "name": "stdin",
     "output_type": "stream",
     "text": [
      "overwrite ../reports/conv1d-dnn-softmax.json? (Y/N) Y\n"
     ]
    },
    {
     "name": "stdout",
     "output_type": "stream",
     "text": [
      "time: 1.55 s\n"
     ]
    }
   ],
   "source": [
    "report_label = model.name\n",
    "report_path = REPORTS_DIR / f'{report_label}.json'\n",
    "if report_path.exists():\n",
    "    overwrite = input(f'overwrite {report_path}? (Y/N)')\n",
    "    if overwrite == 'Y':\n",
    "        save_report(report, REPORTS_DIR, label=report_label)\n",
    "else:\n",
    "    save_report(report, REPORTS_DIR, label=report_label)"
   ]
  },
  {
   "cell_type": "code",
   "execution_count": null,
   "metadata": {},
   "outputs": [],
   "source": []
  }
 ],
 "metadata": {
  "kernelspec": {
   "display_name": "Python 3",
   "language": "python",
   "name": "python3"
  },
  "language_info": {
   "codemirror_mode": {
    "name": "ipython",
    "version": 3
   },
   "file_extension": ".py",
   "mimetype": "text/x-python",
   "name": "python",
   "nbconvert_exporter": "python",
   "pygments_lexer": "ipython3",
   "version": "3.7.0"
  }
 },
 "nbformat": 4,
 "nbformat_minor": 2
}
